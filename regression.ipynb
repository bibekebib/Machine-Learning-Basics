{
  "cells": [
    {
      "cell_type": "code",
      "metadata": {
        "tags": [],
        "cell_id": "00000-86822741-78de-4c0a-a945-599de40d57ba",
        "deepnote_to_be_reexecuted": false,
        "source_hash": "64857bd1",
        "execution_millis": 2,
        "execution_start": 1617273433467,
        "deepnote_cell_type": "code"
      },
      "source": "import math\nfrom statistics import mean\nimport numpy as np\nimport matplotlib.pyplot as plt\nfrom matplotlib import style",
      "outputs": [],
      "execution_count": null
    },
    {
      "cell_type": "code",
      "source": "# xs = np.array([1,2,3,4,5,6], dtype = np.float64)\n# ys = np.array([5,4,6,5,6,7], dtype = np.float64)\nplt.scatter(xs, ys)\nplt.show()",
      "metadata": {
        "tags": [],
        "cell_id": "00001-897ed0bd-ae4c-49a3-ac32-beec2f2e596f",
        "deepnote_to_be_reexecuted": false,
        "source_hash": "e3b7911b",
        "execution_millis": 117,
        "execution_start": 1617277140609,
        "deepnote_cell_type": "code"
      },
      "outputs": [
        {
          "data": {
            "text/plain": "<Figure size 432x288 with 1 Axes>",
            "image/png": "[encoded data removed]"
          },
          "metadata": {},
          "output_type": "display_data"
        }
      ],
      "execution_count": null
    },
    {
      "cell_type": "code",
      "source": "import random\ndef create_dataset(hm, variance, step=2, correlation=False):\n    val =1\n    ys =[]\n    for i in range(hm):\n        y = val + random.randrange(-variance, variance)\n        ys.append(y)\n        if correlation and correlation == 'pos':\n            val+=step\n        elif correlation and correlation == 'neg':\n            val-=step\n    xs = [i for i in range(len(ys))]\n    return np.array(xs, dtype=np.float64), np.array(ys, dtype=np.float64)\n\nxs, ys = create_dataset(40, 10, 2, correlation='pos')",
      "metadata": {
        "tags": [],
        "cell_id": "00002-585e02b0-b68b-40a4-b9f6-edd4f5cd7839",
        "deepnote_to_be_reexecuted": false,
        "source_hash": "fc0b8354",
        "execution_millis": 1,
        "execution_start": 1617277138095,
        "deepnote_cell_type": "code"
      },
      "outputs": [],
      "execution_count": null
    },
    {
      "cell_type": "code",
      "source": "def best_fit_slope(xs, ys):\n    m = (mean(xs) * mean(ys) - mean(xs * ys)) / (mean(xs)*mean(xs) - mean(xs*xs)) \n    return m",
      "metadata": {
        "tags": [],
        "cell_id": "00002-ace63f01-1f2b-4cac-8012-b69ba22a1144",
        "deepnote_to_be_reexecuted": false,
        "source_hash": "dc3a34b0",
        "execution_millis": 3,
        "execution_start": 1617277066864,
        "deepnote_cell_type": "code"
      },
      "outputs": [],
      "execution_count": null
    },
    {
      "cell_type": "code",
      "source": "m = best_fit_slope(xs, ys)",
      "metadata": {
        "tags": [],
        "cell_id": "00003-0c659078-a9e1-44df-aecf-41dfd52a5d21",
        "deepnote_to_be_reexecuted": false,
        "source_hash": "25ba9187",
        "execution_millis": 0,
        "execution_start": 1617277066916,
        "deepnote_cell_type": "code"
      },
      "outputs": [],
      "execution_count": null
    },
    {
      "cell_type": "code",
      "source": "m",
      "metadata": {
        "tags": [],
        "cell_id": "00004-79208707-6835-4558-95d3-1007ba3c01c1",
        "deepnote_to_be_reexecuted": false,
        "source_hash": "cb73fd5b",
        "execution_millis": 20,
        "execution_start": 1617277069563,
        "deepnote_cell_type": "code"
      },
      "outputs": [
        {
          "output_type": "execute_result",
          "execution_count": 97,
          "data": {
            "text/plain": "2.0862101313320838"
          },
          "metadata": {}
        }
      ],
      "execution_count": null
    },
    {
      "cell_type": "code",
      "source": "def calculate_b(xs, ys):\n    b = mean(ys) - m*mean(xs)\n    return b",
      "metadata": {
        "tags": [],
        "cell_id": "00005-526cab7c-f803-447a-acc5-7d015d80e25f",
        "deepnote_to_be_reexecuted": false,
        "source_hash": "3093f265",
        "execution_millis": 41,
        "execution_start": 1617277069573,
        "deepnote_cell_type": "code"
      },
      "outputs": [],
      "execution_count": null
    },
    {
      "cell_type": "code",
      "source": "b = calculate_b(xs, ys)\nb",
      "metadata": {
        "tags": [],
        "cell_id": "00006-e21725cb-dad6-4d25-9c41-db45cfa5838a",
        "deepnote_to_be_reexecuted": false,
        "source_hash": "5a3e9c7",
        "execution_millis": 6,
        "execution_start": 1617277069615,
        "deepnote_cell_type": "code"
      },
      "outputs": [
        {
          "output_type": "execute_result",
          "execution_count": 99,
          "data": {
            "text/plain": "-1.0060975609756397"
          },
          "metadata": {}
        }
      ],
      "execution_count": null
    },
    {
      "cell_type": "code",
      "source": "regression_line = [(m * x) + b for x in xs]\n\npredict_x = 9\npredict_y = m*predict_x + b\n",
      "metadata": {
        "tags": [],
        "cell_id": "00007-21e6fcfa-03e4-43cb-834c-1622833b0f88",
        "deepnote_to_be_reexecuted": false,
        "source_hash": "cc5699c0",
        "execution_millis": 1,
        "execution_start": 1617277069615,
        "deepnote_cell_type": "code"
      },
      "outputs": [],
      "execution_count": null
    },
    {
      "cell_type": "code",
      "source": "style.use('fivethirtyeight')\nplt.scatter(xs, ys)\nplt.scatter(predict_x, predict_y, color='r')\nplt.plot(xs, regression_line)\n",
      "metadata": {
        "tags": [],
        "cell_id": "00008-dce6cf26-cc08-4048-8add-61f17750844e",
        "deepnote_to_be_reexecuted": false,
        "source_hash": "dc5b9073",
        "execution_millis": 135,
        "execution_start": 1617277072243,
        "deepnote_cell_type": "code"
      },
      "outputs": [
        {
          "output_type": "execute_result",
          "execution_count": 101,
          "data": {
            "text/plain": "[<matplotlib.lines.Line2D at 0x7fcfd8acad10>]"
          },
          "metadata": {}
        },
        {
          "data": {
            "text/plain": "<Figure size 432x288 with 1 Axes>",
            "image/png": "[encoded data removed]"
          },
          "metadata": {},
          "output_type": "display_data"
        }
      ],
      "execution_count": null
    },
    {
      "cell_type": "code",
      "source": "",
      "metadata": {
        "tags": [],
        "cell_id": "00009-15147cbe-ad2f-49b4-80d5-523643720449",
        "deepnote_to_be_reexecuted": false,
        "source_hash": "b623e53d",
        "execution_millis": 5,
        "execution_start": 1617276933835,
        "deepnote_cell_type": "code"
      },
      "outputs": [],
      "execution_count": null
    },
    {
      "cell_type": "markdown",
      "source": "# R--Squared Theory part",
      "metadata": {
        "tags": [],
        "cell_id": "00010-d944e56f-a48e-4bd6-b3f3-3973de3f212b",
        "deepnote_cell_type": "markdown"
      }
    },
    {
      "cell_type": "code",
      "source": "def squared_error(ys_orig, ys_line):\n    return sum((ys_line - ys_orig)**2)\n\ndef coeff_of_determination(ys_orig, ys_line):\n    y_mean_line = [mean(ys_orig) for y in ys_orig]\n\n    squared_error_reg = squared_error(ys_orig, ys_line)\n    squared_error_y_mean = squared_error(ys_orig, y_mean_line)\n    return 1 - (squared_error_reg / squared_error_y_mean)",
      "metadata": {
        "tags": [],
        "cell_id": "00011-8dfaeef1-9add-4476-a15d-169a5a9e6a5e",
        "deepnote_to_be_reexecuted": false,
        "source_hash": "38f4ccdd",
        "execution_millis": 0,
        "execution_start": 1617277082949,
        "deepnote_cell_type": "code"
      },
      "outputs": [],
      "execution_count": null
    },
    {
      "cell_type": "code",
      "source": "r_squ = coeff_of_determination(ys, regression_line)",
      "metadata": {
        "tags": [],
        "cell_id": "00012-48112488-75e0-4a46-9ad2-eae31e7197f0",
        "deepnote_to_be_reexecuted": false,
        "source_hash": "ff4c6f00",
        "execution_millis": 1,
        "execution_start": 1617277083312,
        "deepnote_cell_type": "code"
      },
      "outputs": [],
      "execution_count": null
    },
    {
      "cell_type": "code",
      "source": "r_squ",
      "metadata": {
        "tags": [],
        "cell_id": "00013-57b007eb-8561-48ee-b982-856099b21e1d",
        "deepnote_to_be_reexecuted": false,
        "source_hash": "621ca506",
        "execution_millis": 0,
        "execution_start": 1617277085119,
        "deepnote_cell_type": "code"
      },
      "outputs": [
        {
          "output_type": "execute_result",
          "execution_count": 104,
          "data": {
            "text/plain": "0.9404396624750131"
          },
          "metadata": {}
        }
      ],
      "execution_count": null
    },
    {
      "cell_type": "markdown",
      "source": "# Actual Working code with data",
      "metadata": {
        "tags": [],
        "cell_id": "00014-19293584-a018-4bc6-99d2-a30288d56fa6",
        "deepnote_cell_type": "markdown"
      }
    },
    {
      "cell_type": "code",
      "source": "\nprint(len(xs), len(ys))\n",
      "metadata": {
        "tags": [],
        "cell_id": "00014-f228cd7d-baf3-44fa-afa1-a344e4f71ef2",
        "deepnote_to_be_reexecuted": false,
        "source_hash": "2a157bf3",
        "execution_millis": 10,
        "execution_start": 1617276941836,
        "deepnote_cell_type": "code"
      },
      "outputs": [
        {
          "name": "stdout",
          "text": "40 40\n",
          "output_type": "stream"
        }
      ],
      "execution_count": null
    },
    {
      "cell_type": "code",
      "source": "",
      "metadata": {
        "tags": [],
        "cell_id": "00016-9e46dae6-88ff-45de-8ddb-4563a275712d",
        "deepnote_cell_type": "code"
      },
      "outputs": [],
      "execution_count": null
    },
    {
      "cell_type": "markdown",
      "source": "<a style='text-decoration:none;line-height:16px;display:flex;color:#5B5B62;padding:10px;justify-content:end;' href='https://deepnote.com?utm_source=created-in-deepnote-cell&projectId=cf5d7c74-8209-4abb-b75d-35494431ca44' target=\"_blank\">\n<img alt='Created in deepnote.com' style='display:inline;max-height:16px;margin:0px;margin-right:7.5px;' src='data:image/svg+xml;base64,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' > </img>\nCreated in <span style='font-weight:600;margin-left:4px;'>Deepnote</span></a>",
      "metadata": {
        "tags": [],
        "created_in_deepnote_cell": true,
        "deepnote_cell_type": "markdown"
      }
    }
  ],
  "nbformat": 4,
  "nbformat_minor": 2,
  "metadata": {
    "orig_nbformat": 2,
    "deepnote_notebook_id": "c75ee27d-4564-4d3b-9766-5a8855878ccb",
    "deepnote": {},
    "deepnote_execution_queue": []
  }
}