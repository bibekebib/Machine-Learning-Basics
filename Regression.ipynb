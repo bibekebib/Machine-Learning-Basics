{
  "cells": [
    {
      "cell_type": "code",
      "metadata": {
        "cell_id": "00000-31e27d17-0fbd-4b46-9f61-2f22cc107212",
        "deepnote_to_be_reexecuted": false,
        "source_hash": "163e99be",
        "execution_millis": 7,
        "execution_start": 1617277449838,
        "deepnote_cell_type": "code"
      },
      "source": "import pandas as pd\nimport quandl\nimport math, datetime\nimport numpy as np\nfrom sklearn import preprocessing, svm\nfrom  sklearn.model_selection import train_test_split\nfrom sklearn.linear_model import LinearRegression\nimport matplotlib.pyplot as plt\nfrom matplotlib import style\nstyle.use('ggplot')",
      "execution_count": 47,
      "outputs": []
    },
    {
      "cell_type": "code",
      "metadata": {
        "cell_id": "00001-12ed8f00-4a2b-4c7e-b460-23b0523b7779",
        "deepnote_to_be_reexecuted": false,
        "source_hash": "a5a2174e",
        "execution_millis": 1467,
        "execution_start": 1617277449848,
        "deepnote_cell_type": "code"
      },
      "source": "df = quandl.get('WIKI/GOOGL')",
      "execution_count": 48,
      "outputs": []
    },
    {
      "cell_type": "code",
      "metadata": {
        "cell_id": "00002-11f2f655-3797-45d4-b76f-418b1324609c",
        "deepnote_to_be_reexecuted": false,
        "source_hash": "f804c160",
        "execution_millis": 82,
        "execution_start": 1617277451315,
        "deepnote_cell_type": "code"
      },
      "source": "df",
      "execution_count": 49,
      "outputs": [
        {
          "output_type": "execute_result",
          "execution_count": 49,
          "data": {
            "application/vnd.deepnote.dataframe.v2+json": {
              "row_count": 3424,
              "column_count": 12,
              "columns": [
                {
                  "name": "Open",
                  "dtype": "float64",
                  "stats": {
                    "unique_count": 3265,
                    "nan_count": 0,
                    "min": 99.09,
                    "max": 1226.8,
                    "histogram": [
                      {
                        "bin_start": 99.09,
                        "bin_end": 211.861,
                        "count": 169
                      },
                      {
                        "bin_start": 211.861,
                        "bin_end": 324.632,
                        "count": 184
                      },
                      {
                        "bin_start": 324.632,
                        "bin_end": 437.403,
                        "count": 402
                      },
                      {
                        "bin_start": 437.403,
                        "bin_end": 550.174,
                        "count": 827
                      },
                      {
                        "bin_start": 550.174,
                        "bin_end": 662.945,
                        "count": 746
                      },
                      {
                        "bin_start": 662.945,
                        "bin_end": 775.716,
                        "count": 383
                      },
                      {
                        "bin_start": 775.716,
                        "bin_end": 888.4870000000001,
                        "count": 327
                      },
                      {
                        "bin_start": 888.4870000000001,
                        "bin_end": 1001.258,
                        "count": 161
                      },
                      {
                        "bin_start": 1001.258,
                        "bin_end": 1114.029,
                        "count": 133
                      },
                      {
                        "bin_start": 1114.029,
                        "bin_end": 1226.8,
                        "count": 92
                      }
                    ]
                  }
                },
                {
                  "name": "High",
                  "dtype": "float64",
                  "stats": {
                    "unique_count": 3259,
                    "nan_count": 0,
                    "min": 101.74,
                    "max": 1228.88,
                    "histogram": [
                      {
                        "bin_start": 101.74,
                        "bin_end": 214.454,
                        "count": 169
                      },
                      {
                        "bin_start": 214.454,
                        "bin_end": 327.168,
                        "count": 178
                      },
                      {
                        "bin_start": 327.168,
                        "bin_end": 439.88200000000006,
                        "count": 391
                      },
                      {
                        "bin_start": 439.88200000000006,
                        "bin_end": 552.596,
                        "count": 808
                      },
                      {
                        "bin_start": 552.596,
                        "bin_end": 665.3100000000001,
                        "count": 770
                      },
                      {
                        "bin_start": 665.3100000000001,
                        "bin_end": 778.0240000000001,
                        "count": 382
                      },
                      {
                        "bin_start": 778.0240000000001,
                        "bin_end": 890.738,
                        "count": 330
                      },
                      {
                        "bin_start": 890.738,
                        "bin_end": 1003.4520000000001,
                        "count": 164
                      },
                      {
                        "bin_start": 1003.4520000000001,
                        "bin_end": 1116.1660000000002,
                        "count": 132
                      },
                      {
                        "bin_start": 1116.1660000000002,
                        "bin_end": 1228.88,
                        "count": 100
                      }
                    ]
                  }
                },
                {
                  "name": "Low",
                  "dtype": "float64",
                  "stats": {
                    "unique_count": 3304,
                    "nan_count": 0,
                    "min": 95.96,
                    "max": 1218.6,
                    "histogram": [
                      {
                        "bin_start": 95.96,
                        "bin_end": 208.224,
                        "count": 170
                      },
                      {
                        "bin_start": 208.224,
                        "bin_end": 320.48799999999994,
                        "count": 189
                      },
                      {
                        "bin_start": 320.48799999999994,
                        "bin_end": 432.7519999999999,
                        "count": 402
                      },
                      {
                        "bin_start": 432.7519999999999,
                        "bin_end": 545.016,
                        "count": 823
                      },
                      {
                        "bin_start": 545.016,
                        "bin_end": 657.28,
                        "count": 751
                      },
                      {
                        "bin_start": 657.28,
                        "bin_end": 769.5439999999999,
                        "count": 382
                      },
                      {
                        "bin_start": 769.5439999999999,
                        "bin_end": 881.8079999999999,
                        "count": 317
                      },
                      {
                        "bin_start": 881.8079999999999,
                        "bin_end": 994.0719999999999,
                        "count": 164
                      },
                      {
                        "bin_start": 994.0719999999999,
                        "bin_end": 1106.3359999999998,
                        "count": 134
                      },
                      {
                        "bin_start": 1106.3359999999998,
                        "bin_end": 1218.6,
                        "count": 92
                      }
                    ]
                  }
                },
                {
                  "name": "Close",
                  "dtype": "float64",
                  "stats": {
                    "unique_count": 3327,
                    "nan_count": 0,
                    "min": 100.01,
                    "max": 1220.17,
                    "histogram": [
                      {
                        "bin_start": 100.01,
                        "bin_end": 212.026,
                        "count": 170
                      },
                      {
                        "bin_start": 212.026,
                        "bin_end": 324.04200000000003,
                        "count": 182
                      },
                      {
                        "bin_start": 324.04200000000003,
                        "bin_end": 436.058,
                        "count": 398
                      },
                      {
                        "bin_start": 436.058,
                        "bin_end": 548.0740000000001,
                        "count": 805
                      },
                      {
                        "bin_start": 548.0740000000001,
                        "bin_end": 660.09,
                        "count": 768
                      },
                      {
                        "bin_start": 660.09,
                        "bin_end": 772.106,
                        "count": 379
                      },
                      {
                        "bin_start": 772.106,
                        "bin_end": 884.1220000000001,
                        "count": 320
                      },
                      {
                        "bin_start": 884.1220000000001,
                        "bin_end": 996.138,
                        "count": 172
                      },
                      {
                        "bin_start": 996.138,
                        "bin_end": 1108.154,
                        "count": 131
                      },
                      {
                        "bin_start": 1108.154,
                        "bin_end": 1220.17,
                        "count": 99
                      }
                    ]
                  }
                },
                {
                  "name": "Volume",
                  "dtype": "float64",
                  "stats": {
                    "unique_count": 3396,
                    "nan_count": 0,
                    "min": 521141,
                    "max": 82151100,
                    "histogram": [
                      {
                        "bin_start": 521141,
                        "bin_end": 8684136.9,
                        "count": 2408
                      },
                      {
                        "bin_start": 8684136.9,
                        "bin_end": 16847132.8,
                        "count": 661
                      },
                      {
                        "bin_start": 16847132.8,
                        "bin_end": 25010128.700000003,
                        "count": 216
                      },
                      {
                        "bin_start": 25010128.700000003,
                        "bin_end": 33173124.6,
                        "count": 72
                      },
                      {
                        "bin_start": 33173124.6,
                        "bin_end": 41336120.5,
                        "count": 33
                      },
                      {
                        "bin_start": 41336120.5,
                        "bin_end": 49499116.400000006,
                        "count": 20
                      },
                      {
                        "bin_start": 49499116.400000006,
                        "bin_end": 57662112.300000004,
                        "count": 4
                      },
                      {
                        "bin_start": 57662112.300000004,
                        "bin_end": 65825108.2,
                        "count": 3
                      },
                      {
                        "bin_start": 65825108.2,
                        "bin_end": 73988104.10000001,
                        "count": 4
                      },
                      {
                        "bin_start": 73988104.10000001,
                        "bin_end": 82151100,
                        "count": 3
                      }
                    ]
                  }
                },
                {
                  "name": "Ex-Dividend",
                  "dtype": "float64",
                  "stats": {
                    "unique_count": 2,
                    "nan_count": 0,
                    "min": 0,
                    "max": 567.9716684978812,
                    "histogram": [
                      {
                        "bin_start": 0,
                        "bin_end": 56.79716684978812,
                        "count": 3423
                      },
                      {
                        "bin_start": 56.79716684978812,
                        "bin_end": 113.59433369957624,
                        "count": 0
                      },
                      {
                        "bin_start": 113.59433369957624,
                        "bin_end": 170.39150054936437,
                        "count": 0
                      },
                      {
                        "bin_start": 170.39150054936437,
                        "bin_end": 227.18866739915248,
                        "count": 0
                      },
                      {
                        "bin_start": 227.18866739915248,
                        "bin_end": 283.9858342489406,
                        "count": 0
                      },
                      {
                        "bin_start": 283.9858342489406,
                        "bin_end": 340.78300109872873,
                        "count": 0
                      },
                      {
                        "bin_start": 340.78300109872873,
                        "bin_end": 397.5801679485168,
                        "count": 0
                      },
                      {
                        "bin_start": 397.5801679485168,
                        "bin_end": 454.37733479830496,
                        "count": 0
                      },
                      {
                        "bin_start": 454.37733479830496,
                        "bin_end": 511.1745016480931,
                        "count": 0
                      },
                      {
                        "bin_start": 511.1745016480931,
                        "bin_end": 567.9716684978812,
                        "count": 1
                      }
                    ]
                  }
                },
                {
                  "name": "Split Ratio",
                  "dtype": "float64",
                  "stats": {
                    "unique_count": 1,
                    "nan_count": 0,
                    "min": 1,
                    "max": 1,
                    "histogram": [
                      {
                        "bin_start": 0.5,
                        "bin_end": 0.6,
                        "count": 0
                      },
                      {
                        "bin_start": 0.6,
                        "bin_end": 0.7,
                        "count": 0
                      },
                      {
                        "bin_start": 0.7,
                        "bin_end": 0.8,
                        "count": 0
                      },
                      {
                        "bin_start": 0.8,
                        "bin_end": 0.9,
                        "count": 0
                      },
                      {
                        "bin_start": 0.9,
                        "bin_end": 1,
                        "count": 0
                      },
                      {
                        "bin_start": 1,
                        "bin_end": 1.1,
                        "count": 3424
                      },
                      {
                        "bin_start": 1.1,
                        "bin_end": 1.2000000000000002,
                        "count": 0
                      },
                      {
                        "bin_start": 1.2000000000000002,
                        "bin_end": 1.3,
                        "count": 0
                      },
                      {
                        "bin_start": 1.3,
                        "bin_end": 1.4,
                        "count": 0
                      },
                      {
                        "bin_start": 1.4,
                        "bin_end": 1.5,
                        "count": 0
                      }
                    ]
                  }
                },
                {
                  "name": "Adj. Open",
                  "dtype": "float64",
                  "stats": {
                    "unique_count": 3308,
                    "nan_count": 0,
                    "min": 49.69841424372835,
                    "max": 1188,
                    "histogram": [
                      {
                        "bin_start": 49.69841424372835,
                        "bin_end": 163.52857281935553,
                        "count": 356
                      },
                      {
                        "bin_start": 163.52857281935553,
                        "bin_end": 277.35873139498267,
                        "count": 1091
                      },
                      {
                        "bin_start": 277.35873139498267,
                        "bin_end": 391.18888997060986,
                        "count": 691
                      },
                      {
                        "bin_start": 391.18888997060986,
                        "bin_end": 505.019048546237,
                        "count": 180
                      },
                      {
                        "bin_start": 505.019048546237,
                        "bin_end": 618.8492071218642,
                        "count": 429
                      },
                      {
                        "bin_start": 618.8492071218642,
                        "bin_end": 732.6793656974914,
                        "count": 133
                      },
                      {
                        "bin_start": 732.6793656974914,
                        "bin_end": 846.5095242731186,
                        "count": 276
                      },
                      {
                        "bin_start": 846.5095242731186,
                        "bin_end": 960.3396828487457,
                        "count": 110
                      },
                      {
                        "bin_start": 960.3396828487457,
                        "bin_end": 1074.1698414243729,
                        "count": 107
                      },
                      {
                        "bin_start": 1074.1698414243729,
                        "bin_end": 1188,
                        "count": 51
                      }
                    ]
                  }
                },
                {
                  "name": "Adj. High",
                  "dtype": "float64",
                  "stats": {
                    "unique_count": 3296,
                    "nan_count": 0,
                    "min": 51.027517056785975,
                    "max": 1198,
                    "histogram": [
                      {
                        "bin_start": 51.027517056785975,
                        "bin_end": 165.72476535110738,
                        "count": 354
                      },
                      {
                        "bin_start": 165.72476535110738,
                        "bin_end": 280.4220136454288,
                        "count": 1092
                      },
                      {
                        "bin_start": 280.4220136454288,
                        "bin_end": 395.11926193975023,
                        "count": 694
                      },
                      {
                        "bin_start": 395.11926193975023,
                        "bin_end": 509.81651023407164,
                        "count": 178
                      },
                      {
                        "bin_start": 509.81651023407164,
                        "bin_end": 624.513758528393,
                        "count": 428
                      },
                      {
                        "bin_start": 624.513758528393,
                        "bin_end": 739.2110068227145,
                        "count": 142
                      },
                      {
                        "bin_start": 739.2110068227145,
                        "bin_end": 853.9082551170359,
                        "count": 280
                      },
                      {
                        "bin_start": 853.9082551170359,
                        "bin_end": 968.6055034113573,
                        "count": 101
                      },
                      {
                        "bin_start": 968.6055034113573,
                        "bin_end": 1083.3027517056787,
                        "count": 103
                      },
                      {
                        "bin_start": 1083.3027517056787,
                        "bin_end": 1198,
                        "count": 52
                      }
                    ]
                  }
                },
                {
                  "name": "Adj. Low",
                  "dtype": "float64",
                  "stats": {
                    "unique_count": 3335,
                    "nan_count": 0,
                    "min": 48.12856827962632,
                    "max": 1184.06,
                    "histogram": [
                      {
                        "bin_start": 48.12856827962632,
                        "bin_end": 161.72171145166368,
                        "count": 362
                      },
                      {
                        "bin_start": 161.72171145166368,
                        "bin_end": 275.3148546237011,
                        "count": 1098
                      },
                      {
                        "bin_start": 275.3148546237011,
                        "bin_end": 388.9079977957385,
                        "count": 679
                      },
                      {
                        "bin_start": 388.9079977957385,
                        "bin_end": 502.5011409677758,
                        "count": 181
                      },
                      {
                        "bin_start": 502.5011409677758,
                        "bin_end": 616.0942841398131,
                        "count": 428
                      },
                      {
                        "bin_start": 616.0942841398131,
                        "bin_end": 729.6874273118506,
                        "count": 146
                      },
                      {
                        "bin_start": 729.6874273118506,
                        "bin_end": 843.2805704838879,
                        "count": 268
                      },
                      {
                        "bin_start": 843.2805704838879,
                        "bin_end": 956.8737136559253,
                        "count": 108
                      },
                      {
                        "bin_start": 956.8737136559253,
                        "bin_end": 1070.4668568279626,
                        "count": 110
                      },
                      {
                        "bin_start": 1070.4668568279626,
                        "bin_end": 1184.06,
                        "count": 44
                      }
                    ]
                  }
                },
                {
                  "name": "Adj. Close",
                  "dtype": "float64",
                  "stats": {
                    "unique_count": 3355,
                    "nan_count": 0,
                    "min": 50.159838616563455,
                    "max": 1187.56,
                    "histogram": [
                      {
                        "bin_start": 50.159838616563455,
                        "bin_end": 163.8998547549071,
                        "count": 357
                      },
                      {
                        "bin_start": 163.8998547549071,
                        "bin_end": 277.6398708932507,
                        "count": 1092
                      },
                      {
                        "bin_start": 277.6398708932507,
                        "bin_end": 391.3798870315943,
                        "count": 687
                      },
                      {
                        "bin_start": 391.3798870315943,
                        "bin_end": 505.11990316993797,
                        "count": 179
                      },
                      {
                        "bin_start": 505.11990316993797,
                        "bin_end": 618.8599193082816,
                        "count": 433
                      },
                      {
                        "bin_start": 618.8599193082816,
                        "bin_end": 732.5999354466252,
                        "count": 142
                      },
                      {
                        "bin_start": 732.5999354466252,
                        "bin_end": 846.3399515849688,
                        "count": 265
                      },
                      {
                        "bin_start": 846.3399515849688,
                        "bin_end": 960.0799677233125,
                        "count": 109
                      },
                      {
                        "bin_start": 960.0799677233125,
                        "bin_end": 1073.8199838616563,
                        "count": 112
                      },
                      {
                        "bin_start": 1073.8199838616563,
                        "bin_end": 1187.56,
                        "count": 48
                      }
                    ]
                  }
                },
                {
                  "name": "Adj. Volume",
                  "dtype": "float64",
                  "stats": {
                    "unique_count": 3396,
                    "nan_count": 0,
                    "min": 521141,
                    "max": 82151100,
                    "histogram": [
                      {
                        "bin_start": 521141,
                        "bin_end": 8684136.9,
                        "count": 2408
                      },
                      {
                        "bin_start": 8684136.9,
                        "bin_end": 16847132.8,
                        "count": 661
                      },
                      {
                        "bin_start": 16847132.8,
                        "bin_end": 25010128.700000003,
                        "count": 216
                      },
                      {
                        "bin_start": 25010128.700000003,
                        "bin_end": 33173124.6,
                        "count": 72
                      },
                      {
                        "bin_start": 33173124.6,
                        "bin_end": 41336120.5,
                        "count": 33
                      },
                      {
                        "bin_start": 41336120.5,
                        "bin_end": 49499116.400000006,
                        "count": 20
                      },
                      {
                        "bin_start": 49499116.400000006,
                        "bin_end": 57662112.300000004,
                        "count": 4
                      },
                      {
                        "bin_start": 57662112.300000004,
                        "bin_end": 65825108.2,
                        "count": 3
                      },
                      {
                        "bin_start": 65825108.2,
                        "bin_end": 73988104.10000001,
                        "count": 4
                      },
                      {
                        "bin_start": 73988104.10000001,
                        "bin_end": 82151100,
                        "count": 3
                      }
                    ]
                  }
                },
                {
                  "name": "_deepnote_index_column",
                  "dtype": "datetime64[ns]"
                }
              ],
              "rows_top": [
                {
                  "Open": 100.01,
                  "High": 104.06,
                  "Low": 95.96,
                  "Close": 100.335,
                  "Volume": 44659000,
                  "Ex-Dividend": 0,
                  "Split Ratio": 1,
                  "Adj. Open": 50.159838616563455,
                  "Adj. High": 52.19110895350058,
                  "Adj. Low": 48.12856827962632,
                  "Adj. Close": 50.32284179174976,
                  "Adj. Volume": 44659000,
                  "_deepnote_index_column": "2004-08-19T00:00:00.000000"
                },
                {
                  "Open": 101.01,
                  "High": 109.08,
                  "Low": 100.5,
                  "Close": 108.31,
                  "Volume": 22834300,
                  "Ex-Dividend": 0,
                  "Split Ratio": 1,
                  "Adj. Open": 50.66138684790595,
                  "Adj. High": 54.70888107483993,
                  "Adj. Low": 50.40559724992128,
                  "Adj. Close": 54.32268893670621,
                  "Adj. Volume": 22834300,
                  "_deepnote_index_column": "2004-08-20T00:00:00.000000"
                },
                {
                  "Open": 110.76,
                  "High": 113.48,
                  "Low": 109.05,
                  "Close": 109.4,
                  "Volume": 18256100,
                  "Ex-Dividend": 0,
                  "Split Ratio": 1,
                  "Adj. Open": 55.55148210349533,
                  "Adj. High": 56.91569329274693,
                  "Adj. Low": 54.693834627899655,
                  "Adj. Close": 54.86937650886953,
                  "Adj. Volume": 18256100,
                  "_deepnote_index_column": "2004-08-23T00:00:00.000000"
                },
                {
                  "Open": 111.24,
                  "High": 111.6,
                  "Low": 103.57,
                  "Close": 104.87,
                  "Volume": 15247300,
                  "Ex-Dividend": 0,
                  "Split Ratio": 1,
                  "Adj. Open": 55.79222525453973,
                  "Adj. High": 55.97278261782303,
                  "Adj. Low": 51.94535032014275,
                  "Adj. Close": 52.597363020888004,
                  "Adj. Volume": 15247300,
                  "_deepnote_index_column": "2004-08-24T00:00:00.000000"
                },
                {
                  "Open": 104.76,
                  "High": 108,
                  "Low": 103.88,
                  "Close": 106,
                  "Volume": 9188600,
                  "Ex-Dividend": 0,
                  "Split Ratio": 1,
                  "Adj. Open": 52.54219271544033,
                  "Adj. High": 54.167208984990026,
                  "Adj. Low": 52.100830271858925,
                  "Adj. Close": 53.164112522305025,
                  "Adj. Volume": 9188600,
                  "_deepnote_index_column": "2004-08-25T00:00:00.000000"
                },
                {
                  "Open": 104.95,
                  "High": 107.95,
                  "Low": 104.66,
                  "Close": 107.91,
                  "Volume": 7094800,
                  "Ex-Dividend": 0,
                  "Split Ratio": 1,
                  "Adj. Open": 52.637486879395404,
                  "Adj. High": 54.1421315734229,
                  "Adj. Low": 52.49203789230607,
                  "Adj. Close": 54.1220696441692,
                  "Adj. Volume": 7094800,
                  "_deepnote_index_column": "2004-08-26T00:00:00.000000"
                },
                {
                  "Open": 108.1,
                  "High": 108.62,
                  "Low": 105.69,
                  "Close": 106.15,
                  "Volume": 6211700,
                  "Ex-Dividend": 0,
                  "Split Ratio": 1,
                  "Adj. Open": 54.217363808124276,
                  "Adj. High": 54.47816888842238,
                  "Adj. Low": 53.00863257058885,
                  "Adj. Close": 53.23934475700641,
                  "Adj. Volume": 6211700,
                  "_deepnote_index_column": "2004-08-27T00:00:00.000000"
                },
                {
                  "Open": 105.28,
                  "High": 105.49,
                  "Low": 102.01,
                  "Close": 102.01,
                  "Volume": 5196700,
                  "Ex-Dividend": 0,
                  "Split Ratio": 1,
                  "Adj. Open": 52.80299779573843,
                  "Adj. High": 52.90832292432035,
                  "Adj. Low": 51.162935079248456,
                  "Adj. Close": 51.162935079248456,
                  "Adj. Volume": 5196700,
                  "_deepnote_index_column": "2004-08-30T00:00:00.000000"
                },
                {
                  "Open": 102.32,
                  "High": 103.71,
                  "Low": 102.16,
                  "Close": 102.37,
                  "Volume": 4917800,
                  "Ex-Dividend": 0,
                  "Split Ratio": 1,
                  "Adj. Open": 51.31841503096462,
                  "Adj. High": 52.0155670725307,
                  "Adj. Low": 51.23816731394982,
                  "Adj. Close": 51.343492442531755,
                  "Adj. Volume": 4917800,
                  "_deepnote_index_column": "2004-08-31T00:00:00.000000"
                },
                {
                  "Open": 102.7,
                  "High": 102.97,
                  "Low": 99.67,
                  "Close": 100.25,
                  "Volume": 9138200,
                  "Ex-Dividend": 0,
                  "Split Ratio": 1,
                  "Adj. Open": 51.50900335887478,
                  "Adj. High": 51.64442138133725,
                  "Adj. Low": 49.989312217907,
                  "Adj. Close": 50.280210192085654,
                  "Adj. Volume": 9138200,
                  "_deepnote_index_column": "2004-09-01T00:00:00.000000"
                },
                {
                  "Open": 99.09,
                  "High": 102.37,
                  "Low": 98.94,
                  "Close": 101.51,
                  "Volume": 15118600,
                  "Ex-Dividend": 0,
                  "Split Ratio": 1,
                  "Adj. Open": 49.69841424372835,
                  "Adj. High": 51.343492442531755,
                  "Adj. Low": 49.623182009026976,
                  "Adj. Close": 50.91216096357721,
                  "Adj. Volume": 15118600,
                  "_deepnote_index_column": "2004-09-02T00:00:00.000000"
                },
                {
                  "Open": 100.95,
                  "High": 101.74,
                  "Low": 99.32,
                  "Close": 100.01,
                  "Volume": 5152400,
                  "Ex-Dividend": 0,
                  "Split Ratio": 1,
                  "Adj. Open": 50.6312939540254,
                  "Adj. High": 51.027517056785975,
                  "Adj. Low": 49.813770336937125,
                  "Adj. Close": 50.159838616563455,
                  "Adj. Volume": 5152400,
                  "_deepnote_index_column": "2004-09-03T00:00:00.000000"
                },
                {
                  "Open": 101.01,
                  "High": 102,
                  "Low": 99.61,
                  "Close": 101.58,
                  "Volume": 5847500,
                  "Ex-Dividend": 0,
                  "Split Ratio": 1,
                  "Adj. Open": 50.66138684790595,
                  "Adj. High": 51.157919596935024,
                  "Adj. Low": 49.95921932402645,
                  "Adj. Close": 50.947269339771175,
                  "Adj. Volume": 5847500,
                  "_deepnote_index_column": "2004-09-07T00:00:00.000000"
                },
                {
                  "Open": 100.74,
                  "High": 103.03,
                  "Low": 100.5,
                  "Close": 102.3,
                  "Volume": 4985600,
                  "Ex-Dividend": 0,
                  "Split Ratio": 1,
                  "Adj. Open": 50.52596882544347,
                  "Adj. High": 51.6745142752178,
                  "Adj. Low": 50.40559724992128,
                  "Adj. Close": 51.30838406633777,
                  "Adj. Volume": 4985600,
                  "_deepnote_index_column": "2004-09-08T00:00:00.000000"
                },
                {
                  "Open": 102.5,
                  "High": 102.71,
                  "Low": 101,
                  "Close": 102.31,
                  "Volume": 4061700,
                  "Ex-Dividend": 0,
                  "Split Ratio": 1,
                  "Adj. Open": 51.40869371260628,
                  "Adj. High": 51.5140188411882,
                  "Adj. Low": 50.65637136559253,
                  "Adj. Close": 51.313399548651205,
                  "Adj. Volume": 4061700,
                  "_deepnote_index_column": "2004-09-09T00:00:00.000000"
                },
                {
                  "Open": 101.47,
                  "High": 106.56,
                  "Low": 101.3,
                  "Close": 105.33,
                  "Volume": 8698800,
                  "Ex-Dividend": 0,
                  "Split Ratio": 1,
                  "Adj. Open": 50.8920990343235,
                  "Adj. High": 53.44497953185683,
                  "Adj. Low": 50.806835834995276,
                  "Adj. Close": 52.82807520730555,
                  "Adj. Volume": 8698800,
                  "_deepnote_index_column": "2004-09-10T00:00:00.000000"
                },
                {
                  "Open": 106.63,
                  "High": 108.41,
                  "Low": 106.46,
                  "Close": 107.5,
                  "Volume": 7844100,
                  "Ex-Dividend": 0,
                  "Split Ratio": 1,
                  "Adj. Open": 53.4800879080508,
                  "Adj. High": 54.37284375984045,
                  "Adj. Low": 53.394824708722574,
                  "Adj. Close": 53.91643486931878,
                  "Adj. Volume": 7844100,
                  "_deepnote_index_column": "2004-09-13T00:00:00.000000"
                },
                {
                  "Open": 107.44,
                  "High": 112,
                  "Low": 106.79,
                  "Close": 111.49,
                  "Volume": 10828900,
                  "Ex-Dividend": 0,
                  "Split Ratio": 1,
                  "Adj. Open": 53.88634197543823,
                  "Adj. High": 56.17340191036003,
                  "Adj. Low": 53.560335625065605,
                  "Adj. Close": 55.917612312375354,
                  "Adj. Volume": 10828900,
                  "_deepnote_index_column": "2004-09-14T00:00:00.000000"
                },
                {
                  "Open": 110.56,
                  "High": 114.23,
                  "Low": 110.2,
                  "Close": 112,
                  "Volume": 10713000,
                  "Ex-Dividend": 0,
                  "Split Ratio": 1,
                  "Adj. Open": 55.45117245722683,
                  "Adj. High": 57.29185446625381,
                  "Adj. Low": 55.27061509394353,
                  "Adj. Close": 56.17340191036003,
                  "Adj. Volume": 10713000,
                  "_deepnote_index_column": "2004-09-15T00:00:00.000000"
                },
                {
                  "Open": 112.34,
                  "High": 115.8,
                  "Low": 111.65,
                  "Close": 113.97,
                  "Volume": 9266300,
                  "Ex-Dividend": 0,
                  "Split Ratio": 1,
                  "Adj. Open": 56.34392830901648,
                  "Adj. High": 58.07928518946153,
                  "Adj. Low": 55.997860029390154,
                  "Adj. Close": 57.16145192610475,
                  "Adj. Volume": 9266300,
                  "_deepnote_index_column": "2004-09-16T00:00:00.000000"
                },
                {
                  "Open": 114.42,
                  "High": 117.49,
                  "Low": 113.55,
                  "Close": 117.49,
                  "Volume": 9472500,
                  "Ex-Dividend": 0,
                  "Split Ratio": 1,
                  "Adj. Open": 57.387148630208884,
                  "Adj. High": 58.926901700430356,
                  "Adj. Low": 56.950801668940905,
                  "Adj. Close": 58.926901700430356,
                  "Adj. Volume": 9472500,
                  "_deepnote_index_column": "2004-09-17T00:00:00.000000"
                },
                {
                  "Open": 116.95,
                  "High": 121.6,
                  "Low": 116.77,
                  "Close": 119.36,
                  "Volume": 10628700,
                  "Ex-Dividend": 0,
                  "Split Ratio": 1,
                  "Adj. Open": 58.65606565550541,
                  "Adj. High": 60.988264931248025,
                  "Adj. Low": 58.56578697386375,
                  "Adj. Close": 59.86479689304083,
                  "Adj. Volume": 10628700,
                  "_deepnote_index_column": "2004-09-20T00:00:00.000000"
                },
                {
                  "Open": 120.2,
                  "High": 120.42,
                  "Low": 117.51,
                  "Close": 117.84,
                  "Volume": 7228700,
                  "Ex-Dividend": 0,
                  "Split Ratio": 1,
                  "Adj. Open": 60.28609740736853,
                  "Adj. High": 60.39643801826388,
                  "Adj. Low": 58.936932665057206,
                  "Adj. Close": 59.10244358140023,
                  "Adj. Volume": 7228700,
                  "_deepnote_index_column": "2004-09-21T00:00:00.000000"
                },
                {
                  "Open": 117.45,
                  "High": 119.67,
                  "Low": 116.81,
                  "Close": 118.38,
                  "Volume": 7581200,
                  "Ex-Dividend": 0,
                  "Split Ratio": 1,
                  "Adj. Open": 58.90683977117666,
                  "Adj. High": 60.02027684475701,
                  "Adj. Low": 58.58584890311746,
                  "Adj. Close": 59.37327962632518,
                  "Adj. Volume": 7581200,
                  "_deepnote_index_column": "2004-09-22T00:00:00.000000"
                },
                {
                  "Open": 118.84,
                  "High": 122.63,
                  "Low": 117.02,
                  "Close": 120.82,
                  "Volume": 8535600,
                  "Ex-Dividend": 0,
                  "Split Ratio": 1,
                  "Adj. Open": 59.603991812742734,
                  "Adj. High": 61.504859609530804,
                  "Adj. Low": 58.691174031699376,
                  "Adj. Close": 60.59705731080088,
                  "Adj. Volume": 8535600,
                  "_deepnote_index_column": "2004-09-23T00:00:00.000000"
                },
                {
                  "Open": 120.97,
                  "High": 124.1,
                  "Low": 119.76,
                  "Close": 119.83,
                  "Volume": 9123400,
                  "Ex-Dividend": 0,
                  "Split Ratio": 1,
                  "Adj. Open": 60.67228954550226,
                  "Adj. High": 62.24213550960428,
                  "Adj. Low": 60.06541618557783,
                  "Adj. Close": 60.100524561771806,
                  "Adj. Volume": 9123400,
                  "_deepnote_index_column": "2004-09-24T00:00:00.000000"
                },
                {
                  "Open": 119.56,
                  "High": 120.88,
                  "Low": 117.8,
                  "Close": 118.26,
                  "Volume": 7066100,
                  "Ex-Dividend": 0,
                  "Split Ratio": 1,
                  "Adj. Open": 59.96510653930933,
                  "Adj. High": 60.62715020468143,
                  "Adj. Low": 59.08238165214653,
                  "Adj. Close": 59.313093838564086,
                  "Adj. Volume": 7066100,
                  "_deepnote_index_column": "2004-09-27T00:00:00.000000"
                },
                {
                  "Open": 121.15,
                  "High": 127.4,
                  "Low": 120.21,
                  "Close": 126.86,
                  "Volume": 16929000,
                  "Ex-Dividend": 0,
                  "Split Ratio": 1,
                  "Adj. Open": 60.76256822714391,
                  "Adj. High": 63.897244673034535,
                  "Adj. Low": 60.291112889681955,
                  "Adj. Close": 63.62640862810958,
                  "Adj. Volume": 16929000,
                  "_deepnote_index_column": "2004-09-28T00:00:00.000000"
                },
                {
                  "Open": 126.53,
                  "High": 135.02,
                  "Low": 126.23,
                  "Close": 131.08,
                  "Volume": 30516400,
                  "Ex-Dividend": 0,
                  "Split Ratio": 1,
                  "Adj. Open": 63.460897711766556,
                  "Adj. High": 67.71904219586439,
                  "Adj. Low": 63.31043324236381,
                  "Adj. Close": 65.74294216437494,
                  "Adj. Volume": 30516400,
                  "_deepnote_index_column": "2004-09-29T00:00:00.000000"
                },
                {
                  "Open": 129.899,
                  "High": 132.3,
                  "Low": 129,
                  "Close": 129.6,
                  "Volume": 13758000,
                  "Ex-Dividend": 0,
                  "Split Ratio": 1,
                  "Adj. Open": 65.15061370315944,
                  "Adj. High": 66.35483100661278,
                  "Adj. Low": 64.69972184318253,
                  "Adj. Close": 65.00065078198803,
                  "Adj. Volume": 13758000,
                  "_deepnote_index_column": "2004-09-30T00:00:00.000000"
                },
                {
                  "Open": 130.8,
                  "High": 134.24,
                  "Low": 128.9,
                  "Close": 132.58,
                  "Volume": 15124800,
                  "Ex-Dividend": 0,
                  "Split Ratio": 1,
                  "Adj. Open": 65.60250865959904,
                  "Adj. High": 67.32783457541724,
                  "Adj. Low": 64.64956702004828,
                  "Adj. Close": 66.4952645113887,
                  "Adj. Volume": 15124800,
                  "_deepnote_index_column": "2004-10-01T00:00:00.000000"
                },
                {
                  "Open": 135.275,
                  "High": 136.87,
                  "Low": 134.03,
                  "Close": 135.06,
                  "Volume": 13022700,
                  "Ex-Dividend": 0,
                  "Split Ratio": 1,
                  "Adj. Open": 67.84693699485672,
                  "Adj. High": 68.64690642384801,
                  "Adj. Low": 67.22250944683532,
                  "Adj. Close": 67.73910412511809,
                  "Adj. Volume": 13022700,
                  "_deepnote_index_column": "2004-10-04T00:00:00.000000"
                },
                {
                  "Open": 134.66,
                  "High": 138.53,
                  "Low": 132.24,
                  "Close": 138.37,
                  "Volume": 14973200,
                  "Ex-Dividend": 0,
                  "Split Ratio": 1,
                  "Adj. Open": 67.53848483258108,
                  "Adj. High": 69.47947648787657,
                  "Adj. Low": 66.32473811273223,
                  "Adj. Close": 69.39922877086177,
                  "Adj. Volume": 14973200,
                  "_deepnote_index_column": "2004-10-05T00:00:00.000000"
                },
                {
                  "Open": 137.67,
                  "High": 138.45,
                  "Low": 136,
                  "Close": 137.08,
                  "Volume": 13381400,
                  "Ex-Dividend": 0,
                  "Split Ratio": 1,
                  "Adj. Open": 69.048145008922,
                  "Adj. High": 69.43935262936915,
                  "Adj. Low": 68.21055946258004,
                  "Adj. Close": 68.75223155242995,
                  "Adj. Volume": 13381400,
                  "_deepnote_index_column": "2004-10-06T00:00:00.000000"
                },
                {
                  "Open": 136.56,
                  "High": 139.88,
                  "Low": 136.55,
                  "Close": 138.85,
                  "Volume": 14115000,
                  "Ex-Dividend": 0,
                  "Split Ratio": 1,
                  "Adj. Open": 68.49142647213183,
                  "Adj. High": 70.15656660018894,
                  "Adj. Low": 68.48641098981841,
                  "Adj. Close": 69.63997192190615,
                  "Adj. Volume": 14115000,
                  "_deepnote_index_column": "2004-10-07T00:00:00.000000"
                },
                {
                  "Open": 138.73,
                  "High": 139.68,
                  "Low": 137.02,
                  "Close": 137.73,
                  "Volume": 11069500,
                  "Ex-Dividend": 0,
                  "Split Ratio": 1,
                  "Adj. Open": 69.57978613414505,
                  "Adj. High": 70.05625695392044,
                  "Adj. Low": 68.7221386585494,
                  "Adj. Close": 69.07823790280256,
                  "Adj. Volume": 11069500,
                  "_deepnote_index_column": "2004-10-08T00:00:00.000000"
                },
                {
                  "Open": 137.01,
                  "High": 138.86,
                  "Low": 133.85,
                  "Close": 135.26,
                  "Volume": 10472100,
                  "Ex-Dividend": 0,
                  "Split Ratio": 1,
                  "Adj. Open": 68.71712317623596,
                  "Adj. High": 69.64498740421959,
                  "Adj. Low": 67.13223076519365,
                  "Adj. Close": 67.83941377138657,
                  "Adj. Volume": 10472100,
                  "_deepnote_index_column": "2004-10-11T00:00:00.000000"
                },
                {
                  "Open": 134.49,
                  "High": 137.61,
                  "Low": 133.4,
                  "Close": 137.4,
                  "Volume": 11665500,
                  "Ex-Dividend": 0,
                  "Split Ratio": 1,
                  "Adj. Open": 67.45322163325287,
                  "Adj. High": 69.01805211504147,
                  "Adj. Low": 66.90653406108954,
                  "Adj. Close": 68.91272698645953,
                  "Adj. Volume": 11665500,
                  "_deepnote_index_column": "2004-10-12T00:00:00.000000"
                },
                {
                  "Open": 143.24,
                  "High": 143.55,
                  "Low": 140.08,
                  "Close": 140.9,
                  "Volume": 19766200,
                  "Ex-Dividend": 0,
                  "Split Ratio": 1,
                  "Adj. Open": 71.84176865749974,
                  "Adj. High": 71.99724860921592,
                  "Adj. Low": 70.25687624645744,
                  "Adj. Close": 70.66814579615829,
                  "Adj. Volume": 19766200,
                  "_deepnote_index_column": "2004-10-13T00:00:00.000000"
                },
                {
                  "Open": 141.02,
                  "High": 142.38,
                  "Low": 138.56,
                  "Close": 142,
                  "Volume": 10442100,
                  "Ex-Dividend": 0,
                  "Split Ratio": 1,
                  "Adj. Open": 70.7283315839194,
                  "Adj. High": 71.41043717854518,
                  "Adj. Low": 69.49452293481684,
                  "Adj. Close": 71.21984885063503,
                  "Adj. Volume": 10442100,
                  "_deepnote_index_column": "2004-10-14T00:00:00.000000"
                },
                {
                  "Open": 144.95,
                  "High": 145.5,
                  "Low": 141.95,
                  "Close": 144.11,
                  "Volume": 13194700,
                  "Ex-Dividend": 0,
                  "Split Ratio": 1,
                  "Adj. Open": 72.69941613309541,
                  "Adj. High": 72.97526766033378,
                  "Adj. Low": 71.1947714390679,
                  "Adj. Close": 72.27811561876771,
                  "Adj. Volume": 13194700,
                  "_deepnote_index_column": "2004-10-15T00:00:00.000000"
                }
              ],
              "rows_bottom": [
                {
                  "Open": 1187.53,
                  "High": 1187.56,
                  "Low": 1168.03,
                  "Close": 1187.56,
                  "Volume": 1981476,
                  "Ex-Dividend": 0,
                  "Split Ratio": 1,
                  "Adj. Open": 1187.53,
                  "Adj. High": 1187.56,
                  "Adj. Low": 1168.03,
                  "Adj. Close": 1187.56,
                  "Adj. Volume": 1981476,
                  "_deepnote_index_column": "2018-01-26T00:00:00.000000"
                },
                {
                  "Open": 1188,
                  "High": 1198,
                  "Low": 1184.06,
                  "Close": 1186.48,
                  "Volume": 1533931,
                  "Ex-Dividend": 0,
                  "Split Ratio": 1,
                  "Adj. Open": 1188,
                  "Adj. High": 1198,
                  "Adj. Low": 1184.06,
                  "Adj. Close": 1186.48,
                  "Adj. Volume": 1533931,
                  "_deepnote_index_column": "2018-01-29T00:00:00.000000"
                },
                {
                  "Open": 1177.72,
                  "High": 1187.93,
                  "Low": 1174.51,
                  "Close": 1177.37,
                  "Volume": 1792602,
                  "Ex-Dividend": 0,
                  "Split Ratio": 1,
                  "Adj. Open": 1177.72,
                  "Adj. High": 1187.93,
                  "Adj. Low": 1174.51,
                  "Adj. Close": 1177.37,
                  "Adj. Volume": 1792602,
                  "_deepnote_index_column": "2018-01-30T00:00:00.000000"
                },
                {
                  "Open": 1183.81,
                  "High": 1186.32,
                  "Low": 1172.1,
                  "Close": 1182.22,
                  "Volume": 1643877,
                  "Ex-Dividend": 0,
                  "Split Ratio": 1,
                  "Adj. Open": 1183.81,
                  "Adj. High": 1186.32,
                  "Adj. Low": 1172.1,
                  "Adj. Close": 1182.22,
                  "Adj. Volume": 1643877,
                  "_deepnote_index_column": "2018-01-31T00:00:00.000000"
                },
                {
                  "Open": 1175.99,
                  "High": 1187.45,
                  "Low": 1169.36,
                  "Close": 1181.59,
                  "Volume": 2774967,
                  "Ex-Dividend": 0,
                  "Split Ratio": 1,
                  "Adj. Open": 1175.99,
                  "Adj. High": 1187.45,
                  "Adj. Low": 1169.36,
                  "Adj. Close": 1181.59,
                  "Adj. Volume": 2774967,
                  "_deepnote_index_column": "2018-02-01T00:00:00.000000"
                },
                {
                  "Open": 1127.42,
                  "High": 1131.3,
                  "Low": 1111.17,
                  "Close": 1119.2,
                  "Volume": 5798880,
                  "Ex-Dividend": 0,
                  "Split Ratio": 1,
                  "Adj. Open": 1127.42,
                  "Adj. High": 1131.3,
                  "Adj. Low": 1111.17,
                  "Adj. Close": 1119.2,
                  "Adj. Volume": 5798880,
                  "_deepnote_index_column": "2018-02-02T00:00:00.000000"
                },
                {
                  "Open": 1100.61,
                  "High": 1114.99,
                  "Low": 1056.74,
                  "Close": 1068.76,
                  "Volume": 3742469,
                  "Ex-Dividend": 0,
                  "Split Ratio": 1,
                  "Adj. Open": 1100.61,
                  "Adj. High": 1114.99,
                  "Adj. Low": 1056.74,
                  "Adj. Close": 1068.76,
                  "Adj. Volume": 3742469,
                  "_deepnote_index_column": "2018-02-05T00:00:00.000000"
                },
                {
                  "Open": 1033.98,
                  "High": 1087.38,
                  "Low": 1030.01,
                  "Close": 1084.43,
                  "Volume": 3732527,
                  "Ex-Dividend": 0,
                  "Split Ratio": 1,
                  "Adj. Open": 1033.98,
                  "Adj. High": 1087.38,
                  "Adj. Low": 1030.01,
                  "Adj. Close": 1084.43,
                  "Adj. Volume": 3732527,
                  "_deepnote_index_column": "2018-02-06T00:00:00.000000"
                },
                {
                  "Open": 1084.97,
                  "High": 1086.53,
                  "Low": 1054.62,
                  "Close": 1055.41,
                  "Volume": 2544683,
                  "Ex-Dividend": 0,
                  "Split Ratio": 1,
                  "Adj. Open": 1084.97,
                  "Adj. High": 1086.53,
                  "Adj. Low": 1054.62,
                  "Adj. Close": 1055.41,
                  "Adj. Volume": 2544683,
                  "_deepnote_index_column": "2018-02-07T00:00:00.000000"
                },
                {
                  "Open": 1059.87,
                  "High": 1063.93,
                  "Low": 1005.12,
                  "Close": 1005.6,
                  "Volume": 3067173,
                  "Ex-Dividend": 0,
                  "Split Ratio": 1,
                  "Adj. Open": 1059.87,
                  "Adj. High": 1063.93,
                  "Adj. Low": 1005.12,
                  "Adj. Close": 1005.6,
                  "Adj. Volume": 3067173,
                  "_deepnote_index_column": "2018-02-08T00:00:00.000000"
                },
                {
                  "Open": 1025.88,
                  "High": 1051.72,
                  "Low": 997,
                  "Close": 1043.43,
                  "Volume": 4436032,
                  "Ex-Dividend": 0,
                  "Split Ratio": 1,
                  "Adj. Open": 1025.88,
                  "Adj. High": 1051.72,
                  "Adj. Low": 997,
                  "Adj. Close": 1043.43,
                  "Adj. Volume": 4436032,
                  "_deepnote_index_column": "2018-02-09T00:00:00.000000"
                },
                {
                  "Open": 1056.67,
                  "High": 1065.57,
                  "Low": 1045.49,
                  "Close": 1054.56,
                  "Volume": 2796258,
                  "Ex-Dividend": 0,
                  "Split Ratio": 1,
                  "Adj. Open": 1056.67,
                  "Adj. High": 1065.57,
                  "Adj. Low": 1045.49,
                  "Adj. Close": 1054.56,
                  "Adj. Volume": 2796258,
                  "_deepnote_index_column": "2018-02-12T00:00:00.000000"
                },
                {
                  "Open": 1050,
                  "High": 1061.22,
                  "Low": 1046.92,
                  "Close": 1054.14,
                  "Volume": 1574121,
                  "Ex-Dividend": 0,
                  "Split Ratio": 1,
                  "Adj. Open": 1050,
                  "Adj. High": 1061.22,
                  "Adj. Low": 1046.92,
                  "Adj. Close": 1054.14,
                  "Adj. Volume": 1574121,
                  "_deepnote_index_column": "2018-02-13T00:00:00.000000"
                },
                {
                  "Open": 1054.32,
                  "High": 1075.47,
                  "Low": 1049.8,
                  "Close": 1072.7,
                  "Volume": 2029979,
                  "Ex-Dividend": 0,
                  "Split Ratio": 1,
                  "Adj. Open": 1054.32,
                  "Adj. High": 1075.47,
                  "Adj. Low": 1049.8,
                  "Adj. Close": 1072.7,
                  "Adj. Volume": 2029979,
                  "_deepnote_index_column": "2018-02-14T00:00:00.000000"
                },
                {
                  "Open": 1083.45,
                  "High": 1094.1,
                  "Low": 1067.23,
                  "Close": 1091.36,
                  "Volume": 1806206,
                  "Ex-Dividend": 0,
                  "Split Ratio": 1,
                  "Adj. Open": 1083.45,
                  "Adj. High": 1094.1,
                  "Adj. Low": 1067.23,
                  "Adj. Close": 1091.36,
                  "Adj. Volume": 1806206,
                  "_deepnote_index_column": "2018-02-15T00:00:00.000000"
                },
                {
                  "Open": 1093.38,
                  "High": 1108.31,
                  "Low": 1091.55,
                  "Close": 1095.5,
                  "Volume": 1971928,
                  "Ex-Dividend": 0,
                  "Split Ratio": 1,
                  "Adj. Open": 1093.38,
                  "Adj. High": 1108.31,
                  "Adj. Low": 1091.55,
                  "Adj. Close": 1095.5,
                  "Adj. Volume": 1971928,
                  "_deepnote_index_column": "2018-02-16T00:00:00.000000"
                },
                {
                  "Open": 1092.76,
                  "High": 1116.29,
                  "Low": 1090,
                  "Close": 1103.59,
                  "Volume": 1646405,
                  "Ex-Dividend": 0,
                  "Split Ratio": 1,
                  "Adj. Open": 1092.76,
                  "Adj. High": 1116.29,
                  "Adj. Low": 1090,
                  "Adj. Close": 1103.59,
                  "Adj. Volume": 1646405,
                  "_deepnote_index_column": "2018-02-20T00:00:00.000000"
                },
                {
                  "Open": 1109.1,
                  "High": 1136.2,
                  "Low": 1107.51,
                  "Close": 1113.75,
                  "Volume": 2024534,
                  "Ex-Dividend": 0,
                  "Split Ratio": 1,
                  "Adj. Open": 1109.1,
                  "Adj. High": 1136.2,
                  "Adj. Low": 1107.51,
                  "Adj. Close": 1113.75,
                  "Adj. Volume": 2024534,
                  "_deepnote_index_column": "2018-02-21T00:00:00.000000"
                },
                {
                  "Open": 1119.17,
                  "High": 1125.46,
                  "Low": 1105.15,
                  "Close": 1109.9,
                  "Volume": 1386115,
                  "Ex-Dividend": 0,
                  "Split Ratio": 1,
                  "Adj. Open": 1119.17,
                  "Adj. High": 1125.46,
                  "Adj. Low": 1105.15,
                  "Adj. Close": 1109.9,
                  "Adj. Volume": 1386115,
                  "_deepnote_index_column": "2018-02-22T00:00:00.000000"
                },
                {
                  "Open": 1118.66,
                  "High": 1129,
                  "Low": 1108.44,
                  "Close": 1128.09,
                  "Volume": 1234539,
                  "Ex-Dividend": 0,
                  "Split Ratio": 1,
                  "Adj. Open": 1118.66,
                  "Adj. High": 1129,
                  "Adj. Low": 1108.44,
                  "Adj. Close": 1128.09,
                  "Adj. Volume": 1234539,
                  "_deepnote_index_column": "2018-02-23T00:00:00.000000"
                },
                {
                  "Open": 1131.86,
                  "High": 1144.2,
                  "Low": 1129.34,
                  "Close": 1143.7,
                  "Volume": 1489118,
                  "Ex-Dividend": 0,
                  "Split Ratio": 1,
                  "Adj. Open": 1131.86,
                  "Adj. High": 1144.2,
                  "Adj. Low": 1129.34,
                  "Adj. Close": 1143.7,
                  "Adj. Volume": 1489118,
                  "_deepnote_index_column": "2018-02-26T00:00:00.000000"
                },
                {
                  "Open": 1143.7,
                  "High": 1144.25,
                  "Low": 1116.79,
                  "Close": 1117.51,
                  "Volume": 2094863,
                  "Ex-Dividend": 0,
                  "Split Ratio": 1,
                  "Adj. Open": 1143.7,
                  "Adj. High": 1144.25,
                  "Adj. Low": 1116.79,
                  "Adj. Close": 1117.51,
                  "Adj. Volume": 2094863,
                  "_deepnote_index_column": "2018-02-27T00:00:00.000000"
                },
                {
                  "Open": 1122,
                  "High": 1127.65,
                  "Low": 1103,
                  "Close": 1103.92,
                  "Volume": 2431023,
                  "Ex-Dividend": 0,
                  "Split Ratio": 1,
                  "Adj. Open": 1122,
                  "Adj. High": 1127.65,
                  "Adj. Low": 1103,
                  "Adj. Close": 1103.92,
                  "Adj. Volume": 2431023,
                  "_deepnote_index_column": "2018-02-28T00:00:00.000000"
                },
                {
                  "Open": 1109.54,
                  "High": 1111.27,
                  "Low": 1067.29,
                  "Close": 1071.41,
                  "Volume": 2766856,
                  "Ex-Dividend": 0,
                  "Split Ratio": 1,
                  "Adj. Open": 1109.54,
                  "Adj. High": 1111.27,
                  "Adj. Low": 1067.29,
                  "Adj. Close": 1071.41,
                  "Adj. Volume": 2766856,
                  "_deepnote_index_column": "2018-03-01T00:00:00.000000"
                },
                {
                  "Open": 1057.98,
                  "High": 1086.89,
                  "Low": 1050.11,
                  "Close": 1084.14,
                  "Volume": 2508145,
                  "Ex-Dividend": 0,
                  "Split Ratio": 1,
                  "Adj. Open": 1057.98,
                  "Adj. High": 1086.89,
                  "Adj. Low": 1050.11,
                  "Adj. Close": 1084.14,
                  "Adj. Volume": 2508145,
                  "_deepnote_index_column": "2018-03-02T00:00:00.000000"
                },
                {
                  "Open": 1078.13,
                  "High": 1101.18,
                  "Low": 1072.27,
                  "Close": 1094.76,
                  "Volume": 1432369,
                  "Ex-Dividend": 0,
                  "Split Ratio": 1,
                  "Adj. Open": 1078.13,
                  "Adj. High": 1101.18,
                  "Adj. Low": 1072.27,
                  "Adj. Close": 1094.76,
                  "Adj. Volume": 1432369,
                  "_deepnote_index_column": "2018-03-05T00:00:00.000000"
                },
                {
                  "Open": 1102.1,
                  "High": 1105.63,
                  "Low": 1094.5,
                  "Close": 1100.9,
                  "Volume": 1169068,
                  "Ex-Dividend": 0,
                  "Split Ratio": 1,
                  "Adj. Open": 1102.1,
                  "Adj. High": 1105.63,
                  "Adj. Low": 1094.5,
                  "Adj. Close": 1100.9,
                  "Adj. Volume": 1169068,
                  "_deepnote_index_column": "2018-03-06T00:00:00.000000"
                },
                {
                  "Open": 1092.82,
                  "High": 1116.2,
                  "Low": 1089.91,
                  "Close": 1115.04,
                  "Volume": 1537429,
                  "Ex-Dividend": 0,
                  "Split Ratio": 1,
                  "Adj. Open": 1092.82,
                  "Adj. High": 1116.2,
                  "Adj. Low": 1089.91,
                  "Adj. Close": 1115.04,
                  "Adj. Volume": 1537429,
                  "_deepnote_index_column": "2018-03-07T00:00:00.000000"
                },
                {
                  "Open": 1117.2,
                  "High": 1131.44,
                  "Low": 1117.2,
                  "Close": 1129.38,
                  "Volume": 1510478,
                  "Ex-Dividend": 0,
                  "Split Ratio": 1,
                  "Adj. Open": 1117.2,
                  "Adj. High": 1131.44,
                  "Adj. Low": 1117.2,
                  "Adj. Close": 1129.38,
                  "Adj. Volume": 1510478,
                  "_deepnote_index_column": "2018-03-08T00:00:00.000000"
                },
                {
                  "Open": 1139.5,
                  "High": 1161,
                  "Low": 1134.29,
                  "Close": 1160.84,
                  "Volume": 2070174,
                  "Ex-Dividend": 0,
                  "Split Ratio": 1,
                  "Adj. Open": 1139.5,
                  "Adj. High": 1161,
                  "Adj. Low": 1134.29,
                  "Adj. Close": 1160.84,
                  "Adj. Volume": 2070174,
                  "_deepnote_index_column": "2018-03-09T00:00:00.000000"
                },
                {
                  "Open": 1165.05,
                  "High": 1178.16,
                  "Low": 1159.2,
                  "Close": 1165.93,
                  "Volume": 2129297,
                  "Ex-Dividend": 0,
                  "Split Ratio": 1,
                  "Adj. Open": 1165.05,
                  "Adj. High": 1178.16,
                  "Adj. Low": 1159.2,
                  "Adj. Close": 1165.93,
                  "Adj. Volume": 2129297,
                  "_deepnote_index_column": "2018-03-12T00:00:00.000000"
                },
                {
                  "Open": 1171.83,
                  "High": 1178,
                  "Low": 1134.57,
                  "Close": 1139.91,
                  "Volume": 2129435,
                  "Ex-Dividend": 0,
                  "Split Ratio": 1,
                  "Adj. Open": 1171.83,
                  "Adj. High": 1178,
                  "Adj. Low": 1134.57,
                  "Adj. Close": 1139.91,
                  "Adj. Volume": 2129435,
                  "_deepnote_index_column": "2018-03-13T00:00:00.000000"
                },
                {
                  "Open": 1145.8,
                  "High": 1159.76,
                  "Low": 1142.35,
                  "Close": 1148.89,
                  "Volume": 2033697,
                  "Ex-Dividend": 0,
                  "Split Ratio": 1,
                  "Adj. Open": 1145.8,
                  "Adj. High": 1159.76,
                  "Adj. Low": 1142.35,
                  "Adj. Close": 1148.89,
                  "Adj. Volume": 2033697,
                  "_deepnote_index_column": "2018-03-14T00:00:00.000000"
                },
                {
                  "Open": 1149.57,
                  "High": 1162.5,
                  "Low": 1135.66,
                  "Close": 1150.61,
                  "Volume": 1623868,
                  "Ex-Dividend": 0,
                  "Split Ratio": 1,
                  "Adj. Open": 1149.57,
                  "Adj. High": 1162.5,
                  "Adj. Low": 1135.66,
                  "Adj. Close": 1150.61,
                  "Adj. Volume": 1623868,
                  "_deepnote_index_column": "2018-03-15T00:00:00.000000"
                },
                {
                  "Open": 1155.35,
                  "High": 1156.81,
                  "Low": 1131.36,
                  "Close": 1134.42,
                  "Volume": 2654602,
                  "Ex-Dividend": 0,
                  "Split Ratio": 1,
                  "Adj. Open": 1155.35,
                  "Adj. High": 1156.81,
                  "Adj. Low": 1131.36,
                  "Adj. Close": 1134.42,
                  "Adj. Volume": 2654602,
                  "_deepnote_index_column": "2018-03-16T00:00:00.000000"
                },
                {
                  "Open": 1117.76,
                  "High": 1119.37,
                  "Low": 1088.92,
                  "Close": 1100.07,
                  "Volume": 3076349,
                  "Ex-Dividend": 0,
                  "Split Ratio": 1,
                  "Adj. Open": 1117.76,
                  "Adj. High": 1119.37,
                  "Adj. Low": 1088.92,
                  "Adj. Close": 1100.07,
                  "Adj. Volume": 3076349,
                  "_deepnote_index_column": "2018-03-19T00:00:00.000000"
                },
                {
                  "Open": 1098.4,
                  "High": 1105.55,
                  "Low": 1082.42,
                  "Close": 1095.8,
                  "Volume": 2709310,
                  "Ex-Dividend": 0,
                  "Split Ratio": 1,
                  "Adj. Open": 1098.4,
                  "Adj. High": 1105.55,
                  "Adj. Low": 1082.42,
                  "Adj. Close": 1095.8,
                  "Adj. Volume": 2709310,
                  "_deepnote_index_column": "2018-03-20T00:00:00.000000"
                },
                {
                  "Open": 1092.57,
                  "High": 1108.7,
                  "Low": 1087.21,
                  "Close": 1094,
                  "Volume": 1990515,
                  "Ex-Dividend": 0,
                  "Split Ratio": 1,
                  "Adj. Open": 1092.57,
                  "Adj. High": 1108.7,
                  "Adj. Low": 1087.21,
                  "Adj. Close": 1094,
                  "Adj. Volume": 1990515,
                  "_deepnote_index_column": "2018-03-21T00:00:00.000000"
                },
                {
                  "Open": 1080.01,
                  "High": 1083.92,
                  "Low": 1049.64,
                  "Close": 1053.15,
                  "Volume": 3418154,
                  "Ex-Dividend": 0,
                  "Split Ratio": 1,
                  "Adj. Open": 1080.01,
                  "Adj. High": 1083.92,
                  "Adj. Low": 1049.64,
                  "Adj. Close": 1053.15,
                  "Adj. Volume": 3418154,
                  "_deepnote_index_column": "2018-03-22T00:00:00.000000"
                },
                {
                  "Open": 1051.37,
                  "High": 1066.78,
                  "Low": 1024.87,
                  "Close": 1026.55,
                  "Volume": 2413517,
                  "Ex-Dividend": 0,
                  "Split Ratio": 1,
                  "Adj. Open": 1051.37,
                  "Adj. High": 1066.78,
                  "Adj. Low": 1024.87,
                  "Adj. Close": 1026.55,
                  "Adj. Volume": 2413517,
                  "_deepnote_index_column": "2018-03-23T00:00:00.000000"
                },
                {
                  "Open": 1050.6,
                  "High": 1059.27,
                  "Low": 1010.58,
                  "Close": 1054.09,
                  "Volume": 3272409,
                  "Ex-Dividend": 0,
                  "Split Ratio": 1,
                  "Adj. Open": 1050.6,
                  "Adj. High": 1059.27,
                  "Adj. Low": 1010.58,
                  "Adj. Close": 1054.09,
                  "Adj. Volume": 3272409,
                  "_deepnote_index_column": "2018-03-26T00:00:00.000000"
                },
                {
                  "Open": 1063.9,
                  "High": 1064.54,
                  "Low": 997.62,
                  "Close": 1006.94,
                  "Volume": 2940957,
                  "Ex-Dividend": 0,
                  "Split Ratio": 1,
                  "Adj. Open": 1063.9,
                  "Adj. High": 1064.54,
                  "Adj. Low": 997.62,
                  "Adj. Close": 1006.94,
                  "Adj. Volume": 2940957,
                  "_deepnote_index_column": "2018-03-27T00:00:00.000000"
                }
              ]
            },
            "text/plain": "               Open     High      Low     Close      Volume  Ex-Dividend  \\\nDate                                                                       \n2004-08-19   100.01   104.06    95.96   100.335  44659000.0          0.0   \n2004-08-20   101.01   109.08   100.50   108.310  22834300.0          0.0   \n2004-08-23   110.76   113.48   109.05   109.400  18256100.0          0.0   \n2004-08-24   111.24   111.60   103.57   104.870  15247300.0          0.0   \n2004-08-25   104.76   108.00   103.88   106.000   9188600.0          0.0   \n...             ...      ...      ...       ...         ...          ...   \n2018-03-21  1092.57  1108.70  1087.21  1094.000   1990515.0          0.0   \n2018-03-22  1080.01  1083.92  1049.64  1053.150   3418154.0          0.0   \n2018-03-23  1051.37  1066.78  1024.87  1026.550   2413517.0          0.0   \n2018-03-26  1050.60  1059.27  1010.58  1054.090   3272409.0          0.0   \n2018-03-27  1063.90  1064.54   997.62  1006.940   2940957.0          0.0   \n\n            Split Ratio    Adj. Open    Adj. High     Adj. Low   Adj. Close  \\\nDate                                                                          \n2004-08-19          1.0    50.159839    52.191109    48.128568    50.322842   \n2004-08-20          1.0    50.661387    54.708881    50.405597    54.322689   \n2004-08-23          1.0    55.551482    56.915693    54.693835    54.869377   \n2004-08-24          1.0    55.792225    55.972783    51.945350    52.597363   \n2004-08-25          1.0    52.542193    54.167209    52.100830    53.164113   \n...                 ...          ...          ...          ...          ...   \n2018-03-21          1.0  1092.570000  1108.700000  1087.210000  1094.000000   \n2018-03-22          1.0  1080.010000  1083.920000  1049.640000  1053.150000   \n2018-03-23          1.0  1051.370000  1066.780000  1024.870000  1026.550000   \n2018-03-26          1.0  1050.600000  1059.270000  1010.580000  1054.090000   \n2018-03-27          1.0  1063.900000  1064.540000   997.620000  1006.940000   \n\n            Adj. Volume  \nDate                     \n2004-08-19   44659000.0  \n2004-08-20   22834300.0  \n2004-08-23   18256100.0  \n2004-08-24   15247300.0  \n2004-08-25    9188600.0  \n...                 ...  \n2018-03-21    1990515.0  \n2018-03-22    3418154.0  \n2018-03-23    2413517.0  \n2018-03-26    3272409.0  \n2018-03-27    2940957.0  \n\n[3424 rows x 12 columns]",
            "text/html": "<div>\n<style scoped>\n    .dataframe tbody tr th:only-of-type {\n        vertical-align: middle;\n    }\n\n    .dataframe tbody tr th {\n        vertical-align: top;\n    }\n\n    .dataframe thead th {\n        text-align: right;\n    }\n</style>\n<table border=\"1\" class=\"dataframe\">\n  <thead>\n    <tr style=\"text-align: right;\">\n      <th></th>\n      <th>Open</th>\n      <th>High</th>\n      <th>Low</th>\n      <th>Close</th>\n      <th>Volume</th>\n      <th>Ex-Dividend</th>\n      <th>Split Ratio</th>\n      <th>Adj. Open</th>\n      <th>Adj. High</th>\n      <th>Adj. Low</th>\n      <th>Adj. Close</th>\n      <th>Adj. Volume</th>\n    </tr>\n    <tr>\n      <th>Date</th>\n      <th></th>\n      <th></th>\n      <th></th>\n      <th></th>\n      <th></th>\n      <th></th>\n      <th></th>\n      <th></th>\n      <th></th>\n      <th></th>\n      <th></th>\n      <th></th>\n    </tr>\n  </thead>\n  <tbody>\n    <tr>\n      <th>2004-08-19</th>\n      <td>100.01</td>\n      <td>104.06</td>\n      <td>95.96</td>\n      <td>100.335</td>\n      <td>44659000.0</td>\n      <td>0.0</td>\n      <td>1.0</td>\n      <td>50.159839</td>\n      <td>52.191109</td>\n      <td>48.128568</td>\n      <td>50.322842</td>\n      <td>44659000.0</td>\n    </tr>\n    <tr>\n      <th>2004-08-20</th>\n      <td>101.01</td>\n      <td>109.08</td>\n      <td>100.50</td>\n      <td>108.310</td>\n      <td>22834300.0</td>\n      <td>0.0</td>\n      <td>1.0</td>\n      <td>50.661387</td>\n      <td>54.708881</td>\n      <td>50.405597</td>\n      <td>54.322689</td>\n      <td>22834300.0</td>\n    </tr>\n    <tr>\n      <th>2004-08-23</th>\n      <td>110.76</td>\n      <td>113.48</td>\n      <td>109.05</td>\n      <td>109.400</td>\n      <td>18256100.0</td>\n      <td>0.0</td>\n      <td>1.0</td>\n      <td>55.551482</td>\n      <td>56.915693</td>\n      <td>54.693835</td>\n      <td>54.869377</td>\n      <td>18256100.0</td>\n    </tr>\n    <tr>\n      <th>2004-08-24</th>\n      <td>111.24</td>\n      <td>111.60</td>\n      <td>103.57</td>\n      <td>104.870</td>\n      <td>15247300.0</td>\n      <td>0.0</td>\n      <td>1.0</td>\n      <td>55.792225</td>\n      <td>55.972783</td>\n      <td>51.945350</td>\n      <td>52.597363</td>\n      <td>15247300.0</td>\n    </tr>\n    <tr>\n      <th>2004-08-25</th>\n      <td>104.76</td>\n      <td>108.00</td>\n      <td>103.88</td>\n      <td>106.000</td>\n      <td>9188600.0</td>\n      <td>0.0</td>\n      <td>1.0</td>\n      <td>52.542193</td>\n      <td>54.167209</td>\n      <td>52.100830</td>\n      <td>53.164113</td>\n      <td>9188600.0</td>\n    </tr>\n    <tr>\n      <th>...</th>\n      <td>...</td>\n      <td>...</td>\n      <td>...</td>\n      <td>...</td>\n      <td>...</td>\n      <td>...</td>\n      <td>...</td>\n      <td>...</td>\n      <td>...</td>\n      <td>...</td>\n      <td>...</td>\n      <td>...</td>\n    </tr>\n    <tr>\n      <th>2018-03-21</th>\n      <td>1092.57</td>\n      <td>1108.70</td>\n      <td>1087.21</td>\n      <td>1094.000</td>\n      <td>1990515.0</td>\n      <td>0.0</td>\n      <td>1.0</td>\n      <td>1092.570000</td>\n      <td>1108.700000</td>\n      <td>1087.210000</td>\n      <td>1094.000000</td>\n      <td>1990515.0</td>\n    </tr>\n    <tr>\n      <th>2018-03-22</th>\n      <td>1080.01</td>\n      <td>1083.92</td>\n      <td>1049.64</td>\n      <td>1053.150</td>\n      <td>3418154.0</td>\n      <td>0.0</td>\n      <td>1.0</td>\n      <td>1080.010000</td>\n      <td>1083.920000</td>\n      <td>1049.640000</td>\n      <td>1053.150000</td>\n      <td>3418154.0</td>\n    </tr>\n    <tr>\n      <th>2018-03-23</th>\n      <td>1051.37</td>\n      <td>1066.78</td>\n      <td>1024.87</td>\n      <td>1026.550</td>\n      <td>2413517.0</td>\n      <td>0.0</td>\n      <td>1.0</td>\n      <td>1051.370000</td>\n      <td>1066.780000</td>\n      <td>1024.870000</td>\n      <td>1026.550000</td>\n      <td>2413517.0</td>\n    </tr>\n    <tr>\n      <th>2018-03-26</th>\n      <td>1050.60</td>\n      <td>1059.27</td>\n      <td>1010.58</td>\n      <td>1054.090</td>\n      <td>3272409.0</td>\n      <td>0.0</td>\n      <td>1.0</td>\n      <td>1050.600000</td>\n      <td>1059.270000</td>\n      <td>1010.580000</td>\n      <td>1054.090000</td>\n      <td>3272409.0</td>\n    </tr>\n    <tr>\n      <th>2018-03-27</th>\n      <td>1063.90</td>\n      <td>1064.54</td>\n      <td>997.62</td>\n      <td>1006.940</td>\n      <td>2940957.0</td>\n      <td>0.0</td>\n      <td>1.0</td>\n      <td>1063.900000</td>\n      <td>1064.540000</td>\n      <td>997.620000</td>\n      <td>1006.940000</td>\n      <td>2940957.0</td>\n    </tr>\n  </tbody>\n</table>\n<p>3424 rows × 12 columns</p>\n</div>"
          },
          "metadata": {}
        }
      ]
    },
    {
      "cell_type": "code",
      "metadata": {
        "cell_id": "00003-a6537e9b-add5-43ea-b059-f21248b6aaa1",
        "deepnote_to_be_reexecuted": false,
        "source_hash": "397d7a8c",
        "execution_millis": 2,
        "execution_start": 1617277451378,
        "deepnote_cell_type": "code"
      },
      "source": "df = df[['Adj. Open', 'Adj. High','Adj. Low','Adj. Close','Adj. Volume']]",
      "execution_count": 50,
      "outputs": []
    },
    {
      "cell_type": "code",
      "metadata": {
        "cell_id": "00004-70242fc0-e18d-43ea-a78c-0f25ee4fac88",
        "deepnote_to_be_reexecuted": false,
        "source_hash": "f804c160",
        "execution_millis": 53,
        "execution_start": 1617277451381,
        "deepnote_cell_type": "code"
      },
      "source": "df",
      "execution_count": 51,
      "outputs": [
        {
          "output_type": "execute_result",
          "execution_count": 51,
          "data": {
            "application/vnd.deepnote.dataframe.v2+json": {
              "row_count": 3424,
              "column_count": 5,
              "columns": [
                {
                  "name": "Adj. Open",
                  "dtype": "float64",
                  "stats": {
                    "unique_count": 3308,
                    "nan_count": 0,
                    "min": 49.69841424372835,
                    "max": 1188,
                    "histogram": [
                      {
                        "bin_start": 49.69841424372835,
                        "bin_end": 163.52857281935553,
                        "count": 356
                      },
                      {
                        "bin_start": 163.52857281935553,
                        "bin_end": 277.35873139498267,
                        "count": 1091
                      },
                      {
                        "bin_start": 277.35873139498267,
                        "bin_end": 391.18888997060986,
                        "count": 691
                      },
                      {
                        "bin_start": 391.18888997060986,
                        "bin_end": 505.019048546237,
                        "count": 180
                      },
                      {
                        "bin_start": 505.019048546237,
                        "bin_end": 618.8492071218642,
                        "count": 429
                      },
                      {
                        "bin_start": 618.8492071218642,
                        "bin_end": 732.6793656974914,
                        "count": 133
                      },
                      {
                        "bin_start": 732.6793656974914,
                        "bin_end": 846.5095242731186,
                        "count": 276
                      },
                      {
                        "bin_start": 846.5095242731186,
                        "bin_end": 960.3396828487457,
                        "count": 110
                      },
                      {
                        "bin_start": 960.3396828487457,
                        "bin_end": 1074.1698414243729,
                        "count": 107
                      },
                      {
                        "bin_start": 1074.1698414243729,
                        "bin_end": 1188,
                        "count": 51
                      }
                    ]
                  }
                },
                {
                  "name": "Adj. High",
                  "dtype": "float64",
                  "stats": {
                    "unique_count": 3296,
                    "nan_count": 0,
                    "min": 51.027517056785975,
                    "max": 1198,
                    "histogram": [
                      {
                        "bin_start": 51.027517056785975,
                        "bin_end": 165.72476535110738,
                        "count": 354
                      },
                      {
                        "bin_start": 165.72476535110738,
                        "bin_end": 280.4220136454288,
                        "count": 1092
                      },
                      {
                        "bin_start": 280.4220136454288,
                        "bin_end": 395.11926193975023,
                        "count": 694
                      },
                      {
                        "bin_start": 395.11926193975023,
                        "bin_end": 509.81651023407164,
                        "count": 178
                      },
                      {
                        "bin_start": 509.81651023407164,
                        "bin_end": 624.513758528393,
                        "count": 428
                      },
                      {
                        "bin_start": 624.513758528393,
                        "bin_end": 739.2110068227145,
                        "count": 142
                      },
                      {
                        "bin_start": 739.2110068227145,
                        "bin_end": 853.9082551170359,
                        "count": 280
                      },
                      {
                        "bin_start": 853.9082551170359,
                        "bin_end": 968.6055034113573,
                        "count": 101
                      },
                      {
                        "bin_start": 968.6055034113573,
                        "bin_end": 1083.3027517056787,
                        "count": 103
                      },
                      {
                        "bin_start": 1083.3027517056787,
                        "bin_end": 1198,
                        "count": 52
                      }
                    ]
                  }
                },
                {
                  "name": "Adj. Low",
                  "dtype": "float64",
                  "stats": {
                    "unique_count": 3335,
                    "nan_count": 0,
                    "min": 48.12856827962632,
                    "max": 1184.06,
                    "histogram": [
                      {
                        "bin_start": 48.12856827962632,
                        "bin_end": 161.72171145166368,
                        "count": 362
                      },
                      {
                        "bin_start": 161.72171145166368,
                        "bin_end": 275.3148546237011,
                        "count": 1098
                      },
                      {
                        "bin_start": 275.3148546237011,
                        "bin_end": 388.9079977957385,
                        "count": 679
                      },
                      {
                        "bin_start": 388.9079977957385,
                        "bin_end": 502.5011409677758,
                        "count": 181
                      },
                      {
                        "bin_start": 502.5011409677758,
                        "bin_end": 616.0942841398131,
                        "count": 428
                      },
                      {
                        "bin_start": 616.0942841398131,
                        "bin_end": 729.6874273118506,
                        "count": 146
                      },
                      {
                        "bin_start": 729.6874273118506,
                        "bin_end": 843.2805704838879,
                        "count": 268
                      },
                      {
                        "bin_start": 843.2805704838879,
                        "bin_end": 956.8737136559253,
                        "count": 108
                      },
                      {
                        "bin_start": 956.8737136559253,
                        "bin_end": 1070.4668568279626,
                        "count": 110
                      },
                      {
                        "bin_start": 1070.4668568279626,
                        "bin_end": 1184.06,
                        "count": 44
                      }
                    ]
                  }
                },
                {
                  "name": "Adj. Close",
                  "dtype": "float64",
                  "stats": {
                    "unique_count": 3355,
                    "nan_count": 0,
                    "min": 50.159838616563455,
                    "max": 1187.56,
                    "histogram": [
                      {
                        "bin_start": 50.159838616563455,
                        "bin_end": 163.8998547549071,
                        "count": 357
                      },
                      {
                        "bin_start": 163.8998547549071,
                        "bin_end": 277.6398708932507,
                        "count": 1092
                      },
                      {
                        "bin_start": 277.6398708932507,
                        "bin_end": 391.3798870315943,
                        "count": 687
                      },
                      {
                        "bin_start": 391.3798870315943,
                        "bin_end": 505.11990316993797,
                        "count": 179
                      },
                      {
                        "bin_start": 505.11990316993797,
                        "bin_end": 618.8599193082816,
                        "count": 433
                      },
                      {
                        "bin_start": 618.8599193082816,
                        "bin_end": 732.5999354466252,
                        "count": 142
                      },
                      {
                        "bin_start": 732.5999354466252,
                        "bin_end": 846.3399515849688,
                        "count": 265
                      },
                      {
                        "bin_start": 846.3399515849688,
                        "bin_end": 960.0799677233125,
                        "count": 109
                      },
                      {
                        "bin_start": 960.0799677233125,
                        "bin_end": 1073.8199838616563,
                        "count": 112
                      },
                      {
                        "bin_start": 1073.8199838616563,
                        "bin_end": 1187.56,
                        "count": 48
                      }
                    ]
                  }
                },
                {
                  "name": "Adj. Volume",
                  "dtype": "float64",
                  "stats": {
                    "unique_count": 3396,
                    "nan_count": 0,
                    "min": 521141,
                    "max": 82151100,
                    "histogram": [
                      {
                        "bin_start": 521141,
                        "bin_end": 8684136.9,
                        "count": 2408
                      },
                      {
                        "bin_start": 8684136.9,
                        "bin_end": 16847132.8,
                        "count": 661
                      },
                      {
                        "bin_start": 16847132.8,
                        "bin_end": 25010128.700000003,
                        "count": 216
                      },
                      {
                        "bin_start": 25010128.700000003,
                        "bin_end": 33173124.6,
                        "count": 72
                      },
                      {
                        "bin_start": 33173124.6,
                        "bin_end": 41336120.5,
                        "count": 33
                      },
                      {
                        "bin_start": 41336120.5,
                        "bin_end": 49499116.400000006,
                        "count": 20
                      },
                      {
                        "bin_start": 49499116.400000006,
                        "bin_end": 57662112.300000004,
                        "count": 4
                      },
                      {
                        "bin_start": 57662112.300000004,
                        "bin_end": 65825108.2,
                        "count": 3
                      },
                      {
                        "bin_start": 65825108.2,
                        "bin_end": 73988104.10000001,
                        "count": 4
                      },
                      {
                        "bin_start": 73988104.10000001,
                        "bin_end": 82151100,
                        "count": 3
                      }
                    ]
                  }
                },
                {
                  "name": "_deepnote_index_column",
                  "dtype": "datetime64[ns]"
                }
              ],
              "rows_top": [
                {
                  "Adj. Open": 50.159838616563455,
                  "Adj. High": 52.19110895350058,
                  "Adj. Low": 48.12856827962632,
                  "Adj. Close": 50.32284179174976,
                  "Adj. Volume": 44659000,
                  "_deepnote_index_column": "2004-08-19T00:00:00.000000"
                },
                {
                  "Adj. Open": 50.66138684790595,
                  "Adj. High": 54.70888107483993,
                  "Adj. Low": 50.40559724992128,
                  "Adj. Close": 54.32268893670621,
                  "Adj. Volume": 22834300,
                  "_deepnote_index_column": "2004-08-20T00:00:00.000000"
                },
                {
                  "Adj. Open": 55.55148210349533,
                  "Adj. High": 56.91569329274693,
                  "Adj. Low": 54.693834627899655,
                  "Adj. Close": 54.86937650886953,
                  "Adj. Volume": 18256100,
                  "_deepnote_index_column": "2004-08-23T00:00:00.000000"
                },
                {
                  "Adj. Open": 55.79222525453973,
                  "Adj. High": 55.97278261782303,
                  "Adj. Low": 51.94535032014275,
                  "Adj. Close": 52.597363020888004,
                  "Adj. Volume": 15247300,
                  "_deepnote_index_column": "2004-08-24T00:00:00.000000"
                },
                {
                  "Adj. Open": 52.54219271544033,
                  "Adj. High": 54.167208984990026,
                  "Adj. Low": 52.100830271858925,
                  "Adj. Close": 53.164112522305025,
                  "Adj. Volume": 9188600,
                  "_deepnote_index_column": "2004-08-25T00:00:00.000000"
                },
                {
                  "Adj. Open": 52.637486879395404,
                  "Adj. High": 54.1421315734229,
                  "Adj. Low": 52.49203789230607,
                  "Adj. Close": 54.1220696441692,
                  "Adj. Volume": 7094800,
                  "_deepnote_index_column": "2004-08-26T00:00:00.000000"
                },
                {
                  "Adj. Open": 54.217363808124276,
                  "Adj. High": 54.47816888842238,
                  "Adj. Low": 53.00863257058885,
                  "Adj. Close": 53.23934475700641,
                  "Adj. Volume": 6211700,
                  "_deepnote_index_column": "2004-08-27T00:00:00.000000"
                },
                {
                  "Adj. Open": 52.80299779573843,
                  "Adj. High": 52.90832292432035,
                  "Adj. Low": 51.162935079248456,
                  "Adj. Close": 51.162935079248456,
                  "Adj. Volume": 5196700,
                  "_deepnote_index_column": "2004-08-30T00:00:00.000000"
                },
                {
                  "Adj. Open": 51.31841503096462,
                  "Adj. High": 52.0155670725307,
                  "Adj. Low": 51.23816731394982,
                  "Adj. Close": 51.343492442531755,
                  "Adj. Volume": 4917800,
                  "_deepnote_index_column": "2004-08-31T00:00:00.000000"
                },
                {
                  "Adj. Open": 51.50900335887478,
                  "Adj. High": 51.64442138133725,
                  "Adj. Low": 49.989312217907,
                  "Adj. Close": 50.280210192085654,
                  "Adj. Volume": 9138200,
                  "_deepnote_index_column": "2004-09-01T00:00:00.000000"
                },
                {
                  "Adj. Open": 49.69841424372835,
                  "Adj. High": 51.343492442531755,
                  "Adj. Low": 49.623182009026976,
                  "Adj. Close": 50.91216096357721,
                  "Adj. Volume": 15118600,
                  "_deepnote_index_column": "2004-09-02T00:00:00.000000"
                },
                {
                  "Adj. Open": 50.6312939540254,
                  "Adj. High": 51.027517056785975,
                  "Adj. Low": 49.813770336937125,
                  "Adj. Close": 50.159838616563455,
                  "Adj. Volume": 5152400,
                  "_deepnote_index_column": "2004-09-03T00:00:00.000000"
                },
                {
                  "Adj. Open": 50.66138684790595,
                  "Adj. High": 51.157919596935024,
                  "Adj. Low": 49.95921932402645,
                  "Adj. Close": 50.947269339771175,
                  "Adj. Volume": 5847500,
                  "_deepnote_index_column": "2004-09-07T00:00:00.000000"
                },
                {
                  "Adj. Open": 50.52596882544347,
                  "Adj. High": 51.6745142752178,
                  "Adj. Low": 50.40559724992128,
                  "Adj. Close": 51.30838406633777,
                  "Adj. Volume": 4985600,
                  "_deepnote_index_column": "2004-09-08T00:00:00.000000"
                },
                {
                  "Adj. Open": 51.40869371260628,
                  "Adj. High": 51.5140188411882,
                  "Adj. Low": 50.65637136559253,
                  "Adj. Close": 51.313399548651205,
                  "Adj. Volume": 4061700,
                  "_deepnote_index_column": "2004-09-09T00:00:00.000000"
                },
                {
                  "Adj. Open": 50.8920990343235,
                  "Adj. High": 53.44497953185683,
                  "Adj. Low": 50.806835834995276,
                  "Adj. Close": 52.82807520730555,
                  "Adj. Volume": 8698800,
                  "_deepnote_index_column": "2004-09-10T00:00:00.000000"
                },
                {
                  "Adj. Open": 53.4800879080508,
                  "Adj. High": 54.37284375984045,
                  "Adj. Low": 53.394824708722574,
                  "Adj. Close": 53.91643486931878,
                  "Adj. Volume": 7844100,
                  "_deepnote_index_column": "2004-09-13T00:00:00.000000"
                },
                {
                  "Adj. Open": 53.88634197543823,
                  "Adj. High": 56.17340191036003,
                  "Adj. Low": 53.560335625065605,
                  "Adj. Close": 55.917612312375354,
                  "Adj. Volume": 10828900,
                  "_deepnote_index_column": "2004-09-14T00:00:00.000000"
                },
                {
                  "Adj. Open": 55.45117245722683,
                  "Adj. High": 57.29185446625381,
                  "Adj. Low": 55.27061509394353,
                  "Adj. Close": 56.17340191036003,
                  "Adj. Volume": 10713000,
                  "_deepnote_index_column": "2004-09-15T00:00:00.000000"
                },
                {
                  "Adj. Open": 56.34392830901648,
                  "Adj. High": 58.07928518946153,
                  "Adj. Low": 55.997860029390154,
                  "Adj. Close": 57.16145192610475,
                  "Adj. Volume": 9266300,
                  "_deepnote_index_column": "2004-09-16T00:00:00.000000"
                },
                {
                  "Adj. Open": 57.387148630208884,
                  "Adj. High": 58.926901700430356,
                  "Adj. Low": 56.950801668940905,
                  "Adj. Close": 58.926901700430356,
                  "Adj. Volume": 9472500,
                  "_deepnote_index_column": "2004-09-17T00:00:00.000000"
                },
                {
                  "Adj. Open": 58.65606565550541,
                  "Adj. High": 60.988264931248025,
                  "Adj. Low": 58.56578697386375,
                  "Adj. Close": 59.86479689304083,
                  "Adj. Volume": 10628700,
                  "_deepnote_index_column": "2004-09-20T00:00:00.000000"
                },
                {
                  "Adj. Open": 60.28609740736853,
                  "Adj. High": 60.39643801826388,
                  "Adj. Low": 58.936932665057206,
                  "Adj. Close": 59.10244358140023,
                  "Adj. Volume": 7228700,
                  "_deepnote_index_column": "2004-09-21T00:00:00.000000"
                },
                {
                  "Adj. Open": 58.90683977117666,
                  "Adj. High": 60.02027684475701,
                  "Adj. Low": 58.58584890311746,
                  "Adj. Close": 59.37327962632518,
                  "Adj. Volume": 7581200,
                  "_deepnote_index_column": "2004-09-22T00:00:00.000000"
                },
                {
                  "Adj. Open": 59.603991812742734,
                  "Adj. High": 61.504859609530804,
                  "Adj. Low": 58.691174031699376,
                  "Adj. Close": 60.59705731080088,
                  "Adj. Volume": 8535600,
                  "_deepnote_index_column": "2004-09-23T00:00:00.000000"
                },
                {
                  "Adj. Open": 60.67228954550226,
                  "Adj. High": 62.24213550960428,
                  "Adj. Low": 60.06541618557783,
                  "Adj. Close": 60.100524561771806,
                  "Adj. Volume": 9123400,
                  "_deepnote_index_column": "2004-09-24T00:00:00.000000"
                },
                {
                  "Adj. Open": 59.96510653930933,
                  "Adj. High": 60.62715020468143,
                  "Adj. Low": 59.08238165214653,
                  "Adj. Close": 59.313093838564086,
                  "Adj. Volume": 7066100,
                  "_deepnote_index_column": "2004-09-27T00:00:00.000000"
                },
                {
                  "Adj. Open": 60.76256822714391,
                  "Adj. High": 63.897244673034535,
                  "Adj. Low": 60.291112889681955,
                  "Adj. Close": 63.62640862810958,
                  "Adj. Volume": 16929000,
                  "_deepnote_index_column": "2004-09-28T00:00:00.000000"
                },
                {
                  "Adj. Open": 63.460897711766556,
                  "Adj. High": 67.71904219586439,
                  "Adj. Low": 63.31043324236381,
                  "Adj. Close": 65.74294216437494,
                  "Adj. Volume": 30516400,
                  "_deepnote_index_column": "2004-09-29T00:00:00.000000"
                },
                {
                  "Adj. Open": 65.15061370315944,
                  "Adj. High": 66.35483100661278,
                  "Adj. Low": 64.69972184318253,
                  "Adj. Close": 65.00065078198803,
                  "Adj. Volume": 13758000,
                  "_deepnote_index_column": "2004-09-30T00:00:00.000000"
                },
                {
                  "Adj. Open": 65.60250865959904,
                  "Adj. High": 67.32783457541724,
                  "Adj. Low": 64.64956702004828,
                  "Adj. Close": 66.4952645113887,
                  "Adj. Volume": 15124800,
                  "_deepnote_index_column": "2004-10-01T00:00:00.000000"
                },
                {
                  "Adj. Open": 67.84693699485672,
                  "Adj. High": 68.64690642384801,
                  "Adj. Low": 67.22250944683532,
                  "Adj. Close": 67.73910412511809,
                  "Adj. Volume": 13022700,
                  "_deepnote_index_column": "2004-10-04T00:00:00.000000"
                },
                {
                  "Adj. Open": 67.53848483258108,
                  "Adj. High": 69.47947648787657,
                  "Adj. Low": 66.32473811273223,
                  "Adj. Close": 69.39922877086177,
                  "Adj. Volume": 14973200,
                  "_deepnote_index_column": "2004-10-05T00:00:00.000000"
                },
                {
                  "Adj. Open": 69.048145008922,
                  "Adj. High": 69.43935262936915,
                  "Adj. Low": 68.21055946258004,
                  "Adj. Close": 68.75223155242995,
                  "Adj. Volume": 13381400,
                  "_deepnote_index_column": "2004-10-06T00:00:00.000000"
                },
                {
                  "Adj. Open": 68.49142647213183,
                  "Adj. High": 70.15656660018894,
                  "Adj. Low": 68.48641098981841,
                  "Adj. Close": 69.63997192190615,
                  "Adj. Volume": 14115000,
                  "_deepnote_index_column": "2004-10-07T00:00:00.000000"
                },
                {
                  "Adj. Open": 69.57978613414505,
                  "Adj. High": 70.05625695392044,
                  "Adj. Low": 68.7221386585494,
                  "Adj. Close": 69.07823790280256,
                  "Adj. Volume": 11069500,
                  "_deepnote_index_column": "2004-10-08T00:00:00.000000"
                },
                {
                  "Adj. Open": 68.71712317623596,
                  "Adj. High": 69.64498740421959,
                  "Adj. Low": 67.13223076519365,
                  "Adj. Close": 67.83941377138657,
                  "Adj. Volume": 10472100,
                  "_deepnote_index_column": "2004-10-11T00:00:00.000000"
                },
                {
                  "Adj. Open": 67.45322163325287,
                  "Adj. High": 69.01805211504147,
                  "Adj. Low": 66.90653406108954,
                  "Adj. Close": 68.91272698645953,
                  "Adj. Volume": 11665500,
                  "_deepnote_index_column": "2004-10-12T00:00:00.000000"
                },
                {
                  "Adj. Open": 71.84176865749974,
                  "Adj. High": 71.99724860921592,
                  "Adj. Low": 70.25687624645744,
                  "Adj. Close": 70.66814579615829,
                  "Adj. Volume": 19766200,
                  "_deepnote_index_column": "2004-10-13T00:00:00.000000"
                },
                {
                  "Adj. Open": 70.7283315839194,
                  "Adj. High": 71.41043717854518,
                  "Adj. Low": 69.49452293481684,
                  "Adj. Close": 71.21984885063503,
                  "Adj. Volume": 10442100,
                  "_deepnote_index_column": "2004-10-14T00:00:00.000000"
                },
                {
                  "Adj. Open": 72.69941613309541,
                  "Adj. High": 72.97526766033378,
                  "Adj. Low": 71.1947714390679,
                  "Adj. Close": 72.27811561876771,
                  "Adj. Volume": 13194700,
                  "_deepnote_index_column": "2004-10-15T00:00:00.000000"
                },
                {
                  "Adj. Open": 71.78158286973864,
                  "Adj. High": 74.83099611630104,
                  "Adj. Low": 70.82362574787446,
                  "Adj. Close": 74.81093418704734,
                  "Adj. Volume": 14036300,
                  "_deepnote_index_column": "2004-10-18T00:00:00.000000"
                },
                {
                  "Adj. Open": 75.48300881704628,
                  "Adj. High": 76.43595045659704,
                  "Adj. Low": 73.9031318883174,
                  "Adj. Close": 74.19904534480949,
                  "Adj. Volume": 18109800,
                  "_deepnote_index_column": "2004-10-19T00:00:00.000000"
                },
                {
                  "Adj. Open": 74.19904534480949,
                  "Adj. High": 74.72567098771911,
                  "Adj. Low": 70.01613309541304,
                  "Adj. Close": 70.46251102130786,
                  "Adj. Volume": 22722600,
                  "_deepnote_index_column": "2004-10-20T00:00:00.000000"
                },
                {
                  "Adj. Open": 72.28814658339456,
                  "Adj. High": 75.29743597144956,
                  "Adj. Low": 71.02926052272488,
                  "Adj. Close": 74.92127479794269,
                  "Adj. Volume": 29149800,
                  "_deepnote_index_column": "2004-10-21T00:00:00.000000"
                },
                {
                  "Adj. Open": 85.48137280885904,
                  "Adj. High": 90.36394484097826,
                  "Adj. Low": 82.29403379867745,
                  "Adj. Close": 86.48196153038732,
                  "Adj. Volume": 73710000,
                  "_deepnote_index_column": "2004-10-22T00:00:00.000000"
                },
                {
                  "Adj. Open": 88.41292222105595,
                  "Adj. High": 97.51602261992232,
                  "Adj. Low": 86.54214731814842,
                  "Adj. Close": 93.99013855358456,
                  "Adj. Volume": 65462800,
                  "_deepnote_index_column": "2004-10-25T00:00:00.000000"
                },
                {
                  "Adj. Open": 93.51316618557783,
                  "Adj. High": 96.61825128581924,
                  "Adj. Low": 90.27868164165005,
                  "Adj. Close": 91.18146845806655,
                  "Adj. Volume": 44569500,
                  "_deepnote_index_column": "2004-10-26T00:00:00.000000"
                },
                {
                  "Adj. Open": 91.53706615408838,
                  "Adj. High": 95.05342080403065,
                  "Adj. Low": 91.16642201112627,
                  "Adj. Close": 93.27292458276477,
                  "Adj. Volume": 26686200,
                  "_deepnote_index_column": "2004-10-27T00:00:00.000000"
                },
                {
                  "Adj. Open": 93.60394641545082,
                  "Adj. High": 97.49596069066862,
                  "Adj. Low": 93.08735173716805,
                  "Adj. Close": 96.9492731185053,
                  "Adj. Volume": 29663900,
                  "_deepnote_index_column": "2004-10-28T00:00:00.000000"
                },
                {
                  "Adj. Open": 99.74289676708302,
                  "Adj. High": 100.28456885693292,
                  "Adj. Low": 95.59509289388055,
                  "Adj. Close": 95.61515482313425,
                  "Adj. Volume": 42282600,
                  "_deepnote_index_column": "2004-10-29T00:00:00.000000"
                },
                {
                  "Adj. Open": 97.0495827647738,
                  "Adj. High": 99.14103888947201,
                  "Adj. Low": 95.93113020888003,
                  "Adj. Close": 98.31849979007033,
                  "Adj. Volume": 24425300,
                  "_deepnote_index_column": "2004-11-01T00:00:00.000000"
                },
                {
                  "Adj. Open": 99.67268001469508,
                  "Adj. High": 99.93348509499317,
                  "Adj. Low": 96.969335047759,
                  "Adj. Close": 97.73670384171302,
                  "Adj. Volume": 22669900,
                  "_deepnote_index_column": "2004-11-02T00:00:00.000000"
                },
                {
                  "Adj. Open": 99.40184396977013,
                  "Adj. High": 101.11212343864806,
                  "Adj. Low": 95.67032512858192,
                  "Adj. Close": 96.13174950141702,
                  "Adj. Volume": 27749600,
                  "_deepnote_index_column": "2004-11-03T00:00:00.000000"
                },
                {
                  "Adj. Open": 94.41645455022568,
                  "Adj. High": 95.49478324761205,
                  "Adj. Low": 91.95886821664742,
                  "Adj. Close": 92.63595832895979,
                  "Adj. Volume": 28790300,
                  "_deepnote_index_column": "2004-11-04T00:00:00.000000"
                },
                {
                  "Adj. Open": 91.28177810433505,
                  "Adj. High": 91.43224257373781,
                  "Adj. Low": 84.53595439277842,
                  "Adj. Close": 84.93719297785242,
                  "Adj. Volume": 39626500,
                  "_deepnote_index_column": "2004-11-05T00:00:00.000000"
                },
                {
                  "Adj. Open": 85.6945308071796,
                  "Adj. High": 87.99162170672824,
                  "Adj. Low": 84.96227038941954,
                  "Adj. Close": 86.54214731814842,
                  "Adj. Volume": 22361200,
                  "_deepnote_index_column": "2004-11-08T00:00:00.000000"
                },
                {
                  "Adj. Open": 87.3195470767293,
                  "Adj. High": 87.87125013120604,
                  "Adj. Low": 82.89087619397502,
                  "Adj. Close": 84.61118662747978,
                  "Adj. Volume": 22106200,
                  "_deepnote_index_column": "2004-11-09T00:00:00.000000"
                },
                {
                  "Adj. Open": 85.59923664322451,
                  "Adj. High": 86.52710087120815,
                  "Adj. Low": 83.42251731919808,
                  "Adj. Close": 84.1898861131521,
                  "Adj. Volume": 21266700,
                  "_deepnote_index_column": "2004-11-10T00:00:00.000000"
                },
                {
                  "Adj. Open": 84.92214653091214,
                  "Adj. High": 92.15948750918443,
                  "Adj. Low": 84.04443712606276,
                  "Adj. Close": 91.79335730030441,
                  "Adj. Volume": 29941000,
                  "_deepnote_index_column": "2004-11-11T00:00:00.000000"
                },
                {
                  "Adj. Open": 92.90177889157131,
                  "Adj. High": 95.19385430880655,
                  "Adj. Low": 88.97465624015955,
                  "Adj. Close": 91.28177810433505,
                  "Adj. Volume": 33458700,
                  "_deepnote_index_column": "2004-11-12T00:00:00.000000"
                },
                {
                  "Adj. Open": 90.50437834575416,
                  "Adj. High": 94.45156292641964,
                  "Adj. Low": 89.65174635247192,
                  "Adj. Close": 92.72122152828803,
                  "Adj. Volume": 23779100,
                  "_deepnote_index_column": "2004-11-15T00:00:00.000000"
                },
                {
                  "Adj. Open": 87.46499606381862,
                  "Adj. High": 90.01286107903852,
                  "Adj. Low": 85.67948436023933,
                  "Adj. Close": 86.5396395769917,
                  "Adj. Volume": 41792900,
                  "_deepnote_index_column": "2004-11-16T00:00:00.000000"
                },
                {
                  "Adj. Open": 84.7716820615094,
                  "Adj. High": 89.0248110632938,
                  "Adj. Low": 84.76165109688255,
                  "Adj. Close": 86.5170699065813,
                  "Adj. Volume": 36229500,
                  "_deepnote_index_column": "2004-11-17T00:00:00.000000"
                },
                {
                  "Adj. Open": 85.46381862076204,
                  "Adj. High": 87.48004251075889,
                  "Adj. Low": 83.12158838039257,
                  "Adj. Close": 84.02939067912249,
                  "Adj. Volume": 33225900,
                  "_deepnote_index_column": "2004-11-18T00:00:00.000000"
                },
                {
                  "Adj. Open": 84.7917439907631,
                  "Adj. High": 85.25316836359819,
                  "Adj. Low": 83.51781148315315,
                  "Adj. Close": 84.96227038941954,
                  "Adj. Volume": 17521000,
                  "_deepnote_index_column": "2004-11-19T00:00:00.000000"
                },
                {
                  "Adj. Open": 84.56103180434555,
                  "Adj. High": 85.0124252125538,
                  "Adj. Low": 80.90474519785872,
                  "Adj. Close": 82.8056129946468,
                  "Adj. Volume": 24711600,
                  "_deepnote_index_column": "2004-11-22T00:00:00.000000"
                },
                {
                  "Adj. Open": 84.21747126587593,
                  "Adj. High": 85.67948436023933,
                  "Adj. Low": 83.50778051852629,
                  "Adj. Close": 84.01935971449565,
                  "Adj. Volume": 24801700,
                  "_deepnote_index_column": "2004-11-23T00:00:00.000000"
                },
                {
                  "Adj. Open": 87.69069276792274,
                  "Adj. High": 88.87936207620447,
                  "Adj. Low": 86.52208538889471,
                  "Adj. Close": 87.65056890941534,
                  "Adj. Volume": 30531400,
                  "_deepnote_index_column": "2004-11-24T00:00:00.000000"
                },
                {
                  "Adj. Open": 88.17217907001155,
                  "Adj. High": 90.29372808859033,
                  "Adj. Low": 87.93143591896714,
                  "Adj. Close": 89.97273722053112,
                  "Adj. Volume": 12947200,
                  "_deepnote_index_column": "2004-11-26T00:00:00.000000"
                },
                {
                  "Adj. Open": 90.40657644064238,
                  "Adj. High": 91.75824892411042,
                  "Adj. Low": 89.02982654560722,
                  "Adj. Close": 90.80530728455967,
                  "Adj. Volume": 21311800,
                  "_deepnote_index_column": "2004-11-29T00:00:00.000000"
                },
                {
                  "Adj. Open": 90.62976540358979,
                  "Adj. High": 91.78332633567754,
                  "Adj. Low": 90.40406869948568,
                  "Adj. Close": 91.2717471397082,
                  "Adj. Volume": 15384600,
                  "_deepnote_index_column": "2004-11-30T00:00:00.000000"
                },
                {
                  "Adj. Open": 91.16642201112627,
                  "Adj. High": 91.5325522200063,
                  "Adj. Low": 90.05298493754593,
                  "Adj. Close": 90.25861971239635,
                  "Adj. Volume": 15712400,
                  "_deepnote_index_column": "2004-12-01T00:00:00.000000"
                },
                {
                  "Adj. Open": 90.2285268185158,
                  "Adj. High": 91.03601947097722,
                  "Adj. Low": 89.55143670620343,
                  "Adj. Close": 89.97775270284455,
                  "Adj. Volume": 12509200,
                  "_deepnote_index_column": "2004-12-02T00:00:00.000000"
                },
                {
                  "Adj. Open": 90.27868164165005,
                  "Adj. High": 90.8103227668731,
                  "Adj. Low": 89.07496588642805,
                  "Adj. Close": 90.47930093418705,
                  "Adj. Volume": 11726600,
                  "_deepnote_index_column": "2004-12-03T00:00:00.000000"
                },
                {
                  "Adj. Open": 89.84233468038207,
                  "Adj. High": 90.62976540358979,
                  "Adj. Low": 88.2825196809069,
                  "Adj. Close": 88.41793770336936,
                  "Adj. Volume": 12495400,
                  "_deepnote_index_column": "2004-12-06T00:00:00.000000"
                },
                {
                  "Adj. Open": 88.27248871628005,
                  "Adj. High": 88.37279836254854,
                  "Adj. Low": 85.53905085546343,
                  "Adj. Close": 85.98041329904483,
                  "Adj. Volume": 13728000,
                  "_deepnote_index_column": "2004-12-07T00:00:00.000000"
                },
                {
                  "Adj. Open": 85.54908182009027,
                  "Adj. High": 87.10889681956544,
                  "Adj. Low": 84.62623307442007,
                  "Adj. Close": 85.25316836359819,
                  "Adj. Volume": 15068500,
                  "_deepnote_index_column": "2004-12-08T00:00:00.000000"
                },
                {
                  "Adj. Open": 85.38858638606067,
                  "Adj. High": 87.0186181379238,
                  "Adj. Low": 84.49583053427102,
                  "Adj. Close": 86.98350976172982,
                  "Adj. Volume": 15292600,
                  "_deepnote_index_column": "2004-12-09T00:00:00.000000"
                },
                {
                  "Adj. Open": 86.98350976172982,
                  "Adj. High": 87.71075469717644,
                  "Adj. Low": 85.91019654665686,
                  "Adj. Close": 86.09075390994018,
                  "Adj. Volume": 8625700,
                  "_deepnote_index_column": "2004-12-10T00:00:00.000000"
                },
                {
                  "Adj. Open": 86.28134223785032,
                  "Adj. High": 86.8581227038942,
                  "Adj. Low": 84.98734780098667,
                  "Adj. Close": 85.48889603232917,
                  "Adj. Volume": 9627500,
                  "_deepnote_index_column": "2004-12-13T00:00:00.000000"
                },
                {
                  "Adj. Open": 85.76474755956754,
                  "Adj. High": 89.68685472866589,
                  "Adj. Low": 85.06258003568804,
                  "Adj. Close": 89.62165345859137,
                  "Adj. Volume": 22154600,
                  "_deepnote_index_column": "2004-12-14T00:00:00.000000"
                },
                {
                  "Adj. Open": 89.27056969665162,
                  "Adj. High": 90.62474992127638,
                  "Adj. Low": 88.6035105489661,
                  "Adj. Close": 90.1683410307547,
                  "Adj. Volume": 22919000,
                  "_deepnote_index_column": "2004-12-15T00:00:00.000000"
                },
                {
                  "Adj. Open": 88.8843775585179,
                  "Adj. High": 90.52444027500788,
                  "Adj. Low": 88.24741130471291,
                  "Adj. Close": 88.50821638501102,
                  "Adj. Volume": 17128400,
                  "_deepnote_index_column": "2004-12-16T00:00:00.000000"
                },
                {
                  "Adj. Open": 88.65366537210033,
                  "Adj. High": 90.5294557573213,
                  "Adj. Low": 88.54834024351842,
                  "Adj. Close": 90.31880550015745,
                  "Adj. Volume": 14757600,
                  "_deepnote_index_column": "2004-12-17T00:00:00.000000"
                },
                {
                  "Adj. Open": 91.28177810433505,
                  "Adj. High": 94.5217796788076,
                  "Adj. Low": 91.21657683426052,
                  "Adj. Close": 92.7964537629894,
                  "Adj. Volume": 19649300,
                  "_deepnote_index_column": "2004-12-20T00:00:00.000000"
                },
                {
                  "Adj. Open": 93.42840453448095,
                  "Adj. High": 94.23088170462894,
                  "Adj. Low": 91.98394562821456,
                  "Adj. Close": 92.15948750918443,
                  "Adj. Volume": 11021500,
                  "_deepnote_index_column": "2004-12-21T00:00:00.000000"
                },
                {
                  "Adj. Open": 92.2347197438858,
                  "Adj. High": 93.71428702634617,
                  "Adj. Low": 91.78834181799097,
                  "Adj. Close": 93.43843549910781,
                  "Adj. Volume": 7806100,
                  "_deepnote_index_column": "2004-12-22T00:00:00.000000"
                },
                {
                  "Adj. Open": 94.01521596515167,
                  "Adj. High": 94.59199643119554,
                  "Adj. Low": 93.28797102970505,
                  "Adj. Close": 94.2409126692558,
                  "Adj. Volume": 7221900,
                  "_deepnote_index_column": "2004-12-23T00:00:00.000000"
                },
                {
                  "Adj. Open": 95.00828146320983,
                  "Adj. High": 96.9492731185053,
                  "Adj. Low": 94.8427705468668,
                  "Adj. Close": 96.25212107693922,
                  "Adj. Volume": 12195900,
                  "_deepnote_index_column": "2004-12-27T00:00:00.000000"
                },
                {
                  "Adj. Open": 96.35243072320773,
                  "Adj. High": 97.07466017634093,
                  "Adj. Low": 95.80072766873097,
                  "Adj. Close": 96.67843707358034,
                  "Adj. Volume": 8283300,
                  "_deepnote_index_column": "2004-12-28T00:00:00.000000"
                },
                {
                  "Adj. Open": 96.28221397081977,
                  "Adj. High": 97.05961372940065,
                  "Adj. Low": 96.1869198068647,
                  "Adj. Close": 96.7486538259683,
                  "Adj. Volume": 5350800,
                  "_deepnote_index_column": "2004-12-29T00:00:00.000000"
                },
                {
                  "Adj. Open": 96.78376220216228,
                  "Adj. High": 99.42190589902383,
                  "Adj. Low": 96.22202818305867,
                  "Adj. Close": 99.10593051327805,
                  "Adj. Volume": 11796700,
                  "_deepnote_index_column": "2004-12-30T00:00:00.000000"
                },
                {
                  "Adj. Open": 99.92345413036632,
                  "Adj. High": 100.24946048073895,
                  "Adj. Low": 96.57812742731186,
                  "Adj. Close": 96.69348352052062,
                  "Adj. Volume": 15321600,
                  "_deepnote_index_column": "2004-12-31T00:00:00.000000"
                },
                {
                  "Adj. Open": 99.00562086700955,
                  "Adj. High": 102.13528183058675,
                  "Adj. Low": 98.03261729820511,
                  "Adj. Close": 101.66884197543823,
                  "Adj. Volume": 31656700,
                  "_deepnote_index_column": "2005-01-03T00:00:00.000000"
                },
                {
                  "Adj. Open": 100.97670541618558,
                  "Adj. High": 101.77918258633358,
                  "Adj. Low": 97.03955180014694,
                  "Adj. Close": 97.5511309961163,
                  "Adj. Volume": 27484200,
                  "_deepnote_index_column": "2005-01-04T00:00:00.000000"
                },
                {
                  "Adj. Open": 97.02450535320666,
                  "Adj. High": 98.7548467513383,
                  "Adj. Low": 96.41261651096882,
                  "Adj. Close": 97.05459824708723,
                  "Adj. Volume": 16456700,
                  "_deepnote_index_column": "2005-01-05T00:00:00.000000"
                },
                {
                  "Adj. Open": 97.92729216962317,
                  "Adj. High": 98.25329851999581,
                  "Adj. Low": 94.15063398761414,
                  "Adj. Close": 94.56691901962843,
                  "Adj. Volume": 20753400,
                  "_deepnote_index_column": "2005-01-06T00:00:00.000000"
                },
                {
                  "Adj. Open": 95.61515482313425,
                  "Adj. High": 97.42574393828068,
                  "Adj. Low": 94.6822751128372,
                  "Adj. Close": 97.22512464574368,
                  "Adj. Volume": 19306400,
                  "_deepnote_index_column": "2005-01-07T00:00:00.000000"
                },
                {
                  "Adj. Open": 97.5511309961163,
                  "Adj. High": 99.3567046289493,
                  "Adj. Low": 96.21199721843183,
                  "Adj. Close": 97.8319980056681,
                  "Adj. Volume": 15064100,
                  "_deepnote_index_column": "2005-01-10T00:00:00.000000"
                }
              ],
              "rows_bottom": [
                {
                  "Adj. Open": 1033,
                  "Adj. High": 1041,
                  "Adj. Low": 1026.3,
                  "Adj. Close": 1033.04,
                  "Adj. Volume": 1490660,
                  "_deepnote_index_column": "2017-10-31T00:00:00.000000"
                },
                {
                  "Adj. Open": 1036.32,
                  "Adj. High": 1047.86,
                  "Adj. Low": 1034,
                  "Adj. Close": 1042.6,
                  "Adj. Volume": 2105729,
                  "_deepnote_index_column": "2017-11-01T00:00:00.000000"
                },
                {
                  "Adj. Open": 1039.99,
                  "Adj. High": 1045.52,
                  "Adj. Low": 1028.66,
                  "Adj. Close": 1042.97,
                  "Adj. Volume": 1233333,
                  "_deepnote_index_column": "2017-11-02T00:00:00.000000"
                },
                {
                  "Adj. Open": 1042.75,
                  "Adj. High": 1050.66,
                  "Adj. Low": 1037.65,
                  "Adj. Close": 1049.99,
                  "Adj. Volume": 1370874,
                  "_deepnote_index_column": "2017-11-03T00:00:00.000000"
                },
                {
                  "Adj. Open": 1049.1,
                  "Adj. High": 1052.59,
                  "Adj. Low": 1042,
                  "Adj. Close": 1042.68,
                  "Adj. Volume": 897897,
                  "_deepnote_index_column": "2017-11-06T00:00:00.000000"
                },
                {
                  "Adj. Open": 1049.65,
                  "Adj. High": 1053.41,
                  "Adj. Low": 1043,
                  "Adj. Close": 1052.39,
                  "Adj. Volume": 1254965,
                  "_deepnote_index_column": "2017-11-07T00:00:00.000000"
                },
                {
                  "Adj. Open": 1048,
                  "Adj. High": 1050.88,
                  "Adj. Low": 1035.85,
                  "Adj. Close": 1047.72,
                  "Adj. Volume": 1776722,
                  "_deepnote_index_column": "2017-11-09T00:00:00.000000"
                },
                {
                  "Adj. Open": 1043.87,
                  "Adj. High": 1046.63,
                  "Adj. Low": 1041.22,
                  "Adj. Close": 1044.15,
                  "Adj. Volume": 955500,
                  "_deepnote_index_column": "2017-11-10T00:00:00.000000"
                },
                {
                  "Adj. Open": 1040.8,
                  "Adj. High": 1048.74,
                  "Adj. Low": 1039.26,
                  "Adj. Close": 1041.2,
                  "Adj. Volume": 914852,
                  "_deepnote_index_column": "2017-11-13T00:00:00.000000"
                },
                {
                  "Adj. Open": 1037.72,
                  "Adj. High": 1042.3,
                  "Adj. Low": 1029.33,
                  "Adj. Close": 1041.64,
                  "Adj. Volume": 982782,
                  "_deepnote_index_column": "2017-11-14T00:00:00.000000"
                },
                {
                  "Adj. Open": 1035,
                  "Adj. High": 1039.63,
                  "Adj. Low": 1030.76,
                  "Adj. Close": 1036.41,
                  "Adj. Volume": 900695,
                  "_deepnote_index_column": "2017-11-15T00:00:00.000000"
                },
                {
                  "Adj. Open": 1038.75,
                  "Adj. High": 1051.76,
                  "Adj. Low": 1038,
                  "Adj. Close": 1048.47,
                  "Adj. Volume": 1125995,
                  "_deepnote_index_column": "2017-11-16T00:00:00.000000"
                },
                {
                  "Adj. Open": 1049.8,
                  "Adj. High": 1051,
                  "Adj. Low": 1033.73,
                  "Adj. Close": 1035.89,
                  "Adj. Volume": 1286044,
                  "_deepnote_index_column": "2017-11-17T00:00:00.000000"
                },
                {
                  "Adj. Open": 1036,
                  "Adj. High": 1038.7,
                  "Adj. Low": 1032.68,
                  "Adj. Close": 1034.66,
                  "Adj. Volume": 850423,
                  "_deepnote_index_column": "2017-11-20T00:00:00.000000"
                },
                {
                  "Adj. Open": 1040.04,
                  "Adj. High": 1050.39,
                  "Adj. Low": 1039.14,
                  "Adj. Close": 1050.3,
                  "Adj. Volume": 1075568,
                  "_deepnote_index_column": "2017-11-21T00:00:00.000000"
                },
                {
                  "Adj. Open": 1051.16,
                  "Adj. High": 1055.43,
                  "Adj. Low": 1047.25,
                  "Adj. Close": 1051.92,
                  "Adj. Volume": 721498,
                  "_deepnote_index_column": "2017-11-22T00:00:00.000000"
                },
                {
                  "Adj. Open": 1054.39,
                  "Adj. High": 1060.07,
                  "Adj. Low": 1051.92,
                  "Adj. Close": 1056.52,
                  "Adj. Volume": 825342,
                  "_deepnote_index_column": "2017-11-24T00:00:00.000000"
                },
                {
                  "Adj. Open": 1058.57,
                  "Adj. High": 1073.04,
                  "Adj. Low": 1054.77,
                  "Adj. Close": 1072.01,
                  "Adj. Volume": 1708195,
                  "_deepnote_index_column": "2017-11-27T00:00:00.000000"
                },
                {
                  "Adj. Open": 1073.99,
                  "Adj. High": 1080,
                  "Adj. Low": 1054.54,
                  "Adj. Close": 1063.29,
                  "Adj. Volume": 1694098,
                  "_deepnote_index_column": "2017-11-28T00:00:00.000000"
                },
                {
                  "Adj. Open": 1056.18,
                  "Adj. High": 1058.77,
                  "Adj. Low": 1029.65,
                  "Adj. Close": 1037.38,
                  "Adj. Volume": 2737664,
                  "_deepnote_index_column": "2017-11-29T00:00:00.000000"
                },
                {
                  "Adj. Open": 1039.94,
                  "Adj. High": 1044.14,
                  "Adj. Low": 1030.07,
                  "Adj. Close": 1036.17,
                  "Adj. Volume": 2190379,
                  "_deepnote_index_column": "2017-11-30T00:00:00.000000"
                },
                {
                  "Adj. Open": 1030.41,
                  "Adj. High": 1037.24,
                  "Adj. Low": 1016.9,
                  "Adj. Close": 1025.07,
                  "Adj. Volume": 1850541,
                  "_deepnote_index_column": "2017-12-01T00:00:00.000000"
                },
                {
                  "Adj. Open": 1027.8,
                  "Adj. High": 1031.34,
                  "Adj. Low": 1009.22,
                  "Adj. Close": 1011.87,
                  "Adj. Volume": 1896325,
                  "_deepnote_index_column": "2017-12-04T00:00:00.000000"
                },
                {
                  "Adj. Open": 1010.99,
                  "Adj. High": 1036.68,
                  "Adj. Low": 1002.32,
                  "Adj. Close": 1019.6,
                  "Adj. Volume": 1927802,
                  "_deepnote_index_column": "2017-12-05T00:00:00.000000"
                },
                {
                  "Adj. Open": 1016.52,
                  "Adj. High": 1039.58,
                  "Adj. Low": 1015.31,
                  "Adj. Close": 1032.72,
                  "Adj. Volume": 1369276,
                  "_deepnote_index_column": "2017-12-06T00:00:00.000000"
                },
                {
                  "Adj. Open": 1036.07,
                  "Adj. High": 1048.92,
                  "Adj. Low": 1035.36,
                  "Adj. Close": 1044.57,
                  "Adj. Volume": 1437448,
                  "_deepnote_index_column": "2017-12-07T00:00:00.000000"
                },
                {
                  "Adj. Open": 1051.81,
                  "Adj. High": 1056.42,
                  "Adj. Low": 1045.86,
                  "Adj. Close": 1049.38,
                  "Adj. Volume": 1479665,
                  "_deepnote_index_column": "2017-12-08T00:00:00.000000"
                },
                {
                  "Adj. Open": 1051.11,
                  "Adj. High": 1056,
                  "Adj. Low": 1044.12,
                  "Adj. Close": 1051.97,
                  "Adj. Volume": 1096997,
                  "_deepnote_index_column": "2017-12-11T00:00:00.000000"
                },
                {
                  "Adj. Open": 1050,
                  "Adj. High": 1062.5,
                  "Adj. Low": 1044.87,
                  "Adj. Close": 1048.77,
                  "Adj. Volume": 1684977,
                  "_deepnote_index_column": "2017-12-12T00:00:00.000000"
                },
                {
                  "Adj. Open": 1052.08,
                  "Adj. High": 1055.48,
                  "Adj. Low": 1046.58,
                  "Adj. Close": 1051.39,
                  "Adj. Volume": 1369580,
                  "_deepnote_index_column": "2017-12-13T00:00:00.000000"
                },
                {
                  "Adj. Open": 1055.49,
                  "Adj. High": 1067.08,
                  "Adj. Low": 1053.6,
                  "Adj. Close": 1057.47,
                  "Adj. Volume": 1531504,
                  "_deepnote_index_column": "2017-12-14T00:00:00.000000"
                },
                {
                  "Adj. Open": 1063.78,
                  "Adj. High": 1075.25,
                  "Adj. Low": 1060.09,
                  "Adj. Close": 1072,
                  "Adj. Volume": 3080738,
                  "_deepnote_index_column": "2017-12-15T00:00:00.000000"
                },
                {
                  "Adj. Open": 1076.45,
                  "Adj. High": 1086.49,
                  "Adj. Low": 1070.37,
                  "Adj. Close": 1085.09,
                  "Adj. Volume": 1482768,
                  "_deepnote_index_column": "2017-12-18T00:00:00.000000"
                },
                {
                  "Adj. Open": 1083.02,
                  "Adj. High": 1084.97,
                  "Adj. Low": 1072.27,
                  "Adj. Close": 1079.78,
                  "Adj. Volume": 1287930,
                  "_deepnote_index_column": "2017-12-19T00:00:00.000000"
                },
                {
                  "Adj. Open": 1080.92,
                  "Adj. High": 1081.23,
                  "Adj. Low": 1068.6,
                  "Adj. Close": 1073.56,
                  "Adj. Volume": 1429035,
                  "_deepnote_index_column": "2017-12-20T00:00:00.000000"
                },
                {
                  "Adj. Open": 1075.39,
                  "Adj. High": 1077.52,
                  "Adj. Low": 1069,
                  "Adj. Close": 1070.85,
                  "Adj. Volume": 1211012,
                  "_deepnote_index_column": "2017-12-21T00:00:00.000000"
                },
                {
                  "Adj. Open": 1070,
                  "Adj. High": 1071.72,
                  "Adj. Low": 1067.64,
                  "Adj. Close": 1068.86,
                  "Adj. Volume": 860800,
                  "_deepnote_index_column": "2017-12-22T00:00:00.000000"
                },
                {
                  "Adj. Open": 1068.64,
                  "Adj. High": 1068.86,
                  "Adj. Low": 1058.64,
                  "Adj. Close": 1065.85,
                  "Adj. Volume": 914574,
                  "_deepnote_index_column": "2017-12-26T00:00:00.000000"
                },
                {
                  "Adj. Open": 1066.6,
                  "Adj. High": 1068.27,
                  "Adj. Low": 1058.38,
                  "Adj. Close": 1060.2,
                  "Adj. Volume": 1027634,
                  "_deepnote_index_column": "2017-12-27T00:00:00.000000"
                },
                {
                  "Adj. Open": 1062.25,
                  "Adj. High": 1064.84,
                  "Adj. Low": 1053.38,
                  "Adj. Close": 1055.95,
                  "Adj. Volume": 982285,
                  "_deepnote_index_column": "2017-12-28T00:00:00.000000"
                },
                {
                  "Adj. Open": 1055.49,
                  "Adj. High": 1058.05,
                  "Adj. Low": 1052.7,
                  "Adj. Close": 1053.4,
                  "Adj. Volume": 1156357,
                  "_deepnote_index_column": "2017-12-29T00:00:00.000000"
                },
                {
                  "Adj. Open": 1053.02,
                  "Adj. High": 1075.98,
                  "Adj. Low": 1053.02,
                  "Adj. Close": 1073.21,
                  "Adj. Volume": 1555809,
                  "_deepnote_index_column": "2018-01-02T00:00:00.000000"
                },
                {
                  "Adj. Open": 1073.93,
                  "Adj. High": 1096.1,
                  "Adj. Low": 1073.43,
                  "Adj. Close": 1091.52,
                  "Adj. Volume": 1550593,
                  "_deepnote_index_column": "2018-01-03T00:00:00.000000"
                },
                {
                  "Adj. Open": 1097.09,
                  "Adj. High": 1104.08,
                  "Adj. Low": 1094.26,
                  "Adj. Close": 1095.76,
                  "Adj. Volume": 1289293,
                  "_deepnote_index_column": "2018-01-04T00:00:00.000000"
                },
                {
                  "Adj. Open": 1103.45,
                  "Adj. High": 1113.58,
                  "Adj. Low": 1101.8,
                  "Adj. Close": 1110.29,
                  "Adj. Volume": 1493389,
                  "_deepnote_index_column": "2018-01-05T00:00:00.000000"
                },
                {
                  "Adj. Open": 1111,
                  "Adj. High": 1119.16,
                  "Adj. Low": 1110,
                  "Adj. Close": 1114.21,
                  "Adj. Volume": 1148958,
                  "_deepnote_index_column": "2018-01-08T00:00:00.000000"
                },
                {
                  "Adj. Open": 1118.44,
                  "Adj. High": 1118.44,
                  "Adj. Low": 1108.2,
                  "Adj. Close": 1112.79,
                  "Adj. Volume": 1335995,
                  "_deepnote_index_column": "2018-01-09T00:00:00.000000"
                },
                {
                  "Adj. Open": 1107,
                  "Adj. High": 1112.78,
                  "Adj. Low": 1103.98,
                  "Adj. Close": 1110.14,
                  "Adj. Volume": 1027781,
                  "_deepnote_index_column": "2018-01-10T00:00:00.000000"
                },
                {
                  "Adj. Open": 1112.31,
                  "Adj. High": 1114.85,
                  "Adj. Low": 1106.48,
                  "Adj. Close": 1111.88,
                  "Adj. Volume": 1102461,
                  "_deepnote_index_column": "2018-01-11T00:00:00.000000"
                },
                {
                  "Adj. Open": 1110.1,
                  "Adj. High": 1131.3,
                  "Adj. Low": 1108.01,
                  "Adj. Close": 1130.65,
                  "Adj. Volume": 1914460,
                  "_deepnote_index_column": "2018-01-12T00:00:00.000000"
                },
                {
                  "Adj. Open": 1140.31,
                  "Adj. High": 1148.88,
                  "Adj. Low": 1126.66,
                  "Adj. Close": 1130.7,
                  "Adj. Volume": 1783881,
                  "_deepnote_index_column": "2018-01-16T00:00:00.000000"
                },
                {
                  "Adj. Open": 1136.36,
                  "Adj. High": 1139.32,
                  "Adj. Low": 1123.49,
                  "Adj. Close": 1139.1,
                  "Adj. Volume": 1353097,
                  "_deepnote_index_column": "2018-01-17T00:00:00.000000"
                },
                {
                  "Adj. Open": 1139.35,
                  "Adj. High": 1140.59,
                  "Adj. Low": 1124.46,
                  "Adj. Close": 1135.97,
                  "Adj. Volume": 1333633,
                  "_deepnote_index_column": "2018-01-18T00:00:00.000000"
                },
                {
                  "Adj. Open": 1138.03,
                  "Adj. High": 1143.78,
                  "Adj. Low": 1132.5,
                  "Adj. Close": 1143.5,
                  "Adj. Volume": 1418376,
                  "_deepnote_index_column": "2018-01-19T00:00:00.000000"
                },
                {
                  "Adj. Open": 1143.82,
                  "Adj. High": 1166.88,
                  "Adj. Low": 1141.82,
                  "Adj. Close": 1164.16,
                  "Adj. Volume": 1437954,
                  "_deepnote_index_column": "2018-01-22T00:00:00.000000"
                },
                {
                  "Adj. Open": 1170.62,
                  "Adj. High": 1178.51,
                  "Adj. Low": 1167.25,
                  "Adj. Close": 1176.17,
                  "Adj. Volume": 1832126,
                  "_deepnote_index_column": "2018-01-23T00:00:00.000000"
                },
                {
                  "Adj. Open": 1184.98,
                  "Adj. High": 1187.05,
                  "Adj. Low": 1167.4,
                  "Adj. Close": 1171.29,
                  "Adj. Volume": 1818182,
                  "_deepnote_index_column": "2018-01-24T00:00:00.000000"
                },
                {
                  "Adj. Open": 1180.71,
                  "Adj. High": 1185,
                  "Adj. Low": 1171.84,
                  "Adj. Close": 1182.14,
                  "Adj. Volume": 1398961,
                  "_deepnote_index_column": "2018-01-25T00:00:00.000000"
                },
                {
                  "Adj. Open": 1187.53,
                  "Adj. High": 1187.56,
                  "Adj. Low": 1168.03,
                  "Adj. Close": 1187.56,
                  "Adj. Volume": 1981476,
                  "_deepnote_index_column": "2018-01-26T00:00:00.000000"
                },
                {
                  "Adj. Open": 1188,
                  "Adj. High": 1198,
                  "Adj. Low": 1184.06,
                  "Adj. Close": 1186.48,
                  "Adj. Volume": 1533931,
                  "_deepnote_index_column": "2018-01-29T00:00:00.000000"
                },
                {
                  "Adj. Open": 1177.72,
                  "Adj. High": 1187.93,
                  "Adj. Low": 1174.51,
                  "Adj. Close": 1177.37,
                  "Adj. Volume": 1792602,
                  "_deepnote_index_column": "2018-01-30T00:00:00.000000"
                },
                {
                  "Adj. Open": 1183.81,
                  "Adj. High": 1186.32,
                  "Adj. Low": 1172.1,
                  "Adj. Close": 1182.22,
                  "Adj. Volume": 1643877,
                  "_deepnote_index_column": "2018-01-31T00:00:00.000000"
                },
                {
                  "Adj. Open": 1175.99,
                  "Adj. High": 1187.45,
                  "Adj. Low": 1169.36,
                  "Adj. Close": 1181.59,
                  "Adj. Volume": 2774967,
                  "_deepnote_index_column": "2018-02-01T00:00:00.000000"
                },
                {
                  "Adj. Open": 1127.42,
                  "Adj. High": 1131.3,
                  "Adj. Low": 1111.17,
                  "Adj. Close": 1119.2,
                  "Adj. Volume": 5798880,
                  "_deepnote_index_column": "2018-02-02T00:00:00.000000"
                },
                {
                  "Adj. Open": 1100.61,
                  "Adj. High": 1114.99,
                  "Adj. Low": 1056.74,
                  "Adj. Close": 1068.76,
                  "Adj. Volume": 3742469,
                  "_deepnote_index_column": "2018-02-05T00:00:00.000000"
                },
                {
                  "Adj. Open": 1033.98,
                  "Adj. High": 1087.38,
                  "Adj. Low": 1030.01,
                  "Adj. Close": 1084.43,
                  "Adj. Volume": 3732527,
                  "_deepnote_index_column": "2018-02-06T00:00:00.000000"
                },
                {
                  "Adj. Open": 1084.97,
                  "Adj. High": 1086.53,
                  "Adj. Low": 1054.62,
                  "Adj. Close": 1055.41,
                  "Adj. Volume": 2544683,
                  "_deepnote_index_column": "2018-02-07T00:00:00.000000"
                },
                {
                  "Adj. Open": 1059.87,
                  "Adj. High": 1063.93,
                  "Adj. Low": 1005.12,
                  "Adj. Close": 1005.6,
                  "Adj. Volume": 3067173,
                  "_deepnote_index_column": "2018-02-08T00:00:00.000000"
                },
                {
                  "Adj. Open": 1025.88,
                  "Adj. High": 1051.72,
                  "Adj. Low": 997,
                  "Adj. Close": 1043.43,
                  "Adj. Volume": 4436032,
                  "_deepnote_index_column": "2018-02-09T00:00:00.000000"
                },
                {
                  "Adj. Open": 1056.67,
                  "Adj. High": 1065.57,
                  "Adj. Low": 1045.49,
                  "Adj. Close": 1054.56,
                  "Adj. Volume": 2796258,
                  "_deepnote_index_column": "2018-02-12T00:00:00.000000"
                },
                {
                  "Adj. Open": 1050,
                  "Adj. High": 1061.22,
                  "Adj. Low": 1046.92,
                  "Adj. Close": 1054.14,
                  "Adj. Volume": 1574121,
                  "_deepnote_index_column": "2018-02-13T00:00:00.000000"
                },
                {
                  "Adj. Open": 1054.32,
                  "Adj. High": 1075.47,
                  "Adj. Low": 1049.8,
                  "Adj. Close": 1072.7,
                  "Adj. Volume": 2029979,
                  "_deepnote_index_column": "2018-02-14T00:00:00.000000"
                },
                {
                  "Adj. Open": 1083.45,
                  "Adj. High": 1094.1,
                  "Adj. Low": 1067.23,
                  "Adj. Close": 1091.36,
                  "Adj. Volume": 1806206,
                  "_deepnote_index_column": "2018-02-15T00:00:00.000000"
                },
                {
                  "Adj. Open": 1093.38,
                  "Adj. High": 1108.31,
                  "Adj. Low": 1091.55,
                  "Adj. Close": 1095.5,
                  "Adj. Volume": 1971928,
                  "_deepnote_index_column": "2018-02-16T00:00:00.000000"
                },
                {
                  "Adj. Open": 1092.76,
                  "Adj. High": 1116.29,
                  "Adj. Low": 1090,
                  "Adj. Close": 1103.59,
                  "Adj. Volume": 1646405,
                  "_deepnote_index_column": "2018-02-20T00:00:00.000000"
                },
                {
                  "Adj. Open": 1109.1,
                  "Adj. High": 1136.2,
                  "Adj. Low": 1107.51,
                  "Adj. Close": 1113.75,
                  "Adj. Volume": 2024534,
                  "_deepnote_index_column": "2018-02-21T00:00:00.000000"
                },
                {
                  "Adj. Open": 1119.17,
                  "Adj. High": 1125.46,
                  "Adj. Low": 1105.15,
                  "Adj. Close": 1109.9,
                  "Adj. Volume": 1386115,
                  "_deepnote_index_column": "2018-02-22T00:00:00.000000"
                },
                {
                  "Adj. Open": 1118.66,
                  "Adj. High": 1129,
                  "Adj. Low": 1108.44,
                  "Adj. Close": 1128.09,
                  "Adj. Volume": 1234539,
                  "_deepnote_index_column": "2018-02-23T00:00:00.000000"
                },
                {
                  "Adj. Open": 1131.86,
                  "Adj. High": 1144.2,
                  "Adj. Low": 1129.34,
                  "Adj. Close": 1143.7,
                  "Adj. Volume": 1489118,
                  "_deepnote_index_column": "2018-02-26T00:00:00.000000"
                },
                {
                  "Adj. Open": 1143.7,
                  "Adj. High": 1144.25,
                  "Adj. Low": 1116.79,
                  "Adj. Close": 1117.51,
                  "Adj. Volume": 2094863,
                  "_deepnote_index_column": "2018-02-27T00:00:00.000000"
                },
                {
                  "Adj. Open": 1122,
                  "Adj. High": 1127.65,
                  "Adj. Low": 1103,
                  "Adj. Close": 1103.92,
                  "Adj. Volume": 2431023,
                  "_deepnote_index_column": "2018-02-28T00:00:00.000000"
                },
                {
                  "Adj. Open": 1109.54,
                  "Adj. High": 1111.27,
                  "Adj. Low": 1067.29,
                  "Adj. Close": 1071.41,
                  "Adj. Volume": 2766856,
                  "_deepnote_index_column": "2018-03-01T00:00:00.000000"
                },
                {
                  "Adj. Open": 1057.98,
                  "Adj. High": 1086.89,
                  "Adj. Low": 1050.11,
                  "Adj. Close": 1084.14,
                  "Adj. Volume": 2508145,
                  "_deepnote_index_column": "2018-03-02T00:00:00.000000"
                },
                {
                  "Adj. Open": 1078.13,
                  "Adj. High": 1101.18,
                  "Adj. Low": 1072.27,
                  "Adj. Close": 1094.76,
                  "Adj. Volume": 1432369,
                  "_deepnote_index_column": "2018-03-05T00:00:00.000000"
                },
                {
                  "Adj. Open": 1102.1,
                  "Adj. High": 1105.63,
                  "Adj. Low": 1094.5,
                  "Adj. Close": 1100.9,
                  "Adj. Volume": 1169068,
                  "_deepnote_index_column": "2018-03-06T00:00:00.000000"
                },
                {
                  "Adj. Open": 1092.82,
                  "Adj. High": 1116.2,
                  "Adj. Low": 1089.91,
                  "Adj. Close": 1115.04,
                  "Adj. Volume": 1537429,
                  "_deepnote_index_column": "2018-03-07T00:00:00.000000"
                },
                {
                  "Adj. Open": 1117.2,
                  "Adj. High": 1131.44,
                  "Adj. Low": 1117.2,
                  "Adj. Close": 1129.38,
                  "Adj. Volume": 1510478,
                  "_deepnote_index_column": "2018-03-08T00:00:00.000000"
                },
                {
                  "Adj. Open": 1139.5,
                  "Adj. High": 1161,
                  "Adj. Low": 1134.29,
                  "Adj. Close": 1160.84,
                  "Adj. Volume": 2070174,
                  "_deepnote_index_column": "2018-03-09T00:00:00.000000"
                },
                {
                  "Adj. Open": 1165.05,
                  "Adj. High": 1178.16,
                  "Adj. Low": 1159.2,
                  "Adj. Close": 1165.93,
                  "Adj. Volume": 2129297,
                  "_deepnote_index_column": "2018-03-12T00:00:00.000000"
                },
                {
                  "Adj. Open": 1171.83,
                  "Adj. High": 1178,
                  "Adj. Low": 1134.57,
                  "Adj. Close": 1139.91,
                  "Adj. Volume": 2129435,
                  "_deepnote_index_column": "2018-03-13T00:00:00.000000"
                },
                {
                  "Adj. Open": 1145.8,
                  "Adj. High": 1159.76,
                  "Adj. Low": 1142.35,
                  "Adj. Close": 1148.89,
                  "Adj. Volume": 2033697,
                  "_deepnote_index_column": "2018-03-14T00:00:00.000000"
                },
                {
                  "Adj. Open": 1149.57,
                  "Adj. High": 1162.5,
                  "Adj. Low": 1135.66,
                  "Adj. Close": 1150.61,
                  "Adj. Volume": 1623868,
                  "_deepnote_index_column": "2018-03-15T00:00:00.000000"
                },
                {
                  "Adj. Open": 1155.35,
                  "Adj. High": 1156.81,
                  "Adj. Low": 1131.36,
                  "Adj. Close": 1134.42,
                  "Adj. Volume": 2654602,
                  "_deepnote_index_column": "2018-03-16T00:00:00.000000"
                },
                {
                  "Adj. Open": 1117.76,
                  "Adj. High": 1119.37,
                  "Adj. Low": 1088.92,
                  "Adj. Close": 1100.07,
                  "Adj. Volume": 3076349,
                  "_deepnote_index_column": "2018-03-19T00:00:00.000000"
                },
                {
                  "Adj. Open": 1098.4,
                  "Adj. High": 1105.55,
                  "Adj. Low": 1082.42,
                  "Adj. Close": 1095.8,
                  "Adj. Volume": 2709310,
                  "_deepnote_index_column": "2018-03-20T00:00:00.000000"
                },
                {
                  "Adj. Open": 1092.57,
                  "Adj. High": 1108.7,
                  "Adj. Low": 1087.21,
                  "Adj. Close": 1094,
                  "Adj. Volume": 1990515,
                  "_deepnote_index_column": "2018-03-21T00:00:00.000000"
                },
                {
                  "Adj. Open": 1080.01,
                  "Adj. High": 1083.92,
                  "Adj. Low": 1049.64,
                  "Adj. Close": 1053.15,
                  "Adj. Volume": 3418154,
                  "_deepnote_index_column": "2018-03-22T00:00:00.000000"
                },
                {
                  "Adj. Open": 1051.37,
                  "Adj. High": 1066.78,
                  "Adj. Low": 1024.87,
                  "Adj. Close": 1026.55,
                  "Adj. Volume": 2413517,
                  "_deepnote_index_column": "2018-03-23T00:00:00.000000"
                },
                {
                  "Adj. Open": 1050.6,
                  "Adj. High": 1059.27,
                  "Adj. Low": 1010.58,
                  "Adj. Close": 1054.09,
                  "Adj. Volume": 3272409,
                  "_deepnote_index_column": "2018-03-26T00:00:00.000000"
                },
                {
                  "Adj. Open": 1063.9,
                  "Adj. High": 1064.54,
                  "Adj. Low": 997.62,
                  "Adj. Close": 1006.94,
                  "Adj. Volume": 2940957,
                  "_deepnote_index_column": "2018-03-27T00:00:00.000000"
                }
              ]
            },
            "text/plain": "              Adj. Open    Adj. High     Adj. Low   Adj. Close  Adj. Volume\nDate                                                                       \n2004-08-19    50.159839    52.191109    48.128568    50.322842   44659000.0\n2004-08-20    50.661387    54.708881    50.405597    54.322689   22834300.0\n2004-08-23    55.551482    56.915693    54.693835    54.869377   18256100.0\n2004-08-24    55.792225    55.972783    51.945350    52.597363   15247300.0\n2004-08-25    52.542193    54.167209    52.100830    53.164113    9188600.0\n...                 ...          ...          ...          ...          ...\n2018-03-21  1092.570000  1108.700000  1087.210000  1094.000000    1990515.0\n2018-03-22  1080.010000  1083.920000  1049.640000  1053.150000    3418154.0\n2018-03-23  1051.370000  1066.780000  1024.870000  1026.550000    2413517.0\n2018-03-26  1050.600000  1059.270000  1010.580000  1054.090000    3272409.0\n2018-03-27  1063.900000  1064.540000   997.620000  1006.940000    2940957.0\n\n[3424 rows x 5 columns]",
            "text/html": "<div>\n<style scoped>\n    .dataframe tbody tr th:only-of-type {\n        vertical-align: middle;\n    }\n\n    .dataframe tbody tr th {\n        vertical-align: top;\n    }\n\n    .dataframe thead th {\n        text-align: right;\n    }\n</style>\n<table border=\"1\" class=\"dataframe\">\n  <thead>\n    <tr style=\"text-align: right;\">\n      <th></th>\n      <th>Adj. Open</th>\n      <th>Adj. High</th>\n      <th>Adj. Low</th>\n      <th>Adj. Close</th>\n      <th>Adj. Volume</th>\n    </tr>\n    <tr>\n      <th>Date</th>\n      <th></th>\n      <th></th>\n      <th></th>\n      <th></th>\n      <th></th>\n    </tr>\n  </thead>\n  <tbody>\n    <tr>\n      <th>2004-08-19</th>\n      <td>50.159839</td>\n      <td>52.191109</td>\n      <td>48.128568</td>\n      <td>50.322842</td>\n      <td>44659000.0</td>\n    </tr>\n    <tr>\n      <th>2004-08-20</th>\n      <td>50.661387</td>\n      <td>54.708881</td>\n      <td>50.405597</td>\n      <td>54.322689</td>\n      <td>22834300.0</td>\n    </tr>\n    <tr>\n      <th>2004-08-23</th>\n      <td>55.551482</td>\n      <td>56.915693</td>\n      <td>54.693835</td>\n      <td>54.869377</td>\n      <td>18256100.0</td>\n    </tr>\n    <tr>\n      <th>2004-08-24</th>\n      <td>55.792225</td>\n      <td>55.972783</td>\n      <td>51.945350</td>\n      <td>52.597363</td>\n      <td>15247300.0</td>\n    </tr>\n    <tr>\n      <th>2004-08-25</th>\n      <td>52.542193</td>\n      <td>54.167209</td>\n      <td>52.100830</td>\n      <td>53.164113</td>\n      <td>9188600.0</td>\n    </tr>\n    <tr>\n      <th>...</th>\n      <td>...</td>\n      <td>...</td>\n      <td>...</td>\n      <td>...</td>\n      <td>...</td>\n    </tr>\n    <tr>\n      <th>2018-03-21</th>\n      <td>1092.570000</td>\n      <td>1108.700000</td>\n      <td>1087.210000</td>\n      <td>1094.000000</td>\n      <td>1990515.0</td>\n    </tr>\n    <tr>\n      <th>2018-03-22</th>\n      <td>1080.010000</td>\n      <td>1083.920000</td>\n      <td>1049.640000</td>\n      <td>1053.150000</td>\n      <td>3418154.0</td>\n    </tr>\n    <tr>\n      <th>2018-03-23</th>\n      <td>1051.370000</td>\n      <td>1066.780000</td>\n      <td>1024.870000</td>\n      <td>1026.550000</td>\n      <td>2413517.0</td>\n    </tr>\n    <tr>\n      <th>2018-03-26</th>\n      <td>1050.600000</td>\n      <td>1059.270000</td>\n      <td>1010.580000</td>\n      <td>1054.090000</td>\n      <td>3272409.0</td>\n    </tr>\n    <tr>\n      <th>2018-03-27</th>\n      <td>1063.900000</td>\n      <td>1064.540000</td>\n      <td>997.620000</td>\n      <td>1006.940000</td>\n      <td>2940957.0</td>\n    </tr>\n  </tbody>\n</table>\n<p>3424 rows × 5 columns</p>\n</div>"
          },
          "metadata": {}
        }
      ]
    },
    {
      "cell_type": "code",
      "metadata": {
        "cell_id": "00005-d6ea2171-3ee1-48fe-b4d2-438608c3c6d2",
        "deepnote_to_be_reexecuted": false,
        "source_hash": "4f6647c",
        "execution_millis": 9,
        "execution_start": 1617277451431,
        "deepnote_cell_type": "code"
      },
      "source": "df['HL_PCT'] = (df['Adj. High'] - df['Adj. Close'])/df['Adj. Close'] *100\ndf['PCT_Change'] = (df['Adj. Close'] - df['Adj. Open'])/df['Adj. Open'] *100",
      "execution_count": 52,
      "outputs": [
        {
          "name": "stderr",
          "text": "/shared-libs/python3.7/py-core/lib/python3.7/site-packages/ipykernel_launcher.py:1: SettingWithCopyWarning: \nA value is trying to be set on a copy of a slice from a DataFrame.\nTry using .loc[row_indexer,col_indexer] = value instead\n\nSee the caveats in the documentation: https://pandas.pydata.org/pandas-docs/stable/user_guide/indexing.html#returning-a-view-versus-a-copy\n  \"\"\"Entry point for launching an IPython kernel.\n/shared-libs/python3.7/py-core/lib/python3.7/site-packages/ipykernel_launcher.py:2: SettingWithCopyWarning: \nA value is trying to be set on a copy of a slice from a DataFrame.\nTry using .loc[row_indexer,col_indexer] = value instead\n\nSee the caveats in the documentation: https://pandas.pydata.org/pandas-docs/stable/user_guide/indexing.html#returning-a-view-versus-a-copy\n  \n",
          "output_type": "stream"
        }
      ]
    },
    {
      "cell_type": "code",
      "metadata": {
        "cell_id": "00006-aa165586-41fa-407a-b727-5b3b3ba6b51c",
        "deepnote_to_be_reexecuted": false,
        "source_hash": "e4f34418",
        "execution_millis": 0,
        "execution_start": 1617277451478,
        "deepnote_cell_type": "code"
      },
      "source": "df = df[['Adj. Close', 'HL_PCT', 'PCT_Change', 'Adj. Volume']].copy()",
      "execution_count": 53,
      "outputs": []
    },
    {
      "cell_type": "code",
      "metadata": {
        "cell_id": "00007-da6f48e4-37a1-4338-9393-74dfc036959f",
        "deepnote_to_be_reexecuted": false,
        "source_hash": "f804c160",
        "execution_millis": 80,
        "execution_start": 1617277451479,
        "deepnote_cell_type": "code"
      },
      "source": "df",
      "execution_count": 54,
      "outputs": [
        {
          "output_type": "execute_result",
          "execution_count": 54,
          "data": {
            "application/vnd.deepnote.dataframe.v2+json": {
              "row_count": 3424,
              "column_count": 4,
              "columns": [
                {
                  "name": "Adj. Close",
                  "dtype": "float64",
                  "stats": {
                    "unique_count": 3355,
                    "nan_count": 0,
                    "min": 50.159838616563455,
                    "max": 1187.56,
                    "histogram": [
                      {
                        "bin_start": 50.159838616563455,
                        "bin_end": 163.8998547549071,
                        "count": 357
                      },
                      {
                        "bin_start": 163.8998547549071,
                        "bin_end": 277.6398708932507,
                        "count": 1092
                      },
                      {
                        "bin_start": 277.6398708932507,
                        "bin_end": 391.3798870315943,
                        "count": 687
                      },
                      {
                        "bin_start": 391.3798870315943,
                        "bin_end": 505.11990316993797,
                        "count": 179
                      },
                      {
                        "bin_start": 505.11990316993797,
                        "bin_end": 618.8599193082816,
                        "count": 433
                      },
                      {
                        "bin_start": 618.8599193082816,
                        "bin_end": 732.5999354466252,
                        "count": 142
                      },
                      {
                        "bin_start": 732.5999354466252,
                        "bin_end": 846.3399515849688,
                        "count": 265
                      },
                      {
                        "bin_start": 846.3399515849688,
                        "bin_end": 960.0799677233125,
                        "count": 109
                      },
                      {
                        "bin_start": 960.0799677233125,
                        "bin_end": 1073.8199838616563,
                        "count": 112
                      },
                      {
                        "bin_start": 1073.8199838616563,
                        "bin_end": 1187.56,
                        "count": 48
                      }
                    ]
                  }
                },
                {
                  "name": "HL_PCT",
                  "dtype": "float64",
                  "stats": {
                    "unique_count": 3400,
                    "nan_count": 0,
                    "min": 0,
                    "max": 11.157480314960635,
                    "histogram": [
                      {
                        "bin_start": 0,
                        "bin_end": 1.1157480314960635,
                        "count": 2307
                      },
                      {
                        "bin_start": 1.1157480314960635,
                        "bin_end": 2.231496062992127,
                        "count": 744
                      },
                      {
                        "bin_start": 2.231496062992127,
                        "bin_end": 3.3472440944881905,
                        "count": 214
                      },
                      {
                        "bin_start": 3.3472440944881905,
                        "bin_end": 4.462992125984254,
                        "count": 85
                      },
                      {
                        "bin_start": 4.462992125984254,
                        "bin_end": 5.5787401574803175,
                        "count": 38
                      },
                      {
                        "bin_start": 5.5787401574803175,
                        "bin_end": 6.694488188976381,
                        "count": 22
                      },
                      {
                        "bin_start": 6.694488188976381,
                        "bin_end": 7.8102362204724445,
                        "count": 5
                      },
                      {
                        "bin_start": 7.8102362204724445,
                        "bin_end": 8.925984251968508,
                        "count": 4
                      },
                      {
                        "bin_start": 8.925984251968508,
                        "bin_end": 10.041732283464572,
                        "count": 3
                      },
                      {
                        "bin_start": 10.041732283464572,
                        "bin_end": 11.157480314960635,
                        "count": 2
                      }
                    ]
                  }
                },
                {
                  "name": "PCT_Change",
                  "dtype": "float64",
                  "stats": {
                    "unique_count": 3423,
                    "nan_count": 0,
                    "min": -9.179757335939547,
                    "max": 8.759769945435766,
                    "histogram": [
                      {
                        "bin_start": -9.179757335939547,
                        "bin_end": -7.385804607802015,
                        "count": 5
                      },
                      {
                        "bin_start": -7.385804607802015,
                        "bin_end": -5.5918518796644845,
                        "count": 6
                      },
                      {
                        "bin_start": -5.5918518796644845,
                        "bin_end": -3.797899151526954,
                        "count": 48
                      },
                      {
                        "bin_start": -3.797899151526954,
                        "bin_end": -2.003946423389422,
                        "count": 177
                      },
                      {
                        "bin_start": -2.003946423389422,
                        "bin_end": -0.2099936952518906,
                        "count": 1216
                      },
                      {
                        "bin_start": -0.2099936952518906,
                        "bin_end": 1.5839590328856392,
                        "count": 1626
                      },
                      {
                        "bin_start": 1.5839590328856392,
                        "bin_end": 3.377911761023171,
                        "count": 284
                      },
                      {
                        "bin_start": 3.377911761023171,
                        "bin_end": 5.171864489160702,
                        "count": 50
                      },
                      {
                        "bin_start": 5.171864489160702,
                        "bin_end": 6.965817217298232,
                        "count": 8
                      },
                      {
                        "bin_start": 6.965817217298232,
                        "bin_end": 8.759769945435766,
                        "count": 4
                      }
                    ]
                  }
                },
                {
                  "name": "Adj. Volume",
                  "dtype": "float64",
                  "stats": {
                    "unique_count": 3396,
                    "nan_count": 0,
                    "min": 521141,
                    "max": 82151100,
                    "histogram": [
                      {
                        "bin_start": 521141,
                        "bin_end": 8684136.9,
                        "count": 2408
                      },
                      {
                        "bin_start": 8684136.9,
                        "bin_end": 16847132.8,
                        "count": 661
                      },
                      {
                        "bin_start": 16847132.8,
                        "bin_end": 25010128.700000003,
                        "count": 216
                      },
                      {
                        "bin_start": 25010128.700000003,
                        "bin_end": 33173124.6,
                        "count": 72
                      },
                      {
                        "bin_start": 33173124.6,
                        "bin_end": 41336120.5,
                        "count": 33
                      },
                      {
                        "bin_start": 41336120.5,
                        "bin_end": 49499116.400000006,
                        "count": 20
                      },
                      {
                        "bin_start": 49499116.400000006,
                        "bin_end": 57662112.300000004,
                        "count": 4
                      },
                      {
                        "bin_start": 57662112.300000004,
                        "bin_end": 65825108.2,
                        "count": 3
                      },
                      {
                        "bin_start": 65825108.2,
                        "bin_end": 73988104.10000001,
                        "count": 4
                      },
                      {
                        "bin_start": 73988104.10000001,
                        "bin_end": 82151100,
                        "count": 3
                      }
                    ]
                  }
                },
                {
                  "name": "_deepnote_index_column",
                  "dtype": "datetime64[ns]"
                }
              ],
              "rows_top": [
                {
                  "Adj. Close": 50.32284179174976,
                  "HL_PCT": 3.7125629142373224,
                  "PCT_Change": 0.3249675032496586,
                  "Adj. Volume": 44659000,
                  "_deepnote_index_column": "2004-08-19T00:00:00.000000"
                },
                {
                  "Adj. Close": 54.32268893670621,
                  "HL_PCT": 0.7109223525066888,
                  "PCT_Change": 7.227007227007233,
                  "Adj. Volume": 22834300,
                  "_deepnote_index_column": "2004-08-20T00:00:00.000000"
                },
                {
                  "Adj. Close": 54.86937650886953,
                  "HL_PCT": 3.7294332723948815,
                  "PCT_Change": -1.227880101119542,
                  "Adj. Volume": 18256100,
                  "_deepnote_index_column": "2004-08-23T00:00:00.000000"
                },
                {
                  "Adj. Close": 52.597363020888004,
                  "HL_PCT": 6.417469247639931,
                  "PCT_Change": -5.72635742538655,
                  "Adj. Volume": 15247300,
                  "_deepnote_index_column": "2004-08-24T00:00:00.000000"
                },
                {
                  "Adj. Close": 53.164112522305025,
                  "HL_PCT": 1.8867924528301894,
                  "PCT_Change": 1.1836578846888044,
                  "Adj. Volume": 9188600,
                  "_deepnote_index_column": "2004-08-25T00:00:00.000000"
                },
                {
                  "Adj. Close": 54.1220696441692,
                  "HL_PCT": 0.0370679269761836,
                  "PCT_Change": 2.820390662220099,
                  "Adj. Volume": 7094800,
                  "_deepnote_index_column": "2004-08-26T00:00:00.000000"
                },
                {
                  "Adj. Close": 53.23934475700641,
                  "HL_PCT": 2.326895902025433,
                  "PCT_Change": -1.8038852913968426,
                  "Adj. Volume": 6211700,
                  "_deepnote_index_column": "2004-08-27T00:00:00.000000"
                },
                {
                  "Adj. Close": 51.162935079248456,
                  "HL_PCT": 3.411430251936075,
                  "PCT_Change": -3.10600303951367,
                  "Adj. Volume": 5196700,
                  "_deepnote_index_column": "2004-08-30T00:00:00.000000"
                },
                {
                  "Adj. Close": 51.343492442531755,
                  "HL_PCT": 1.3089772394256038,
                  "PCT_Change": 0.048866301798293425,
                  "Adj. Volume": 4917800,
                  "_deepnote_index_column": "2004-08-31T00:00:00.000000"
                },
                {
                  "Adj. Close": 50.280210192085654,
                  "HL_PCT": 2.7132169576059804,
                  "PCT_Change": -2.385589094449851,
                  "Adj. Volume": 9138200,
                  "_deepnote_index_column": "2004-09-01T00:00:00.000000"
                },
                {
                  "Adj. Close": 50.91216096357721,
                  "HL_PCT": 0.8472071717072152,
                  "PCT_Change": 2.442224240589375,
                  "Adj. Volume": 15118600,
                  "_deepnote_index_column": "2004-09-02T00:00:00.000000"
                },
                {
                  "Adj. Close": 50.159838616563455,
                  "HL_PCT": 1.7298270172982582,
                  "PCT_Change": -0.9311540366518014,
                  "Adj. Volume": 5152400,
                  "_deepnote_index_column": "2004-09-03T00:00:00.000000"
                },
                {
                  "Adj. Close": 50.947269339771175,
                  "HL_PCT": 0.4134672179562877,
                  "PCT_Change": 0.5643005643005604,
                  "Adj. Volume": 5847500,
                  "_deepnote_index_column": "2004-09-07T00:00:00.000000"
                },
                {
                  "Adj. Close": 51.30838406633777,
                  "HL_PCT": 0.7135874877810452,
                  "PCT_Change": 1.5485407980941073,
                  "Adj. Volume": 4985600,
                  "_deepnote_index_column": "2004-09-08T00:00:00.000000"
                },
                {
                  "Adj. Close": 51.313399548651205,
                  "HL_PCT": 0.39096862476784583,
                  "PCT_Change": -0.1853658536585353,
                  "Adj. Volume": 4061700,
                  "_deepnote_index_column": "2004-09-09T00:00:00.000000"
                },
                {
                  "Adj. Close": 52.82807520730555,
                  "HL_PCT": 1.167758473369416,
                  "PCT_Change": 3.804080023652313,
                  "Adj. Volume": 8698800,
                  "_deepnote_index_column": "2004-09-10T00:00:00.000000"
                },
                {
                  "Adj. Close": 53.91643486931878,
                  "HL_PCT": 0.846511627906971,
                  "PCT_Change": 0.8159054675044624,
                  "Adj. Volume": 7844100,
                  "_deepnote_index_column": "2004-09-13T00:00:00.000000"
                },
                {
                  "Adj. Close": 55.917612312375354,
                  "HL_PCT": 0.4574401291595627,
                  "PCT_Change": 3.7695457930007454,
                  "Adj. Volume": 10828900,
                  "_deepnote_index_column": "2004-09-14T00:00:00.000000"
                },
                {
                  "Adj. Close": 56.17340191036003,
                  "HL_PCT": 1.9910714285714404,
                  "PCT_Change": 1.3024602026049115,
                  "Adj. Volume": 10713000,
                  "_deepnote_index_column": "2004-09-15T00:00:00.000000"
                },
                {
                  "Adj. Close": 57.16145192610475,
                  "HL_PCT": 1.6056857067649397,
                  "PCT_Change": 1.450952465729027,
                  "Adj. Volume": 9266300,
                  "_deepnote_index_column": "2004-09-16T00:00:00.000000"
                },
                {
                  "Adj. Close": 58.926901700430356,
                  "HL_PCT": 0,
                  "PCT_Change": 2.683097360601287,
                  "Adj. Volume": 9472500,
                  "_deepnote_index_column": "2004-09-17T00:00:00.000000"
                },
                {
                  "Adj. Close": 59.86479689304083,
                  "HL_PCT": 1.8766756032171452,
                  "PCT_Change": 2.0607097050021355,
                  "Adj. Volume": 10628700,
                  "_deepnote_index_column": "2004-09-20T00:00:00.000000"
                },
                {
                  "Adj. Close": 59.10244358140023,
                  "HL_PCT": 2.189409368635435,
                  "PCT_Change": -1.9633943427620617,
                  "Adj. Volume": 7228700,
                  "_deepnote_index_column": "2004-09-21T00:00:00.000000"
                },
                {
                  "Adj. Close": 59.37327962632518,
                  "HL_PCT": 1.0897110998479518,
                  "PCT_Change": 0.7918263090676829,
                  "Adj. Volume": 7581200,
                  "_deepnote_index_column": "2004-09-22T00:00:00.000000"
                },
                {
                  "Adj. Close": 60.59705731080088,
                  "HL_PCT": 1.4980963416652888,
                  "PCT_Change": 1.6661056883204195,
                  "Adj. Volume": 8535600,
                  "_deepnote_index_column": "2004-09-23T00:00:00.000000"
                },
                {
                  "Adj. Close": 60.100524561771806,
                  "HL_PCT": 3.5633814570641733,
                  "PCT_Change": -0.9423824088617064,
                  "Adj. Volume": 9123400,
                  "_deepnote_index_column": "2004-09-24T00:00:00.000000"
                },
                {
                  "Adj. Close": 59.313093838564086,
                  "HL_PCT": 2.2154574665990037,
                  "PCT_Change": -1.0873201739712204,
                  "Adj. Volume": 7066100,
                  "_deepnote_index_column": "2004-09-27T00:00:00.000000"
                },
                {
                  "Adj. Close": 63.62640862810958,
                  "HL_PCT": 0.4256660886016163,
                  "PCT_Change": 4.713165497317366,
                  "Adj. Volume": 16929000,
                  "_deepnote_index_column": "2004-09-28T00:00:00.000000"
                },
                {
                  "Adj. Close": 65.74294216437494,
                  "HL_PCT": 3.0057979859627713,
                  "PCT_Change": 3.595985141863599,
                  "Adj. Volume": 30516400,
                  "_deepnote_index_column": "2004-09-29T00:00:00.000000"
                },
                {
                  "Adj. Close": 65.00065078198803,
                  "HL_PCT": 2.083333333333341,
                  "PCT_Change": -0.2301788312458147,
                  "Adj. Volume": 13758000,
                  "_deepnote_index_column": "2004-09-30T00:00:00.000000"
                },
                {
                  "Adj. Close": 66.4952645113887,
                  "HL_PCT": 1.2520742193392582,
                  "PCT_Change": 1.360856269113162,
                  "Adj. Volume": 15124800,
                  "_deepnote_index_column": "2004-10-01T00:00:00.000000"
                },
                {
                  "Adj. Close": 67.73910412511809,
                  "HL_PCT": 1.340145120687093,
                  "PCT_Change": -0.1589355017556713,
                  "Adj. Volume": 13022700,
                  "_deepnote_index_column": "2004-10-04T00:00:00.000000"
                },
                {
                  "Adj. Close": 69.39922877086177,
                  "HL_PCT": 0.11563200115631919,
                  "PCT_Change": 2.7550868854894044,
                  "Adj. Volume": 14973200,
                  "_deepnote_index_column": "2004-10-05T00:00:00.000000"
                },
                {
                  "Adj. Close": 68.75223155242995,
                  "HL_PCT": 0.9994163991829311,
                  "PCT_Change": -0.4285610517904901,
                  "Adj. Volume": 13381400,
                  "_deepnote_index_column": "2004-10-06T00:00:00.000000"
                },
                {
                  "Adj. Close": 69.63997192190615,
                  "HL_PCT": 0.7418077061577395,
                  "PCT_Change": 1.6769185705916698,
                  "Adj. Volume": 14115000,
                  "_deepnote_index_column": "2004-10-07T00:00:00.000000"
                },
                {
                  "Adj. Close": 69.07823790280256,
                  "HL_PCT": 1.4158135482465803,
                  "PCT_Change": -0.7208246233691294,
                  "Adj. Volume": 11069500,
                  "_deepnote_index_column": "2004-10-08T00:00:00.000000"
                },
                {
                  "Adj. Close": 67.83941377138657,
                  "HL_PCT": 2.661540736359628,
                  "PCT_Change": -1.277279030727696,
                  "Adj. Volume": 10472100,
                  "_deepnote_index_column": "2004-10-11T00:00:00.000000"
                },
                {
                  "Adj. Close": 68.91272698645953,
                  "HL_PCT": 0.15283842794761784,
                  "PCT_Change": 2.163729645326775,
                  "Adj. Volume": 11665500,
                  "_deepnote_index_column": "2004-10-12T00:00:00.000000"
                },
                {
                  "Adj. Close": 70.66814579615829,
                  "HL_PCT": 1.880766501064592,
                  "PCT_Change": -1.6336218933258952,
                  "Adj. Volume": 19766200,
                  "_deepnote_index_column": "2004-10-13T00:00:00.000000"
                },
                {
                  "Adj. Close": 71.21984885063503,
                  "HL_PCT": 0.2676056338028151,
                  "PCT_Change": 0.6949368883846013,
                  "Adj. Volume": 10442100,
                  "_deepnote_index_column": "2004-10-14T00:00:00.000000"
                },
                {
                  "Adj. Close": 72.27811561876771,
                  "HL_PCT": 0.9645409756435989,
                  "PCT_Change": -0.579510175922728,
                  "Adj. Volume": 13194700,
                  "_deepnote_index_column": "2004-10-15T00:00:00.000000"
                },
                {
                  "Adj. Close": 74.81093418704734,
                  "HL_PCT": 0.02681684097613283,
                  "PCT_Change": 4.220234768026821,
                  "Adj. Volume": 14036300,
                  "_deepnote_index_column": "2004-10-18T00:00:00.000000"
                },
                {
                  "Adj. Close": 74.19904534480949,
                  "HL_PCT": 3.0147357036636455,
                  "PCT_Change": -1.700996677740852,
                  "Adj. Volume": 18109800,
                  "_deepnote_index_column": "2004-10-19T00:00:00.000000"
                },
                {
                  "Adj. Close": 70.46251102130786,
                  "HL_PCT": 6.050252687023986,
                  "PCT_Change": -5.03582533459511,
                  "Adj. Volume": 22722600,
                  "_deepnote_index_column": "2004-10-20T00:00:00.000000"
                },
                {
                  "Adj. Close": 74.92127479794269,
                  "HL_PCT": 0.5020752443432821,
                  "PCT_Change": 3.642544924720733,
                  "Adj. Volume": 29149800,
                  "_deepnote_index_column": "2004-10-21T00:00:00.000000"
                },
                {
                  "Adj. Close": 86.48196153038732,
                  "HL_PCT": 4.488778054862828,
                  "PCT_Change": 1.170534221257371,
                  "Adj. Volume": 73710000,
                  "_deepnote_index_column": "2004-10-22T00:00:00.000000"
                },
                {
                  "Adj. Close": 93.99013855358456,
                  "HL_PCT": 3.751334044823895,
                  "PCT_Change": 6.3081461311549845,
                  "Adj. Volume": 65462800,
                  "_deepnote_index_column": "2004-10-25T00:00:00.000000"
                },
                {
                  "Adj. Close": 91.18146845806655,
                  "HL_PCT": 5.962596259625952,
                  "PCT_Change": -2.4934432472150556,
                  "Adj. Volume": 44569500,
                  "_deepnote_index_column": "2004-10-26T00:00:00.000000"
                },
                {
                  "Adj. Close": 93.27292458276477,
                  "HL_PCT": 1.9089100392536453,
                  "PCT_Change": 1.8963448377888226,
                  "Adj. Volume": 26686200,
                  "_deepnote_index_column": "2004-10-27T00:00:00.000000"
                },
                {
                  "Adj. Close": 96.9492731185053,
                  "HL_PCT": 0.5638903259182579,
                  "PCT_Change": 3.5739163049884857,
                  "Adj. Volume": 29663900,
                  "_deepnote_index_column": "2004-10-28T00:00:00.000000"
                },
                {
                  "Adj. Close": 95.61515482313425,
                  "HL_PCT": 4.883550146873685,
                  "PCT_Change": -4.138381857494846,
                  "Adj. Volume": 42282600,
                  "_deepnote_index_column": "2004-10-29T00:00:00.000000"
                },
                {
                  "Adj. Close": 98.31849979007033,
                  "HL_PCT": 0.8366066418405144,
                  "PCT_Change": 1.3074935400516852,
                  "Adj. Volume": 24425300,
                  "_deepnote_index_column": "2004-11-01T00:00:00.000000"
                },
                {
                  "Adj. Close": 97.73670384171302,
                  "HL_PCT": 2.2476522810078507,
                  "PCT_Change": -1.942333819755448,
                  "Adj. Volume": 22669900,
                  "_deepnote_index_column": "2004-11-02T00:00:00.000000"
                },
                {
                  "Adj. Close": 96.13174950141702,
                  "HL_PCT": 5.180779464704971,
                  "PCT_Change": -3.2897724405873214,
                  "Adj. Volume": 27749600,
                  "_deepnote_index_column": "2004-11-03T00:00:00.000000"
                },
                {
                  "Adj. Close": 92.63595832895979,
                  "HL_PCT": 3.086085544125619,
                  "PCT_Change": -1.8857901726427793,
                  "Adj. Volume": 28790300,
                  "_deepnote_index_column": "2004-11-04T00:00:00.000000"
                },
                {
                  "Adj. Close": 84.93719297785242,
                  "HL_PCT": 7.6468851490995124,
                  "PCT_Change": -6.95054945054945,
                  "Adj. Volume": 39626500,
                  "_deepnote_index_column": "2004-11-05T00:00:00.000000"
                },
                {
                  "Adj. Close": 86.54214731814842,
                  "HL_PCT": 1.6748768472906288,
                  "PCT_Change": 0.9891138944164743,
                  "Adj. Volume": 22361200,
                  "_deepnote_index_column": "2004-11-08T00:00:00.000000"
                },
                {
                  "Adj. Close": 84.61118662747978,
                  "HL_PCT": 3.8529934795495038,
                  "PCT_Change": -3.1016657093624467,
                  "Adj. Volume": 22106200,
                  "_deepnote_index_column": "2004-11-09T00:00:00.000000"
                },
                {
                  "Adj. Close": 84.1898861131521,
                  "HL_PCT": 2.776122959609196,
                  "PCT_Change": -1.6464522177301113,
                  "Adj. Volume": 21266700,
                  "_deepnote_index_column": "2004-11-10T00:00:00.000000"
                },
                {
                  "Adj. Close": 91.79335730030441,
                  "HL_PCT": 0.3988635121844579,
                  "PCT_Change": 8.091188282541943,
                  "Adj. Volume": 29941000,
                  "_deepnote_index_column": "2004-11-11T00:00:00.000000"
                },
                {
                  "Adj. Close": 91.28177810433505,
                  "HL_PCT": 4.285714285714288,
                  "PCT_Change": -1.7437780057226033,
                  "Adj. Volume": 33458700,
                  "_deepnote_index_column": "2004-11-12T00:00:00.000000"
                },
                {
                  "Adj. Close": 92.72122152828803,
                  "HL_PCT": 1.8661762319467607,
                  "PCT_Change": 2.449431975616529,
                  "Adj. Volume": 23779100,
                  "_deepnote_index_column": "2004-11-15T00:00:00.000000"
                },
                {
                  "Adj. Close": 86.5396395769917,
                  "HL_PCT": 4.013445767770723,
                  "PCT_Change": -1.0579735076552566,
                  "Adj. Volume": 41792900,
                  "_deepnote_index_column": "2004-11-16T00:00:00.000000"
                },
                {
                  "Adj. Close": 86.5170699065813,
                  "HL_PCT": 2.8985507246376776,
                  "PCT_Change": 2.0589279375221894,
                  "Adj. Volume": 36229500,
                  "_deepnote_index_column": "2004-11-17T00:00:00.000000"
                },
                {
                  "Adj. Close": 84.02939067912249,
                  "HL_PCT": 4.106482034141107,
                  "PCT_Change": -1.6784037558685498,
                  "Adj. Volume": 33225900,
                  "_deepnote_index_column": "2004-11-18T00:00:00.000000"
                },
                {
                  "Adj. Close": 84.96227038941954,
                  "HL_PCT": 0.34238488783943094,
                  "PCT_Change": 0.20111203123151405,
                  "Adj. Volume": 17521000,
                  "_deepnote_index_column": "2004-11-19T00:00:00.000000"
                },
                {
                  "Adj. Close": 82.8056129946468,
                  "HL_PCT": 2.6650514839491204,
                  "PCT_Change": -2.075919335705815,
                  "Adj. Volume": 24711600,
                  "_deepnote_index_column": "2004-11-22T00:00:00.000000"
                },
                {
                  "Adj. Close": 84.01935971449565,
                  "HL_PCT": 1.9758834765998121,
                  "PCT_Change": -0.23523806687906568,
                  "Adj. Volume": 24801700,
                  "_deepnote_index_column": "2004-11-23T00:00:00.000000"
                },
                {
                  "Adj. Close": 87.65056890941534,
                  "HL_PCT": 1.4019226367589903,
                  "PCT_Change": -0.04575611988103378,
                  "Adj. Volume": 30531400,
                  "_deepnote_index_column": "2004-11-24T00:00:00.000000"
                },
                {
                  "Adj. Close": 89.97273722053112,
                  "HL_PCT": 0.3567645911143453,
                  "PCT_Change": 2.042093287827062,
                  "Adj. Volume": 12947200,
                  "_deepnote_index_column": "2004-11-26T00:00:00.000000"
                },
                {
                  "Adj. Close": 90.80530728455967,
                  "HL_PCT": 1.0494338580502551,
                  "PCT_Change": 0.4410418573687325,
                  "Adj. Volume": 21311800,
                  "_deepnote_index_column": "2004-11-29T00:00:00.000000"
                },
                {
                  "Adj. Close": 91.2717471397082,
                  "HL_PCT": 0.5605011539729602,
                  "PCT_Change": 0.7083563918096402,
                  "Adj. Volume": 15384600,
                  "_deepnote_index_column": "2004-11-30T00:00:00.000000"
                },
                {
                  "Adj. Close": 90.25861971239635,
                  "HL_PCT": 1.411424761058003,
                  "PCT_Change": -0.9957638774275114,
                  "Adj. Volume": 15712400,
                  "_deepnote_index_column": "2004-12-01T00:00:00.000000"
                },
                {
                  "Adj. Close": 89.97775270284455,
                  "HL_PCT": 1.1761426978818201,
                  "PCT_Change": -0.2779321845469686,
                  "Adj. Volume": 12509200,
                  "_deepnote_index_column": "2004-12-02T00:00:00.000000"
                },
                {
                  "Adj. Close": 90.47930093418705,
                  "HL_PCT": 0.3658536585365828,
                  "PCT_Change": 0.2222222222222207,
                  "Adj. Volume": 11726600,
                  "_deepnote_index_column": "2004-12-03T00:00:00.000000"
                },
                {
                  "Adj. Close": 88.41793770336936,
                  "HL_PCT": 2.5015599296613527,
                  "PCT_Change": -1.5854407413610279,
                  "Adj. Volume": 12495400,
                  "_deepnote_index_column": "2004-12-06T00:00:00.000000"
                },
                {
                  "Adj. Close": 85.98041329904483,
                  "HL_PCT": 2.7824768126932082,
                  "PCT_Change": -2.596590909090907,
                  "Adj. Volume": 13728000,
                  "_deepnote_index_column": "2004-12-07T00:00:00.000000"
                },
                {
                  "Adj. Close": 85.25316836359819,
                  "HL_PCT": 2.1767266737263227,
                  "PCT_Change": -0.3458990443806038,
                  "Adj. Volume": 15068500,
                  "_deepnote_index_column": "2004-12-08T00:00:00.000000"
                },
                {
                  "Adj. Close": 86.98350976172982,
                  "HL_PCT": 0.040362105748716785,
                  "PCT_Change": 1.8678414096916336,
                  "Adj. Volume": 15292600,
                  "_deepnote_index_column": "2004-12-09T00:00:00.000000"
                },
                {
                  "Adj. Close": 86.09075390994018,
                  "HL_PCT": 1.8817360908825969,
                  "PCT_Change": -1.0263506890387983,
                  "Adj. Volume": 8625700,
                  "_deepnote_index_column": "2004-12-10T00:00:00.000000"
                },
                {
                  "Adj. Close": 85.48889603232917,
                  "HL_PCT": 1.6016427104722848,
                  "PCT_Change": -0.918444457362098,
                  "Adj. Volume": 9627500,
                  "_deepnote_index_column": "2004-12-13T00:00:00.000000"
                },
                {
                  "Adj. Close": 89.62165345859137,
                  "HL_PCT": 0.07275169287592989,
                  "PCT_Change": 4.4970760233918154,
                  "Adj. Volume": 22154600,
                  "_deepnote_index_column": "2004-12-14T00:00:00.000000"
                },
                {
                  "Adj. Close": 90.1683410307547,
                  "HL_PCT": 0.5061742129269071,
                  "PCT_Change": 1.0056744760941716,
                  "Adj. Volume": 22919000,
                  "_deepnote_index_column": "2004-12-15T00:00:00.000000"
                },
                {
                  "Adj. Close": 88.50821638501102,
                  "HL_PCT": 2.278007593358645,
                  "PCT_Change": -0.423202798781173,
                  "Adj. Volume": 17128400,
                  "_deepnote_index_column": "2004-12-16T00:00:00.000000"
                },
                {
                  "Adj. Close": 90.31880550015745,
                  "HL_PCT": 0.23322967569968742,
                  "PCT_Change": 1.8782529984159506,
                  "Adj. Volume": 14757600,
                  "_deepnote_index_column": "2004-12-17T00:00:00.000000"
                },
                {
                  "Adj. Close": 92.7964537629894,
                  "HL_PCT": 1.8592584585450247,
                  "PCT_Change": 1.6593406593406634,
                  "Adj. Volume": 19649300,
                  "_deepnote_index_column": "2004-12-20T00:00:00.000000"
                },
                {
                  "Adj. Close": 92.15948750918443,
                  "HL_PCT": 2.247619047619032,
                  "PCT_Change": -1.3581704960274763,
                  "Adj. Volume": 11021500,
                  "_deepnote_index_column": "2004-12-21T00:00:00.000000"
                },
                {
                  "Adj. Close": 93.43843549910781,
                  "HL_PCT": 0.29522275899085765,
                  "PCT_Change": 1.305057096247967,
                  "Adj. Volume": 7806100,
                  "_deepnote_index_column": "2004-12-22T00:00:00.000000"
                },
                {
                  "Adj. Close": 94.2409126692558,
                  "HL_PCT": 0.3725385843533618,
                  "PCT_Change": 0.24006401707123248,
                  "Adj. Volume": 7221900,
                  "_deepnote_index_column": "2004-12-23T00:00:00.000000"
                },
                {
                  "Adj. Close": 96.25212107693922,
                  "HL_PCT": 0.7242978479495695,
                  "PCT_Change": 1.3091907300849828,
                  "Adj. Volume": 12195900,
                  "_deepnote_index_column": "2004-12-27T00:00:00.000000"
                },
                {
                  "Adj. Close": 96.67843707358034,
                  "HL_PCT": 0.4098360655737824,
                  "PCT_Change": 0.33834782156054716,
                  "Adj. Volume": 8283300,
                  "_deepnote_index_column": "2004-12-28T00:00:00.000000"
                },
                {
                  "Adj. Close": 96.7486538259683,
                  "HL_PCT": 0.3214100570243627,
                  "PCT_Change": 0.4844506954211711,
                  "Adj. Volume": 5350800,
                  "_deepnote_index_column": "2004-12-29T00:00:00.000000"
                },
                {
                  "Adj. Close": 99.10593051327805,
                  "HL_PCT": 0.3188259109311719,
                  "PCT_Change": 2.399336684458722,
                  "Adj. Volume": 11796700,
                  "_deepnote_index_column": "2004-12-30T00:00:00.000000"
                },
                {
                  "Adj. Close": 96.69348352052062,
                  "HL_PCT": 3.6775766377924213,
                  "PCT_Change": -3.232444912914728,
                  "Adj. Volume": 15321600,
                  "_deepnote_index_column": "2004-12-31T00:00:00.000000"
                },
                {
                  "Adj. Close": 101.66884197543823,
                  "HL_PCT": 0.4587834837945803,
                  "PCT_Change": 2.6899696048632173,
                  "Adj. Volume": 31656700,
                  "_deepnote_index_column": "2005-01-03T00:00:00.000000"
                },
                {
                  "Adj. Close": 97.5511309961163,
                  "HL_PCT": 4.334190231362467,
                  "PCT_Change": -3.3924402721899414,
                  "Adj. Volume": 27484200,
                  "_deepnote_index_column": "2005-01-04T00:00:00.000000"
                },
                {
                  "Adj. Close": 97.05459824708723,
                  "HL_PCT": 1.7518474497442018,
                  "PCT_Change": 0.03101576634790795,
                  "Adj. Volume": 16456700,
                  "_deepnote_index_column": "2005-01-05T00:00:00.000000"
                },
                {
                  "Adj. Close": 94.56691901962843,
                  "HL_PCT": 3.898170246618937,
                  "PCT_Change": -3.431498079385394,
                  "Adj. Volume": 20753400,
                  "_deepnote_index_column": "2005-01-06T00:00:00.000000"
                },
                {
                  "Adj. Close": 97.22512464574368,
                  "HL_PCT": 0.20634511220015334,
                  "PCT_Change": 1.683801930339911,
                  "Adj. Volume": 19306400,
                  "_deepnote_index_column": "2005-01-07T00:00:00.000000"
                },
                {
                  "Adj. Close": 97.8319980056681,
                  "HL_PCT": 1.5584948221060224,
                  "PCT_Change": 0.2879177377892011,
                  "Adj. Volume": 15064100,
                  "_deepnote_index_column": "2005-01-10T00:00:00.000000"
                },
                {
                  "Adj. Close": 97.0696446940275,
                  "HL_PCT": 2.154593365712514,
                  "PCT_Change": -1.0632859625805202,
                  "Adj. Volume": 13903400,
                  "_deepnote_index_column": "2005-01-11T00:00:00.000000"
                },
                {
                  "Adj. Close": 97.9924934396977,
                  "HL_PCT": 0.2815027126625164,
                  "PCT_Change": 0.5403180157463924,
                  "Adj. Volume": 16339200,
                  "_deepnote_index_column": "2005-01-12T00:00:00.000000"
                },
                {
                  "Adj. Close": 97.96741602813059,
                  "HL_PCT": 1.0546255055546805,
                  "PCT_Change": -0.025591155696576582,
                  "Adj. Volume": 13685100,
                  "_deepnote_index_column": "2005-01-13T00:00:00.000000"
                },
                {
                  "Adj. Close": 100.29459982155977,
                  "HL_PCT": 0.020003000450067376,
                  "PCT_Change": 2.0255102040816335,
                  "Adj. Volume": 19261300,
                  "_deepnote_index_column": "2005-01-14T00:00:00.000000"
                },
                {
                  "Adj. Close": 102.26568437073581,
                  "HL_PCT": 0.5492888670917079,
                  "PCT_Change": 1.4983324207277795,
                  "Adj. Volume": 26318800,
                  "_deepnote_index_column": "2005-01-18T00:00:00.000000"
                },
                {
                  "Adj. Close": 98.9554660438753,
                  "HL_PCT": 4.054738976178409,
                  "PCT_Change": -3.5867865519937348,
                  "Adj. Volume": 22492800,
                  "_deepnote_index_column": "2005-01-19T00:00:00.000000"
                },
                {
                  "Adj. Close": 97.26023302193765,
                  "HL_PCT": 1.2015264026402703,
                  "PCT_Change": 0.6958147263474872,
                  "Adj. Volume": 17985100,
                  "_deepnote_index_column": "2005-01-20T00:00:00.000000"
                },
                {
                  "Adj. Close": 94.43150099716595,
                  "HL_PCT": 3.760356915232636,
                  "PCT_Change": -3.16807241308372,
                  "Adj. Volume": 18498200,
                  "_deepnote_index_column": "2005-01-21T00:00:00.000000"
                },
                {
                  "Adj. Close": 90.63979636821665,
                  "HL_PCT": 4.764276228419654,
                  "PCT_Change": -4.2238592400233195,
                  "Adj. Volume": 28017300,
                  "_deepnote_index_column": "2005-01-24T00:00:00.000000"
                },
                {
                  "Adj. Close": 88.83422273538365,
                  "HL_PCT": 2.890695573622399,
                  "PCT_Change": -2.7881448957189865,
                  "Adj. Volume": 21297000,
                  "_deepnote_index_column": "2005-01-25T00:00:00.000000"
                },
                {
                  "Adj. Close": 94.91298729925475,
                  "HL_PCT": 0.08983301627562822,
                  "PCT_Change": 5.561443632509615,
                  "Adj. Volume": 24591100,
                  "_deepnote_index_column": "2005-01-26T00:00:00.000000"
                },
                {
                  "Adj. Close": 94.33119135089746,
                  "HL_PCT": 0.4147171416418517,
                  "PCT_Change": -0.3602458147912519,
                  "Adj. Volume": 13241500,
                  "_deepnote_index_column": "2005-01-27T00:00:00.000000"
                },
                {
                  "Adj. Close": 95.4646903537315,
                  "HL_PCT": 2.2906378060313117,
                  "PCT_Change": 0.11045074422763297,
                  "Adj. Volume": 24391900,
                  "_deepnote_index_column": "2005-01-28T00:00:00.000000"
                },
                {
                  "Adj. Close": 98.11286501521991,
                  "HL_PCT": 0.37828442899498765,
                  "PCT_Change": 0.9964376064845966,
                  "Adj. Volume": 19174200,
                  "_deepnote_index_column": "2005-01-31T00:00:00.000000"
                },
                {
                  "Adj. Close": 96.24710559462581,
                  "HL_PCT": 6.175091193329846,
                  "PCT_Change": -1.27585142504372,
                  "Adj. Volume": 37640300,
                  "_deepnote_index_column": "2005-02-01T00:00:00.000000"
                },
                {
                  "Adj. Close": 103.29887372730136,
                  "HL_PCT": 5.263157894736848,
                  "PCT_Change": -4.449083739271639,
                  "Adj. Volume": 65533000,
                  "_deepnote_index_column": "2005-02-02T00:00:00.000000"
                },
                {
                  "Adj. Close": 105.75646006087962,
                  "HL_PCT": 1.1903632742103682,
                  "PCT_Change": 2.3641924365260563,
                  "Adj. Volume": 25950200,
                  "_deepnote_index_column": "2005-02-03T00:00:00.000000"
                },
                {
                  "Adj. Close": 102.49639655715336,
                  "HL_PCT": 1.658837345860235,
                  "PCT_Change": -1.0219402334479515,
                  "Adj. Volume": 29608900,
                  "_deepnote_index_column": "2005-02-04T00:00:00.000000"
                },
                {
                  "Adj. Close": 98.31849979007033,
                  "HL_PCT": 5.290006631638007,
                  "PCT_Change": -4.496735847218146,
                  "Adj. Volume": 25894800,
                  "_deepnote_index_column": "2005-02-07T00:00:00.000000"
                },
                {
                  "Adj. Close": 99.62754067387425,
                  "HL_PCT": 0.6947241240435053,
                  "PCT_Change": 0.8529650690495473,
                  "Adj. Volume": 22937000,
                  "_deepnote_index_column": "2005-02-08T00:00:00.000000"
                },
                {
                  "Adj. Close": 96.08661016059621,
                  "HL_PCT": 5.230191042906351,
                  "PCT_Change": -4.572624028690957,
                  "Adj. Volume": 34308600,
                  "_deepnote_index_column": "2005-02-09T00:00:00.000000"
                },
                {
                  "Adj. Close": 94.28103652776319,
                  "HL_PCT": 2.250239387168863,
                  "PCT_Change": -2.078449757774653,
                  "Adj. Volume": 37927400,
                  "_deepnote_index_column": "2005-02-10T00:00:00.000000"
                },
                {
                  "Adj. Close": 93.99013855358456,
                  "HL_PCT": 2.6254002134471537,
                  "PCT_Change": 0.3964427300975159,
                  "Adj. Volume": 26205700,
                  "_deepnote_index_column": "2005-02-11T00:00:00.000000"
                },
                {
                  "Adj. Close": 96.79379316678913,
                  "HL_PCT": 0.04663454064977428,
                  "PCT_Change": 3.7134565778159825,
                  "Adj. Volume": 77047200,
                  "_deepnote_index_column": "2005-02-14T00:00:00.000000"
                },
                {
                  "Adj. Close": 97.91726120499632,
                  "HL_PCT": 2.361317420478423,
                  "PCT_Change": 0.8393378270189319,
                  "Adj. Volume": 51514000,
                  "_deepnote_index_column": "2005-02-15T00:00:00.000000"
                }
              ],
              "rows_bottom": [
                {
                  "Adj. Close": 937.43,
                  "HL_PCT": 0.709386300843806,
                  "PCT_Change": 0.07900159070769362,
                  "Adj. Volume": 1618182,
                  "_deepnote_index_column": "2017-09-26T00:00:00.000000"
                },
                {
                  "Adj. Close": 959.9,
                  "HL_PCT": 0.576101677258045,
                  "PCT_Change": 1.8202261493094563,
                  "Adj. Volume": 2313498,
                  "_deepnote_index_column": "2017-09-27T00:00:00.000000"
                },
                {
                  "Adj. Close": 964.81,
                  "HL_PCT": 0.14199686985002277,
                  "PCT_Change": 0.8951633986928047,
                  "Adj. Volume": 1347750,
                  "_deepnote_index_column": "2017-09-28T00:00:00.000000"
                },
                {
                  "Adj. Close": 973.72,
                  "HL_PCT": 0.21464075915046607,
                  "PCT_Change": 0.7991718426501063,
                  "Adj. Volume": 1906445,
                  "_deepnote_index_column": "2017-09-29T00:00:00.000000"
                },
                {
                  "Adj. Close": 967.47,
                  "HL_PCT": 1.0615316237195966,
                  "PCT_Change": -0.8384154153641111,
                  "Adj. Volume": 1466444,
                  "_deepnote_index_column": "2017-10-02T00:00:00.000000"
                },
                {
                  "Adj. Close": 972.08,
                  "HL_PCT": 0.037033988972102465,
                  "PCT_Change": 0.4671544917111183,
                  "Adj. Volume": 1080312,
                  "_deepnote_index_column": "2017-10-03T00:00:00.000000"
                },
                {
                  "Adj. Close": 966.78,
                  "HL_PCT": 0.7881834543536279,
                  "PCT_Change": -0.5124722153618196,
                  "Adj. Volume": 896531,
                  "_deepnote_index_column": "2017-10-04T00:00:00.000000"
                },
                {
                  "Adj. Close": 985.19,
                  "HL_PCT": 0.13383205270049145,
                  "PCT_Change": 1.2746841558815458,
                  "Adj. Volume": 1627255,
                  "_deepnote_index_column": "2017-10-05T00:00:00.000000"
                },
                {
                  "Adj. Close": 993.64,
                  "HL_PCT": 0.06239684392737859,
                  "PCT_Change": 1.3918367346938763,
                  "Adj. Volume": 1490744,
                  "_deepnote_index_column": "2017-10-06T00:00:00.000000"
                },
                {
                  "Adj. Close": 992.31,
                  "HL_PCT": 0.8213159194203518,
                  "PCT_Change": -0.2703517587939753,
                  "Adj. Volume": 1151035,
                  "_deepnote_index_column": "2017-10-09T00:00:00.000000"
                },
                {
                  "Adj. Close": 987.8,
                  "HL_PCT": 0.9789431058918883,
                  "PCT_Change": -0.7535416457349543,
                  "Adj. Volume": 1158864,
                  "_deepnote_index_column": "2017-10-10T00:00:00.000000"
                },
                {
                  "Adj. Close": 1005.65,
                  "HL_PCT": 0.18992691294187522,
                  "PCT_Change": 1.679406292970963,
                  "Adj. Volume": 1748443,
                  "_deepnote_index_column": "2017-10-11T00:00:00.000000"
                },
                {
                  "Adj. Close": 1005.65,
                  "HL_PCT": 0.5856908467160529,
                  "PCT_Change": 0.18030761874401752,
                  "Adj. Volume": 1521137,
                  "_deepnote_index_column": "2017-10-12T00:00:00.000000"
                },
                {
                  "Adj. Close": 1007.87,
                  "HL_PCT": 0.6836199112980827,
                  "PCT_Change": -0.12288055811556808,
                  "Adj. Volume": 1308881,
                  "_deepnote_index_column": "2017-10-13T00:00:00.000000"
                },
                {
                  "Adj. Close": 1009.35,
                  "HL_PCT": 0.26254520235795087,
                  "PCT_Change": -0.027732931866126475,
                  "Adj. Volume": 1066744,
                  "_deepnote_index_column": "2017-10-16T00:00:00.000000"
                },
                {
                  "Adj. Close": 1011,
                  "HL_PCT": 0.35212660731948026,
                  "PCT_Change": 0.3533709203525714,
                  "Adj. Volume": 991412,
                  "_deepnote_index_column": "2017-10-17T00:00:00.000000"
                },
                {
                  "Adj. Close": 1012.74,
                  "HL_PCT": 0.3525090348954259,
                  "PCT_Change": 0.1671529597942787,
                  "Adj. Volume": 1270218,
                  "_deepnote_index_column": "2017-10-18T00:00:00.000000"
                },
                {
                  "Adj. Close": 1001.84,
                  "HL_PCT": 0.5469935319013034,
                  "PCT_Change": -0.28962428464791923,
                  "Adj. Volume": 1677021,
                  "_deepnote_index_column": "2017-10-19T00:00:00.000000"
                },
                {
                  "Adj. Close": 1005.07,
                  "HL_PCT": 0.35619409593360934,
                  "PCT_Change": -0.1966138722009736,
                  "Adj. Volume": 1568454,
                  "_deepnote_index_column": "2017-10-20T00:00:00.000000"
                },
                {
                  "Adj. Close": 985.54,
                  "HL_PCT": 2.0547111228362116,
                  "PCT_Change": -1.95387890726039,
                  "Adj. Volume": 1623580,
                  "_deepnote_index_column": "2017-10-23T00:00:00.000000"
                },
                {
                  "Adj. Close": 988.49,
                  "HL_PCT": 0.07789658974799764,
                  "PCT_Change": 0.20172326406487673,
                  "Adj. Volume": 1416283,
                  "_deepnote_index_column": "2017-10-24T00:00:00.000000"
                },
                {
                  "Adj. Close": 991.46,
                  "HL_PCT": 0.29955822726079856,
                  "PCT_Change": 0.5262250702140443,
                  "Adj. Volume": 1368042,
                  "_deepnote_index_column": "2017-10-25T00:00:00.000000"
                },
                {
                  "Adj. Close": 991.42,
                  "HL_PCT": 1.5220592685239387,
                  "PCT_Change": -0.7060803028633877,
                  "Adj. Volume": 1827682,
                  "_deepnote_index_column": "2017-10-26T00:00:00.000000"
                },
                {
                  "Adj. Close": 1033.67,
                  "HL_PCT": 2.8974430911219073,
                  "PCT_Change": 0.25994432535718714,
                  "Adj. Volume": 5139945,
                  "_deepnote_index_column": "2017-10-27T00:00:00.000000"
                },
                {
                  "Adj. Close": 1033.13,
                  "HL_PCT": 0.6485147077327943,
                  "PCT_Change": 0.38575148664930886,
                  "Adj. Volume": 2245352,
                  "_deepnote_index_column": "2017-10-30T00:00:00.000000"
                },
                {
                  "Adj. Close": 1033.04,
                  "HL_PCT": 0.770541314953926,
                  "PCT_Change": 0.0038722168441397502,
                  "Adj. Volume": 1490660,
                  "_deepnote_index_column": "2017-10-31T00:00:00.000000"
                },
                {
                  "Adj. Close": 1042.6,
                  "HL_PCT": 0.5045079608670623,
                  "PCT_Change": 0.6059904276671272,
                  "Adj. Volume": 2105729,
                  "_deepnote_index_column": "2017-11-01T00:00:00.000000"
                },
                {
                  "Adj. Close": 1042.97,
                  "HL_PCT": 0.24449408899584404,
                  "PCT_Change": 0.2865412167424704,
                  "Adj. Volume": 1233333,
                  "_deepnote_index_column": "2017-11-02T00:00:00.000000"
                },
                {
                  "Adj. Close": 1049.99,
                  "HL_PCT": 0.06381013152506908,
                  "PCT_Change": 0.6943179093742516,
                  "Adj. Volume": 1370874,
                  "_deepnote_index_column": "2017-11-03T00:00:00.000000"
                },
                {
                  "Adj. Close": 1042.68,
                  "HL_PCT": 0.9504354164268859,
                  "PCT_Change": -0.6119531026594077,
                  "Adj. Volume": 897897,
                  "_deepnote_index_column": "2017-11-06T00:00:00.000000"
                },
                {
                  "Adj. Close": 1052.39,
                  "HL_PCT": 0.09692224365491707,
                  "PCT_Change": 0.26103939408374305,
                  "Adj. Volume": 1254965,
                  "_deepnote_index_column": "2017-11-07T00:00:00.000000"
                },
                {
                  "Adj. Close": 1047.72,
                  "HL_PCT": 0.30160729966022237,
                  "PCT_Change": -0.02671755725190579,
                  "Adj. Volume": 1776722,
                  "_deepnote_index_column": "2017-11-09T00:00:00.000000"
                },
                {
                  "Adj. Close": 1044.15,
                  "HL_PCT": 0.23751376717904685,
                  "PCT_Change": 0.026823263433205295,
                  "Adj. Volume": 955500,
                  "_deepnote_index_column": "2017-11-10T00:00:00.000000"
                },
                {
                  "Adj. Close": 1041.2,
                  "HL_PCT": 0.7241644256626933,
                  "PCT_Change": 0.03843197540354448,
                  "Adj. Volume": 914852,
                  "_deepnote_index_column": "2017-11-13T00:00:00.000000"
                },
                {
                  "Adj. Close": 1041.64,
                  "HL_PCT": 0.0633616220575107,
                  "PCT_Change": 0.37775122383688015,
                  "Adj. Volume": 982782,
                  "_deepnote_index_column": "2017-11-14T00:00:00.000000"
                },
                {
                  "Adj. Close": 1036.41,
                  "HL_PCT": 0.31068785519244574,
                  "PCT_Change": 0.13623188405797892,
                  "Adj. Volume": 900695,
                  "_deepnote_index_column": "2017-11-15T00:00:00.000000"
                },
                {
                  "Adj. Close": 1048.47,
                  "HL_PCT": 0.3137905710225341,
                  "PCT_Change": 0.9357400722021687,
                  "Adj. Volume": 1125995,
                  "_deepnote_index_column": "2017-11-16T00:00:00.000000"
                },
                {
                  "Adj. Close": 1035.89,
                  "HL_PCT": 1.4586490843622295,
                  "PCT_Change": -1.3250142884358787,
                  "Adj. Volume": 1286044,
                  "_deepnote_index_column": "2017-11-17T00:00:00.000000"
                },
                {
                  "Adj. Close": 1034.66,
                  "HL_PCT": 0.39046643341773757,
                  "PCT_Change": -0.12934362934362142,
                  "Adj. Volume": 850423,
                  "_deepnote_index_column": "2017-11-20T00:00:00.000000"
                },
                {
                  "Adj. Close": 1050.3,
                  "HL_PCT": 0.008568980291359185,
                  "PCT_Change": 0.9865005192107987,
                  "Adj. Volume": 1075568,
                  "_deepnote_index_column": "2017-11-21T00:00:00.000000"
                },
                {
                  "Adj. Close": 1051.92,
                  "HL_PCT": 0.33367556468172394,
                  "PCT_Change": 0.07230107690551305,
                  "Adj. Volume": 721498,
                  "_deepnote_index_column": "2017-11-22T00:00:00.000000"
                },
                {
                  "Adj. Close": 1056.52,
                  "HL_PCT": 0.33600878355354885,
                  "PCT_Change": 0.20201253805516758,
                  "Adj. Volume": 825342,
                  "_deepnote_index_column": "2017-11-24T00:00:00.000000"
                },
                {
                  "Adj. Close": 1072.01,
                  "HL_PCT": 0.09608119327244827,
                  "PCT_Change": 1.2696373409410862,
                  "Adj. Volume": 1708195,
                  "_deepnote_index_column": "2017-11-27T00:00:00.000000"
                },
                {
                  "Adj. Close": 1063.29,
                  "HL_PCT": 1.5715373980757872,
                  "PCT_Change": -0.9962848816097026,
                  "Adj. Volume": 1694098,
                  "_deepnote_index_column": "2017-11-28T00:00:00.000000"
                },
                {
                  "Adj. Close": 1037.38,
                  "HL_PCT": 2.0619252347259316,
                  "PCT_Change": -1.779999621276672,
                  "Adj. Volume": 2737664,
                  "_deepnote_index_column": "2017-11-29T00:00:00.000000"
                },
                {
                  "Adj. Close": 1036.17,
                  "HL_PCT": 0.7691788027061222,
                  "PCT_Change": -0.3625209146681521,
                  "Adj. Volume": 2190379,
                  "_deepnote_index_column": "2017-11-30T00:00:00.000000"
                },
                {
                  "Adj. Close": 1025.07,
                  "HL_PCT": 1.1872359936394659,
                  "PCT_Change": -0.5182403121087863,
                  "Adj. Volume": 1850541,
                  "_deepnote_index_column": "2017-12-01T00:00:00.000000"
                },
                {
                  "Adj. Close": 1011.87,
                  "HL_PCT": 1.9241602182098405,
                  "PCT_Change": -1.5499124343257393,
                  "Adj. Volume": 1896325,
                  "_deepnote_index_column": "2017-12-04T00:00:00.000000"
                },
                {
                  "Adj. Close": 1019.6,
                  "HL_PCT": 1.6751667320517891,
                  "PCT_Change": 0.8516404712212796,
                  "Adj. Volume": 1927802,
                  "_deepnote_index_column": "2017-12-05T00:00:00.000000"
                },
                {
                  "Adj. Close": 1032.72,
                  "HL_PCT": 0.6642652413045065,
                  "PCT_Change": 1.5936725298075833,
                  "Adj. Volume": 1369276,
                  "_deepnote_index_column": "2017-12-06T00:00:00.000000"
                },
                {
                  "Adj. Close": 1044.57,
                  "HL_PCT": 0.4164393003819884,
                  "PCT_Change": 0.820407887497949,
                  "Adj. Volume": 1437448,
                  "_deepnote_index_column": "2017-12-07T00:00:00.000000"
                },
                {
                  "Adj. Close": 1049.38,
                  "HL_PCT": 0.670872324610719,
                  "PCT_Change": -0.23103031916409203,
                  "Adj. Volume": 1479665,
                  "_deepnote_index_column": "2017-12-08T00:00:00.000000"
                },
                {
                  "Adj. Close": 1051.97,
                  "HL_PCT": 0.3830907725505454,
                  "PCT_Change": 0.08181826830684966,
                  "Adj. Volume": 1096997,
                  "_deepnote_index_column": "2017-12-11T00:00:00.000000"
                },
                {
                  "Adj. Close": 1048.77,
                  "HL_PCT": 1.3091526264099869,
                  "PCT_Change": -0.11714285714285887,
                  "Adj. Volume": 1684977,
                  "_deepnote_index_column": "2017-12-12T00:00:00.000000"
                },
                {
                  "Adj. Close": 1051.39,
                  "HL_PCT": 0.3890088359219621,
                  "PCT_Change": -0.06558436620787651,
                  "Adj. Volume": 1369580,
                  "_deepnote_index_column": "2017-12-13T00:00:00.000000"
                },
                {
                  "Adj. Close": 1057.47,
                  "HL_PCT": 0.90877282570663,
                  "PCT_Change": 0.18759059773186088,
                  "Adj. Volume": 1531504,
                  "_deepnote_index_column": "2017-12-14T00:00:00.000000"
                },
                {
                  "Adj. Close": 1072,
                  "HL_PCT": 0.3031716417910448,
                  "PCT_Change": 0.7727161631164364,
                  "Adj. Volume": 3080738,
                  "_deepnote_index_column": "2017-12-15T00:00:00.000000"
                },
                {
                  "Adj. Close": 1085.09,
                  "HL_PCT": 0.12902155581565503,
                  "PCT_Change": 0.8026383018254328,
                  "Adj. Volume": 1482768,
                  "_deepnote_index_column": "2017-12-18T00:00:00.000000"
                },
                {
                  "Adj. Close": 1079.78,
                  "HL_PCT": 0.4806534664468739,
                  "PCT_Change": -0.2991634503517949,
                  "Adj. Volume": 1287930,
                  "_deepnote_index_column": "2017-12-19T00:00:00.000000"
                },
                {
                  "Adj. Close": 1073.56,
                  "HL_PCT": 0.7144453966243222,
                  "PCT_Change": -0.6809014543167049,
                  "Adj. Volume": 1429035,
                  "_deepnote_index_column": "2017-12-20T00:00:00.000000"
                },
                {
                  "Adj. Close": 1070.85,
                  "HL_PCT": 0.6228696829621397,
                  "PCT_Change": -0.42217242116815207,
                  "Adj. Volume": 1211012,
                  "_deepnote_index_column": "2017-12-21T00:00:00.000000"
                },
                {
                  "Adj. Close": 1068.86,
                  "HL_PCT": 0.2675747993189124,
                  "PCT_Change": -0.10654205607477571,
                  "Adj. Volume": 860800,
                  "_deepnote_index_column": "2017-12-22T00:00:00.000000"
                },
                {
                  "Adj. Close": 1065.85,
                  "HL_PCT": 0.2824037153445598,
                  "PCT_Change": -0.26107950291961657,
                  "Adj. Volume": 914574,
                  "_deepnote_index_column": "2017-12-26T00:00:00.000000"
                },
                {
                  "Adj. Close": 1060.2,
                  "HL_PCT": 0.7611771363893545,
                  "PCT_Change": -0.6000375023438838,
                  "Adj. Volume": 1027634,
                  "_deepnote_index_column": "2017-12-27T00:00:00.000000"
                },
                {
                  "Adj. Close": 1055.95,
                  "HL_PCT": 0.8418959231024075,
                  "PCT_Change": -0.5930807248764373,
                  "Adj. Volume": 982285,
                  "_deepnote_index_column": "2017-12-28T00:00:00.000000"
                },
                {
                  "Adj. Close": 1053.4,
                  "HL_PCT": 0.4414277577368391,
                  "PCT_Change": -0.19801229760584355,
                  "Adj. Volume": 1156357,
                  "_deepnote_index_column": "2017-12-29T00:00:00.000000"
                },
                {
                  "Adj. Close": 1073.21,
                  "HL_PCT": 0.2581041920966057,
                  "PCT_Change": 1.9173425006172775,
                  "Adj. Volume": 1555809,
                  "_deepnote_index_column": "2018-01-02T00:00:00.000000"
                },
                {
                  "Adj. Close": 1091.52,
                  "HL_PCT": 0.41959835825270514,
                  "PCT_Change": 1.637909360945305,
                  "Adj. Volume": 1550593,
                  "_deepnote_index_column": "2018-01-03T00:00:00.000000"
                },
                {
                  "Adj. Close": 1095.76,
                  "HL_PCT": 0.759290355552305,
                  "PCT_Change": -0.1212297988314475,
                  "Adj. Volume": 1289293,
                  "_deepnote_index_column": "2018-01-04T00:00:00.000000"
                },
                {
                  "Adj. Close": 1110.29,
                  "HL_PCT": 0.2963189797260143,
                  "PCT_Change": 0.6198740314468184,
                  "Adj. Volume": 1493389,
                  "_deepnote_index_column": "2018-01-05T00:00:00.000000"
                },
                {
                  "Adj. Close": 1114.21,
                  "HL_PCT": 0.4442609561931813,
                  "PCT_Change": 0.2889288928892922,
                  "Adj. Volume": 1148958,
                  "_deepnote_index_column": "2018-01-08T00:00:00.000000"
                },
                {
                  "Adj. Close": 1112.79,
                  "HL_PCT": 0.5077328157154621,
                  "PCT_Change": -0.5051679124494913,
                  "Adj. Volume": 1335995,
                  "_deepnote_index_column": "2018-01-09T00:00:00.000000"
                },
                {
                  "Adj. Close": 1110.14,
                  "HL_PCT": 0.23780784405569322,
                  "PCT_Change": 0.28364950316170734,
                  "Adj. Volume": 1027781,
                  "_deepnote_index_column": "2018-01-10T00:00:00.000000"
                },
                {
                  "Adj. Close": 1111.88,
                  "HL_PCT": 0.2671151563118142,
                  "PCT_Change": -0.038658287707548825,
                  "Adj. Volume": 1102461,
                  "_deepnote_index_column": "2018-01-11T00:00:00.000000"
                },
                {
                  "Adj. Close": 1130.65,
                  "HL_PCT": 0.05748905496836895,
                  "PCT_Change": 1.8511845779659655,
                  "Adj. Volume": 1914460,
                  "_deepnote_index_column": "2018-01-12T00:00:00.000000"
                },
                {
                  "Adj. Close": 1130.7,
                  "HL_PCT": 1.6078535420536006,
                  "PCT_Change": -0.8427532863870263,
                  "Adj. Volume": 1783881,
                  "_deepnote_index_column": "2018-01-16T00:00:00.000000"
                },
                {
                  "Adj. Close": 1139.1,
                  "HL_PCT": 0.0193134931085969,
                  "PCT_Change": 0.24112077158646988,
                  "Adj. Volume": 1353097,
                  "_deepnote_index_column": "2018-01-17T00:00:00.000000"
                },
                {
                  "Adj. Close": 1135.97,
                  "HL_PCT": 0.40670088118523295,
                  "PCT_Change": -0.29666037653046756,
                  "Adj. Volume": 1333633,
                  "_deepnote_index_column": "2018-01-18T00:00:00.000000"
                },
                {
                  "Adj. Close": 1143.5,
                  "HL_PCT": 0.024486226497592713,
                  "PCT_Change": 0.4806551672627284,
                  "Adj. Volume": 1418376,
                  "_deepnote_index_column": "2018-01-19T00:00:00.000000"
                },
                {
                  "Adj. Close": 1164.16,
                  "HL_PCT": 0.23364485981308644,
                  "PCT_Change": 1.7782518228392707,
                  "Adj. Volume": 1437954,
                  "_deepnote_index_column": "2018-01-22T00:00:00.000000"
                },
                {
                  "Adj. Close": 1176.17,
                  "HL_PCT": 0.19895083193755309,
                  "PCT_Change": 0.47410773777999543,
                  "Adj. Volume": 1832126,
                  "_deepnote_index_column": "2018-01-23T00:00:00.000000"
                },
                {
                  "Adj. Close": 1171.29,
                  "HL_PCT": 1.3455250194230286,
                  "PCT_Change": -1.1552937602322448,
                  "Adj. Volume": 1818182,
                  "_deepnote_index_column": "2018-01-24T00:00:00.000000"
                },
                {
                  "Adj. Close": 1182.14,
                  "HL_PCT": 0.2419341194782259,
                  "PCT_Change": 0.12111356726038262,
                  "Adj. Volume": 1398961,
                  "_deepnote_index_column": "2018-01-25T00:00:00.000000"
                },
                {
                  "Adj. Close": 1187.56,
                  "HL_PCT": 0,
                  "PCT_Change": 0.002526251968369028,
                  "Adj. Volume": 1981476,
                  "_deepnote_index_column": "2018-01-26T00:00:00.000000"
                },
                {
                  "Adj. Close": 1186.48,
                  "HL_PCT": 0.9709392488706072,
                  "PCT_Change": -0.12794612794612642,
                  "Adj. Volume": 1533931,
                  "_deepnote_index_column": "2018-01-29T00:00:00.000000"
                },
                {
                  "Adj. Close": 1177.37,
                  "HL_PCT": 0.8969143090107761,
                  "PCT_Change": -0.02971843901777472,
                  "Adj. Volume": 1792602,
                  "_deepnote_index_column": "2018-01-30T00:00:00.000000"
                },
                {
                  "Adj. Close": 1182.22,
                  "HL_PCT": 0.34680516316759225,
                  "PCT_Change": -0.1343120940015643,
                  "Adj. Volume": 1643877,
                  "_deepnote_index_column": "2018-01-31T00:00:00.000000"
                },
                {
                  "Adj. Close": 1181.59,
                  "HL_PCT": 0.4959419087839375,
                  "PCT_Change": 0.47619452546364416,
                  "Adj. Volume": 2774967,
                  "_deepnote_index_column": "2018-02-01T00:00:00.000000"
                },
                {
                  "Adj. Close": 1119.2,
                  "HL_PCT": 1.0811293781272255,
                  "PCT_Change": -0.7290982952227233,
                  "Adj. Volume": 5798880,
                  "_deepnote_index_column": "2018-02-02T00:00:00.000000"
                },
                {
                  "Adj. Close": 1068.76,
                  "HL_PCT": 4.325573561884802,
                  "PCT_Change": -2.8938497742161085,
                  "Adj. Volume": 3742469,
                  "_deepnote_index_column": "2018-02-05T00:00:00.000000"
                },
                {
                  "Adj. Close": 1084.43,
                  "HL_PCT": 0.272032311905798,
                  "PCT_Change": 4.879204626781954,
                  "Adj. Volume": 3732527,
                  "_deepnote_index_column": "2018-02-06T00:00:00.000000"
                },
                {
                  "Adj. Close": 1055.41,
                  "HL_PCT": 2.948617125098292,
                  "PCT_Change": -2.7244992949113747,
                  "Adj. Volume": 2544683,
                  "_deepnote_index_column": "2018-02-07T00:00:00.000000"
                },
                {
                  "Adj. Close": 1005.6,
                  "HL_PCT": 5.800517104216392,
                  "PCT_Change": -5.120439299159319,
                  "Adj. Volume": 3067173,
                  "_deepnote_index_column": "2018-02-08T00:00:00.000000"
                },
                {
                  "Adj. Close": 1043.43,
                  "HL_PCT": 0.7944950787307212,
                  "PCT_Change": 1.710726400748621,
                  "Adj. Volume": 4436032,
                  "_deepnote_index_column": "2018-02-09T00:00:00.000000"
                },
                {
                  "Adj. Close": 1054.56,
                  "HL_PCT": 1.0440373236231215,
                  "PCT_Change": -0.19968391266905725,
                  "Adj. Volume": 2796258,
                  "_deepnote_index_column": "2018-02-12T00:00:00.000000"
                },
                {
                  "Adj. Close": 1054.14,
                  "HL_PCT": 0.6716375434003004,
                  "PCT_Change": 0.39428571428572384,
                  "Adj. Volume": 1574121,
                  "_deepnote_index_column": "2018-02-13T00:00:00.000000"
                },
                {
                  "Adj. Close": 1072.7,
                  "HL_PCT": 0.25822690407383064,
                  "PCT_Change": 1.7433037407997676,
                  "Adj. Volume": 2029979,
                  "_deepnote_index_column": "2018-02-14T00:00:00.000000"
                },
                {
                  "Adj. Close": 1091.36,
                  "HL_PCT": 0.25106289400381265,
                  "PCT_Change": 0.7300752226683146,
                  "Adj. Volume": 1806206,
                  "_deepnote_index_column": "2018-02-15T00:00:00.000000"
                },
                {
                  "Adj. Close": 1095.5,
                  "HL_PCT": 1.169329073482423,
                  "PCT_Change": 0.19389416305400597,
                  "Adj. Volume": 1971928,
                  "_deepnote_index_column": "2018-02-16T00:00:00.000000"
                },
                {
                  "Adj. Close": 1103.59,
                  "HL_PCT": 1.150789695448495,
                  "PCT_Change": 0.9910684871334902,
                  "Adj. Volume": 1646405,
                  "_deepnote_index_column": "2018-02-20T00:00:00.000000"
                },
                {
                  "Adj. Close": 1113.75,
                  "HL_PCT": 2.015712682379353,
                  "PCT_Change": 0.41925885853395467,
                  "Adj. Volume": 2024534,
                  "_deepnote_index_column": "2018-02-21T00:00:00.000000"
                },
                {
                  "Adj. Close": 1109.9,
                  "HL_PCT": 1.4019281016307725,
                  "PCT_Change": -0.8282923952571979,
                  "Adj. Volume": 1386115,
                  "_deepnote_index_column": "2018-02-22T00:00:00.000000"
                },
                {
                  "Adj. Close": 1128.09,
                  "HL_PCT": 0.08066732264270421,
                  "PCT_Change": 0.842972842507986,
                  "Adj. Volume": 1234539,
                  "_deepnote_index_column": "2018-02-23T00:00:00.000000"
                },
                {
                  "Adj. Close": 1143.7,
                  "HL_PCT": 0.04371775815336189,
                  "PCT_Change": 1.0460657678511607,
                  "Adj. Volume": 1489118,
                  "_deepnote_index_column": "2018-02-26T00:00:00.000000"
                },
                {
                  "Adj. Close": 1117.51,
                  "HL_PCT": 2.3928197510536826,
                  "PCT_Change": -2.2899361720731006,
                  "Adj. Volume": 2094863,
                  "_deepnote_index_column": "2018-02-27T00:00:00.000000"
                },
                {
                  "Adj. Close": 1103.92,
                  "HL_PCT": 2.149612290745708,
                  "PCT_Change": -1.6114081996434875,
                  "Adj. Volume": 2431023,
                  "_deepnote_index_column": "2018-02-28T00:00:00.000000"
                },
                {
                  "Adj. Close": 1071.41,
                  "HL_PCT": 3.720331152406632,
                  "PCT_Change": -3.4365592948428976,
                  "Adj. Volume": 2766856,
                  "_deepnote_index_column": "2018-03-01T00:00:00.000000"
                },
                {
                  "Adj. Close": 1084.14,
                  "HL_PCT": 0.25365727673547694,
                  "PCT_Change": 2.4726365337719125,
                  "Adj. Volume": 2508145,
                  "_deepnote_index_column": "2018-03-02T00:00:00.000000"
                },
                {
                  "Adj. Close": 1094.76,
                  "HL_PCT": 0.586429902444378,
                  "PCT_Change": 1.542485600066771,
                  "Adj. Volume": 1432369,
                  "_deepnote_index_column": "2018-03-05T00:00:00.000000"
                },
                {
                  "Adj. Close": 1100.9,
                  "HL_PCT": 0.42964846943410095,
                  "PCT_Change": -0.10888304146627513,
                  "Adj. Volume": 1169068,
                  "_deepnote_index_column": "2018-03-06T00:00:00.000000"
                },
                {
                  "Adj. Close": 1115.04,
                  "HL_PCT": 0.1040321423446766,
                  "PCT_Change": 2.0332717190388196,
                  "Adj. Volume": 1537429,
                  "_deepnote_index_column": "2018-03-07T00:00:00.000000"
                },
                {
                  "Adj. Close": 1129.38,
                  "HL_PCT": 0.182400963360423,
                  "PCT_Change": 1.09022556390978,
                  "Adj. Volume": 1510478,
                  "_deepnote_index_column": "2018-03-08T00:00:00.000000"
                },
                {
                  "Adj. Close": 1160.84,
                  "HL_PCT": 0.013783122566424473,
                  "PCT_Change": 1.8727512066695848,
                  "Adj. Volume": 2070174,
                  "_deepnote_index_column": "2018-03-09T00:00:00.000000"
                },
                {
                  "Adj. Close": 1165.93,
                  "HL_PCT": 1.0489480500544646,
                  "PCT_Change": 0.07553323891679406,
                  "Adj. Volume": 2129297,
                  "_deepnote_index_column": "2018-03-12T00:00:00.000000"
                },
                {
                  "Adj. Close": 1139.91,
                  "HL_PCT": 3.341491872165339,
                  "PCT_Change": -2.7239445994726066,
                  "Adj. Volume": 2129435,
                  "_deepnote_index_column": "2018-03-13T00:00:00.000000"
                },
                {
                  "Adj. Close": 1148.89,
                  "HL_PCT": 0.9461306130264768,
                  "PCT_Change": 0.26968057252575894,
                  "Adj. Volume": 2033697,
                  "_deepnote_index_column": "2018-03-14T00:00:00.000000"
                },
                {
                  "Adj. Close": 1150.61,
                  "HL_PCT": 1.033364910786461,
                  "PCT_Change": 0.09046861000199759,
                  "Adj. Volume": 1623868,
                  "_deepnote_index_column": "2018-03-15T00:00:00.000000"
                },
                {
                  "Adj. Close": 1134.42,
                  "HL_PCT": 1.9736958093122363,
                  "PCT_Change": -1.811572250833067,
                  "Adj. Volume": 2654602,
                  "_deepnote_index_column": "2018-03-16T00:00:00.000000"
                },
                {
                  "Adj. Close": 1100.07,
                  "HL_PCT": 1.7544338087576206,
                  "PCT_Change": -1.5826295448038985,
                  "Adj. Volume": 3076349,
                  "_deepnote_index_column": "2018-03-19T00:00:00.000000"
                },
                {
                  "Adj. Close": 1095.8,
                  "HL_PCT": 0.8897609052746853,
                  "PCT_Change": -0.23670793882011437,
                  "Adj. Volume": 2709310,
                  "_deepnote_index_column": "2018-03-20T00:00:00.000000"
                },
                {
                  "Adj. Close": 1094,
                  "HL_PCT": 1.343692870201101,
                  "PCT_Change": 0.1308840623484137,
                  "Adj. Volume": 1990515,
                  "_deepnote_index_column": "2018-03-21T00:00:00.000000"
                },
                {
                  "Adj. Close": 1053.15,
                  "HL_PCT": 2.9217110573042757,
                  "PCT_Change": -2.487014009129536,
                  "Adj. Volume": 3418154,
                  "_deepnote_index_column": "2018-03-22T00:00:00.000000"
                },
                {
                  "Adj. Close": 1026.55,
                  "HL_PCT": 3.9189518289416023,
                  "PCT_Change": -2.3607293341069213,
                  "Adj. Volume": 2413517,
                  "_deepnote_index_column": "2018-03-23T00:00:00.000000"
                },
                {
                  "Adj. Close": 1054.09,
                  "HL_PCT": 0.49141913878322196,
                  "PCT_Change": 0.33219112887873686,
                  "Adj. Volume": 3272409,
                  "_deepnote_index_column": "2018-03-26T00:00:00.000000"
                },
                {
                  "Adj. Close": 1006.94,
                  "HL_PCT": 5.720301110294546,
                  "PCT_Change": -5.353886643481533,
                  "Adj. Volume": 2940957,
                  "_deepnote_index_column": "2018-03-27T00:00:00.000000"
                }
              ]
            },
            "text/plain": "             Adj. Close    HL_PCT  PCT_Change  Adj. Volume\nDate                                                      \n2004-08-19    50.322842  3.712563    0.324968   44659000.0\n2004-08-20    54.322689  0.710922    7.227007   22834300.0\n2004-08-23    54.869377  3.729433   -1.227880   18256100.0\n2004-08-24    52.597363  6.417469   -5.726357   15247300.0\n2004-08-25    53.164113  1.886792    1.183658    9188600.0\n...                 ...       ...         ...          ...\n2018-03-21  1094.000000  1.343693    0.130884    1990515.0\n2018-03-22  1053.150000  2.921711   -2.487014    3418154.0\n2018-03-23  1026.550000  3.918952   -2.360729    2413517.0\n2018-03-26  1054.090000  0.491419    0.332191    3272409.0\n2018-03-27  1006.940000  5.720301   -5.353887    2940957.0\n\n[3424 rows x 4 columns]",
            "text/html": "<div>\n<style scoped>\n    .dataframe tbody tr th:only-of-type {\n        vertical-align: middle;\n    }\n\n    .dataframe tbody tr th {\n        vertical-align: top;\n    }\n\n    .dataframe thead th {\n        text-align: right;\n    }\n</style>\n<table border=\"1\" class=\"dataframe\">\n  <thead>\n    <tr style=\"text-align: right;\">\n      <th></th>\n      <th>Adj. Close</th>\n      <th>HL_PCT</th>\n      <th>PCT_Change</th>\n      <th>Adj. Volume</th>\n    </tr>\n    <tr>\n      <th>Date</th>\n      <th></th>\n      <th></th>\n      <th></th>\n      <th></th>\n    </tr>\n  </thead>\n  <tbody>\n    <tr>\n      <th>2004-08-19</th>\n      <td>50.322842</td>\n      <td>3.712563</td>\n      <td>0.324968</td>\n      <td>44659000.0</td>\n    </tr>\n    <tr>\n      <th>2004-08-20</th>\n      <td>54.322689</td>\n      <td>0.710922</td>\n      <td>7.227007</td>\n      <td>22834300.0</td>\n    </tr>\n    <tr>\n      <th>2004-08-23</th>\n      <td>54.869377</td>\n      <td>3.729433</td>\n      <td>-1.227880</td>\n      <td>18256100.0</td>\n    </tr>\n    <tr>\n      <th>2004-08-24</th>\n      <td>52.597363</td>\n      <td>6.417469</td>\n      <td>-5.726357</td>\n      <td>15247300.0</td>\n    </tr>\n    <tr>\n      <th>2004-08-25</th>\n      <td>53.164113</td>\n      <td>1.886792</td>\n      <td>1.183658</td>\n      <td>9188600.0</td>\n    </tr>\n    <tr>\n      <th>...</th>\n      <td>...</td>\n      <td>...</td>\n      <td>...</td>\n      <td>...</td>\n    </tr>\n    <tr>\n      <th>2018-03-21</th>\n      <td>1094.000000</td>\n      <td>1.343693</td>\n      <td>0.130884</td>\n      <td>1990515.0</td>\n    </tr>\n    <tr>\n      <th>2018-03-22</th>\n      <td>1053.150000</td>\n      <td>2.921711</td>\n      <td>-2.487014</td>\n      <td>3418154.0</td>\n    </tr>\n    <tr>\n      <th>2018-03-23</th>\n      <td>1026.550000</td>\n      <td>3.918952</td>\n      <td>-2.360729</td>\n      <td>2413517.0</td>\n    </tr>\n    <tr>\n      <th>2018-03-26</th>\n      <td>1054.090000</td>\n      <td>0.491419</td>\n      <td>0.332191</td>\n      <td>3272409.0</td>\n    </tr>\n    <tr>\n      <th>2018-03-27</th>\n      <td>1006.940000</td>\n      <td>5.720301</td>\n      <td>-5.353887</td>\n      <td>2940957.0</td>\n    </tr>\n  </tbody>\n</table>\n<p>3424 rows × 4 columns</p>\n</div>"
          },
          "metadata": {}
        }
      ]
    },
    {
      "cell_type": "code",
      "metadata": {
        "cell_id": "00008-d27f6606-b375-49aa-ae7a-94c04117aac4",
        "deepnote_to_be_reexecuted": false,
        "source_hash": "50a009c8",
        "execution_millis": 74,
        "execution_start": 1617277451485,
        "deepnote_cell_type": "code"
      },
      "source": "forecast_col  = 'Adj. Close'\ndf.fillna(-99999, inplace=True)\nforecast_out = int(math.ceil(0.1 * len(df)))\ndf['label'] = df[forecast_col].shift(-forecast_out)\n\ndf.head()",
      "execution_count": 55,
      "outputs": [
        {
          "output_type": "execute_result",
          "execution_count": 55,
          "data": {
            "application/vnd.deepnote.dataframe.v2+json": {
              "row_count": 5,
              "column_count": 5,
              "columns": [
                {
                  "name": "Adj. Close",
                  "dtype": "float64",
                  "stats": {
                    "unique_count": 5,
                    "nan_count": 0,
                    "min": 50.32284179174976,
                    "max": 54.86937650886953,
                    "histogram": [
                      {
                        "bin_start": 50.32284179174976,
                        "bin_end": 50.77749526346174,
                        "count": 1
                      },
                      {
                        "bin_start": 50.77749526346174,
                        "bin_end": 51.232148735173716,
                        "count": 0
                      },
                      {
                        "bin_start": 51.232148735173716,
                        "bin_end": 51.68680220688569,
                        "count": 0
                      },
                      {
                        "bin_start": 51.68680220688569,
                        "bin_end": 52.141455678597666,
                        "count": 0
                      },
                      {
                        "bin_start": 52.141455678597666,
                        "bin_end": 52.596109150309644,
                        "count": 0
                      },
                      {
                        "bin_start": 52.596109150309644,
                        "bin_end": 53.05076262202162,
                        "count": 1
                      },
                      {
                        "bin_start": 53.05076262202162,
                        "bin_end": 53.5054160937336,
                        "count": 1
                      },
                      {
                        "bin_start": 53.5054160937336,
                        "bin_end": 53.96006956544557,
                        "count": 0
                      },
                      {
                        "bin_start": 53.96006956544557,
                        "bin_end": 54.41472303715755,
                        "count": 1
                      },
                      {
                        "bin_start": 54.41472303715755,
                        "bin_end": 54.86937650886953,
                        "count": 1
                      }
                    ]
                  }
                },
                {
                  "name": "HL_PCT",
                  "dtype": "float64",
                  "stats": {
                    "unique_count": 5,
                    "nan_count": 0,
                    "min": 0.7109223525066888,
                    "max": 6.417469247639931,
                    "histogram": [
                      {
                        "bin_start": 0.7109223525066888,
                        "bin_end": 1.281577042020013,
                        "count": 1
                      },
                      {
                        "bin_start": 1.281577042020013,
                        "bin_end": 1.8522317315333372,
                        "count": 0
                      },
                      {
                        "bin_start": 1.8522317315333372,
                        "bin_end": 2.4228864210466616,
                        "count": 1
                      },
                      {
                        "bin_start": 2.4228864210466616,
                        "bin_end": 2.9935411105599856,
                        "count": 0
                      },
                      {
                        "bin_start": 2.9935411105599856,
                        "bin_end": 3.5641958000733096,
                        "count": 0
                      },
                      {
                        "bin_start": 3.5641958000733096,
                        "bin_end": 4.1348504895866345,
                        "count": 2
                      },
                      {
                        "bin_start": 4.1348504895866345,
                        "bin_end": 4.7055051790999585,
                        "count": 0
                      },
                      {
                        "bin_start": 4.7055051790999585,
                        "bin_end": 5.2761598686132825,
                        "count": 0
                      },
                      {
                        "bin_start": 5.2761598686132825,
                        "bin_end": 5.846814558126606,
                        "count": 0
                      },
                      {
                        "bin_start": 5.846814558126606,
                        "bin_end": 6.417469247639931,
                        "count": 1
                      }
                    ]
                  }
                },
                {
                  "name": "PCT_Change",
                  "dtype": "float64",
                  "stats": {
                    "unique_count": 5,
                    "nan_count": 0,
                    "min": -5.72635742538655,
                    "max": 7.227007227007233,
                    "histogram": [
                      {
                        "bin_start": -5.72635742538655,
                        "bin_end": -4.431020960147172,
                        "count": 1
                      },
                      {
                        "bin_start": -4.431020960147172,
                        "bin_end": -3.1356844949077933,
                        "count": 0
                      },
                      {
                        "bin_start": -3.1356844949077933,
                        "bin_end": -1.840348029668415,
                        "count": 0
                      },
                      {
                        "bin_start": -1.840348029668415,
                        "bin_end": -0.5450115644290365,
                        "count": 1
                      },
                      {
                        "bin_start": -0.5450115644290365,
                        "bin_end": 0.7503249008103419,
                        "count": 1
                      },
                      {
                        "bin_start": 0.7503249008103419,
                        "bin_end": 2.0456613660497203,
                        "count": 1
                      },
                      {
                        "bin_start": 2.0456613660497203,
                        "bin_end": 3.3409978312890987,
                        "count": 0
                      },
                      {
                        "bin_start": 3.3409978312890987,
                        "bin_end": 4.636334296528477,
                        "count": 0
                      },
                      {
                        "bin_start": 4.636334296528477,
                        "bin_end": 5.9316707617678555,
                        "count": 0
                      },
                      {
                        "bin_start": 5.9316707617678555,
                        "bin_end": 7.227007227007233,
                        "count": 1
                      }
                    ]
                  }
                },
                {
                  "name": "Adj. Volume",
                  "dtype": "float64",
                  "stats": {
                    "unique_count": 5,
                    "nan_count": 0,
                    "min": 9188600,
                    "max": 44659000,
                    "histogram": [
                      {
                        "bin_start": 9188600,
                        "bin_end": 12735640,
                        "count": 1
                      },
                      {
                        "bin_start": 12735640,
                        "bin_end": 16282680,
                        "count": 1
                      },
                      {
                        "bin_start": 16282680,
                        "bin_end": 19829720,
                        "count": 1
                      },
                      {
                        "bin_start": 19829720,
                        "bin_end": 23376760,
                        "count": 1
                      },
                      {
                        "bin_start": 23376760,
                        "bin_end": 26923800,
                        "count": 0
                      },
                      {
                        "bin_start": 26923800,
                        "bin_end": 30470840,
                        "count": 0
                      },
                      {
                        "bin_start": 30470840,
                        "bin_end": 34017880,
                        "count": 0
                      },
                      {
                        "bin_start": 34017880,
                        "bin_end": 37564920,
                        "count": 0
                      },
                      {
                        "bin_start": 37564920,
                        "bin_end": 41111960,
                        "count": 0
                      },
                      {
                        "bin_start": 41111960,
                        "bin_end": 44659000,
                        "count": 1
                      }
                    ]
                  }
                },
                {
                  "name": "label",
                  "dtype": "float64",
                  "stats": {
                    "unique_count": 5,
                    "nan_count": 0,
                    "min": 208.07229925474965,
                    "max": 223.30933452293482,
                    "histogram": [
                      {
                        "bin_start": 208.07229925474965,
                        "bin_end": 209.59600278156816,
                        "count": 1
                      },
                      {
                        "bin_start": 209.59600278156816,
                        "bin_end": 211.1197063083867,
                        "count": 1
                      },
                      {
                        "bin_start": 211.1197063083867,
                        "bin_end": 212.6434098352052,
                        "count": 0
                      },
                      {
                        "bin_start": 212.6434098352052,
                        "bin_end": 214.1671133620237,
                        "count": 1
                      },
                      {
                        "bin_start": 214.1671133620237,
                        "bin_end": 215.69081688884222,
                        "count": 0
                      },
                      {
                        "bin_start": 215.69081688884222,
                        "bin_end": 217.21452041566076,
                        "count": 0
                      },
                      {
                        "bin_start": 217.21452041566076,
                        "bin_end": 218.73822394247927,
                        "count": 1
                      },
                      {
                        "bin_start": 218.73822394247927,
                        "bin_end": 220.26192746929777,
                        "count": 0
                      },
                      {
                        "bin_start": 220.26192746929777,
                        "bin_end": 221.7856309961163,
                        "count": 0
                      },
                      {
                        "bin_start": 221.7856309961163,
                        "bin_end": 223.30933452293482,
                        "count": 1
                      }
                    ]
                  }
                },
                {
                  "name": "_deepnote_index_column",
                  "dtype": "datetime64[ns]"
                }
              ],
              "rows_top": [
                {
                  "Adj. Close": 50.32284179174976,
                  "HL_PCT": 3.7125629142373224,
                  "PCT_Change": 0.3249675032496586,
                  "Adj. Volume": 44659000,
                  "label": 214.00561483153143,
                  "_deepnote_index_column": "2004-08-19T00:00:00.000000"
                },
                {
                  "Adj. Close": 54.32268893670621,
                  "HL_PCT": 0.7109223525066888,
                  "PCT_Change": 7.227007227007233,
                  "Adj. Volume": 22834300,
                  "label": 210.72548939855147,
                  "_deepnote_index_column": "2004-08-20T00:00:00.000000"
                },
                {
                  "Adj. Close": 54.86937650886953,
                  "HL_PCT": 3.7294332723948815,
                  "PCT_Change": -1.227880101119542,
                  "Adj. Volume": 18256100,
                  "label": 208.07229925474965,
                  "_deepnote_index_column": "2004-08-23T00:00:00.000000"
                },
                {
                  "Adj. Close": 52.597363020888004,
                  "HL_PCT": 6.417469247639931,
                  "PCT_Change": -5.72635742538655,
                  "Adj. Volume": 15247300,
                  "label": 218.2888367271964,
                  "_deepnote_index_column": "2004-08-24T00:00:00.000000"
                },
                {
                  "Adj. Close": 53.164112522305025,
                  "HL_PCT": 1.8867924528301894,
                  "PCT_Change": 1.1836578846888044,
                  "Adj. Volume": 9188600,
                  "label": 223.30933452293482,
                  "_deepnote_index_column": "2004-08-25T00:00:00.000000"
                }
              ],
              "rows_bottom": null
            },
            "text/plain": "            Adj. Close    HL_PCT  PCT_Change  Adj. Volume       label\nDate                                                                 \n2004-08-19   50.322842  3.712563    0.324968   44659000.0  214.005615\n2004-08-20   54.322689  0.710922    7.227007   22834300.0  210.725489\n2004-08-23   54.869377  3.729433   -1.227880   18256100.0  208.072299\n2004-08-24   52.597363  6.417469   -5.726357   15247300.0  218.288837\n2004-08-25   53.164113  1.886792    1.183658    9188600.0  223.309335",
            "text/html": "<div>\n<style scoped>\n    .dataframe tbody tr th:only-of-type {\n        vertical-align: middle;\n    }\n\n    .dataframe tbody tr th {\n        vertical-align: top;\n    }\n\n    .dataframe thead th {\n        text-align: right;\n    }\n</style>\n<table border=\"1\" class=\"dataframe\">\n  <thead>\n    <tr style=\"text-align: right;\">\n      <th></th>\n      <th>Adj. Close</th>\n      <th>HL_PCT</th>\n      <th>PCT_Change</th>\n      <th>Adj. Volume</th>\n      <th>label</th>\n    </tr>\n    <tr>\n      <th>Date</th>\n      <th></th>\n      <th></th>\n      <th></th>\n      <th></th>\n      <th></th>\n    </tr>\n  </thead>\n  <tbody>\n    <tr>\n      <th>2004-08-19</th>\n      <td>50.322842</td>\n      <td>3.712563</td>\n      <td>0.324968</td>\n      <td>44659000.0</td>\n      <td>214.005615</td>\n    </tr>\n    <tr>\n      <th>2004-08-20</th>\n      <td>54.322689</td>\n      <td>0.710922</td>\n      <td>7.227007</td>\n      <td>22834300.0</td>\n      <td>210.725489</td>\n    </tr>\n    <tr>\n      <th>2004-08-23</th>\n      <td>54.869377</td>\n      <td>3.729433</td>\n      <td>-1.227880</td>\n      <td>18256100.0</td>\n      <td>208.072299</td>\n    </tr>\n    <tr>\n      <th>2004-08-24</th>\n      <td>52.597363</td>\n      <td>6.417469</td>\n      <td>-5.726357</td>\n      <td>15247300.0</td>\n      <td>218.288837</td>\n    </tr>\n    <tr>\n      <th>2004-08-25</th>\n      <td>53.164113</td>\n      <td>1.886792</td>\n      <td>1.183658</td>\n      <td>9188600.0</td>\n      <td>223.309335</td>\n    </tr>\n  </tbody>\n</table>\n</div>"
          },
          "metadata": {}
        }
      ]
    },
    {
      "cell_type": "code",
      "metadata": {
        "cell_id": "00009-035d8beb-ca2f-4c57-90ee-f0f51185e0e2",
        "deepnote_to_be_reexecuted": false,
        "source_hash": "a1361e9e",
        "execution_millis": 47,
        "execution_start": 1617277451512,
        "deepnote_cell_type": "code"
      },
      "source": "x = np.array(df.drop(['label'], 1))\nx = preprocessing.scale(x)\nx_lately = x[-forecast_out:]\nx = x[:-forecast_out]\ndf.dropna(inplace=True)\ny = np.array(df['label'])\n\nlen(df)",
      "execution_count": 56,
      "outputs": [
        {
          "output_type": "execute_result",
          "execution_count": 56,
          "data": {
            "text/plain": "3081"
          },
          "metadata": {}
        }
      ]
    },
    {
      "cell_type": "code",
      "metadata": {
        "cell_id": "00010-16ed3829-5570-4cab-9cb6-54cbc4df74b8",
        "deepnote_to_be_reexecuted": false,
        "source_hash": "4b1c1743",
        "execution_millis": 2,
        "execution_start": 1617277451524,
        "deepnote_cell_type": "code"
      },
      "source": "X_lately = preprocessing.scale(x_lately)",
      "execution_count": 57,
      "outputs": []
    },
    {
      "cell_type": "code",
      "metadata": {
        "cell_id": "00011-3e9a8abf-dea5-4a20-9bc4-61dc085dfa29",
        "deepnote_to_be_reexecuted": false,
        "source_hash": "9d13cc71",
        "execution_millis": 5,
        "execution_start": 1617277453220,
        "deepnote_cell_type": "code"
      },
      "source": "print(len(x), len(y))\n",
      "execution_count": 58,
      "outputs": [
        {
          "name": "stdout",
          "text": "3081 3081\n",
          "output_type": "stream"
        }
      ]
    },
    {
      "cell_type": "code",
      "metadata": {
        "cell_id": "00012-052ea532-7080-4357-bf94-3ba8bc9f41f7",
        "deepnote_to_be_reexecuted": false,
        "source_hash": "56416ae",
        "execution_millis": 4,
        "execution_start": 1617277454213,
        "deepnote_cell_type": "code"
      },
      "source": "X_train, X_test, y_train, y_test = train_test_split(x, y, test_size=0.2)",
      "execution_count": 59,
      "outputs": []
    },
    {
      "cell_type": "code",
      "metadata": {
        "cell_id": "00013-34561061-55dc-47e4-a0b6-2f62779cf8e3",
        "deepnote_to_be_reexecuted": false,
        "source_hash": "5fe69470",
        "execution_millis": 17,
        "execution_start": 1617277455541,
        "deepnote_cell_type": "code"
      },
      "source": "clf = LinearRegression(n_jobs=-1)\nclf.fit(X_train, y_train)\nimport pickle\nwith open('linearregression.pickle' , 'wb') as f:\n    pickle.dump(clf, f)\npickle_in = open('linearregression.pickle', 'rb')\nclf = pickle.load(pickle_in)\nAccuracy = clf.score(X_test, y_test)\nAccuracy",
      "execution_count": 60,
      "outputs": [
        {
          "output_type": "execute_result",
          "execution_count": 60,
          "data": {
            "text/plain": "0.8711534799357217"
          },
          "metadata": {}
        }
      ]
    },
    {
      "cell_type": "code",
      "metadata": {
        "cell_id": "00014-3e076a6a-9ccc-4b96-87da-c4a1f459a658",
        "deepnote_to_be_reexecuted": false,
        "source_hash": "832ae8b5",
        "execution_millis": 9,
        "execution_start": 1617277456604,
        "deepnote_cell_type": "code"
      },
      "source": "\nforecast_set = clf.predict(x_lately)\n\nprint(forecast_set, Accuracy, forecast_out)",
      "execution_count": 61,
      "outputs": [
        {
          "name": "stdout",
          "text": "[ 962.84714563  949.20822199  979.30267106  974.29390407  985.55679017\n  979.7965833   984.80840229  987.13035957  977.19572249  974.01304703\n 1004.22327953  993.87264723  978.08589654  960.42019269  962.77910869\n  977.96065463  976.43171851  994.83614255  997.07167768 1015.93906413\n 1012.91145031 1029.56496247 1028.45994416 1024.25581435 1013.94814172\n 1019.45014267 1018.12415316 1013.26056997 1010.56059242 1010.56926251\n 1018.43112799 1007.64413063 1004.35962677  993.6859836  1016.17244011\n 1011.967543   1017.46723203 1040.01819687 1034.87963005 1032.3926817\n 1035.56780989 1034.66640851 1039.63338488 1031.83336937 1032.75624241\n 1035.26387717 1031.72650446 1061.52982592 1061.84851483 1072.42101843\n 1068.70269836 1070.02704373 1032.57566902 1025.00939871 1019.85402077\n 1029.94043744 1027.04581186 1024.37201892 1038.6466038  1038.79870812\n 1034.82309314 1043.85988471 1049.24726367 1048.60004818 1047.42831872\n 1052.16720224 1058.18771754 1062.28540063 1065.7907114  1061.44612583\n 1056.20282248 1062.94105247 1055.3450935  1071.78035157 1062.38350744\n 1059.75966016 1057.57976159 1065.7633581  1067.84720978 1074.90191321\n 1075.17504576 1082.66726926 1082.013793   1083.3123112  1086.47426205\n 1087.2103264  1082.30928565 1074.997942   1065.78196984 1044.85816541\n 1046.19739341 1055.34295462 1053.68142316 1065.60584842 1059.40934346\n 1058.41415574 1075.03225451 1065.30000985 1068.20046418 1060.37788658\n 1051.56161771 1055.23642499 1051.13440466 1053.10623395 1050.44404659\n 1075.93091683 1069.2260531  1070.86244986 1076.31349668 1072.9271903\n 1102.88019252 1115.09794113 1110.32124366 1112.7898014  1160.03117212\n 1170.07406608 1176.16982563 1190.86352168 1196.32071522 1188.49747545\n 1203.3101589  1194.31218466 1190.1254639  1195.87064174 1190.74951455\n 1200.96948366 1203.24047197 1183.75090368 1192.31542827 1195.66127403\n 1205.72964612 1213.14774477 1219.23574994 1247.17765189 1240.65154814\n 1243.91703751 1237.51217161 1234.31045566 1244.87570735 1257.58862373\n 1250.4276984  1251.24851131 1251.35533407 1226.14049207 1204.23510652\n 1215.46333954 1214.15661215 1203.08133859 1194.26683853 1222.46547817\n 1216.52726709 1224.76241258 1220.58229707 1234.95376192 1225.01088459\n 1194.0603787  1204.66325068 1173.99548326 1166.26176513 1153.79712055\n 1170.49858362 1166.87381903 1182.46626531 1192.53089866 1190.53326333\n 1211.22334048 1216.51282193 1218.96633622 1223.29855624 1242.12549436\n 1240.87360943 1239.62833065 1241.6702773  1253.11498526 1210.2831541\n 1206.4806946  1193.57131455 1203.75322673 1186.04949583 1187.47325756\n 1180.25518738 1177.03970965 1180.86153874 1179.98967825 1185.5731703\n 1175.91459016 1156.8997859  1166.11425023 1171.49571358 1172.30092493\n 1184.5437762  1164.68441593 1158.5334331  1152.42542321 1181.50822468\n 1180.89793886 1173.58991316 1165.51408313 1161.61261582 1179.11120548\n 1183.08060516 1197.22409707 1189.51572612 1180.65542149 1174.4095664\n 1187.19738149 1178.26851297 1183.36514721 1180.0453533  1189.66838121\n 1176.15577568 1168.55675218 1162.68074752 1170.01752978 1188.7325882\n 1185.69114119 1183.21462827 1165.88018954 1175.54475088 1212.46655143\n 1208.38068566 1219.18320258 1211.36563177 1213.68100832 1209.89580865\n 1235.82441236 1246.37575803 1243.38055291 1236.52623555 1264.4460353\n 1259.72606057 1261.90636931 1259.58055423 1265.22503737 1265.93033912\n 1251.35014029 1253.80175173 1238.34809217 1232.56243665 1241.03169313\n 1247.16216969 1319.16882915 1295.30623908 1294.91029134 1306.92976056\n 1303.0735682  1312.15321542 1305.65299682 1312.85680549 1307.12994958\n 1303.0532621  1305.2872826  1300.08883455 1295.04722222 1315.02440185\n 1298.29073333 1292.15754982 1314.04419877 1314.38491111 1320.8735086\n 1343.32423217 1335.46281436 1303.00987005 1295.76301679 1286.24598996\n 1271.90452382 1293.98739276 1303.59447239 1310.35214268 1312.56008685\n 1314.7376305  1319.93438386 1312.87701912 1328.10519376 1341.26670977\n 1357.20611559 1347.87770091 1340.32709674 1337.73767455 1333.39813854\n 1328.78234861 1325.15908013 1320.91822522 1315.35416416 1351.06022383\n 1373.97820816 1372.22707576 1389.37567341 1394.21481131 1387.91360467\n 1386.7737941  1387.14264209 1419.39561034 1420.6979664  1419.63318504\n 1416.90582861 1426.65029069 1463.1859243  1468.95130869 1466.05117566\n 1475.03563533 1477.58208761 1487.38211495 1475.5473868  1474.50547083\n 1478.34427121 1397.00951873 1360.87971011 1382.17167092 1330.11002697\n 1286.13951431 1316.29659039 1322.39203258 1322.4276569  1348.8536636\n 1365.68636799 1378.15931406 1393.44917575 1412.34760599 1392.83193642\n 1410.64662479 1430.6992615  1404.01319922 1388.24943087 1354.41420007\n 1367.27454366 1379.49533662 1374.89545182 1402.05306654 1414.79051716\n 1456.44083265 1463.47384842 1440.35791947 1442.3824118  1444.79981867\n 1422.6150779  1378.3225809  1371.72929879 1377.94437252 1327.67042212\n 1308.20533364 1318.19762203 1285.47084909] 0.8711534799357217 343\n",
          "output_type": "stream"
        }
      ]
    },
    {
      "cell_type": "code",
      "metadata": {
        "cell_id": "00015-21b634a9-6ab0-4661-baf9-43688b078410",
        "deepnote_to_be_reexecuted": false,
        "source_hash": "58d2d1c",
        "execution_millis": 3,
        "execution_start": 1617277457596,
        "deepnote_cell_type": "code"
      },
      "source": "df['Forecast'] = np.nan",
      "execution_count": 62,
      "outputs": []
    },
    {
      "cell_type": "code",
      "metadata": {
        "cell_id": "00016-3b534943-5e88-4dee-afb8-0947767d84a4",
        "deepnote_to_be_reexecuted": false,
        "source_hash": "2bed9578",
        "execution_millis": 638,
        "execution_start": 1617277459831,
        "deepnote_cell_type": "code"
      },
      "source": "last_date = df.iloc[-1].name\nlast_unix = last_date.timestamp()\none_day = 86000\nnext_unix = last_unix + one_day\nfor i in forecast_set:\n    next_date = datetime.datetime.fromtimestamp(next_unix)\n    next_unix += one_day\n    df.loc[next_date] = [np.nan for _ in range(len(df.columns) -1)] + [i]",
      "execution_count": 63,
      "outputs": []
    },
    {
      "cell_type": "code",
      "metadata": {
        "cell_id": "00017-001afeac-0a35-4894-9808-759dfa747780",
        "deepnote_to_be_reexecuted": false,
        "source_hash": "7bc5591f",
        "execution_millis": 305,
        "execution_start": 1617277461400,
        "deepnote_cell_type": "code"
      },
      "source": "plt.figure(figsize = (20,10))\ndf['Adj. Close'].plot()\ndf['Forecast'].plot()\nplt.legend(loc=4)\nplt.ylabel('Price')\nplt.show()",
      "execution_count": 64,
      "outputs": [
        {
          "data": {
            "text/plain": "<Figure size 1440x720 with 1 Axes>",
            "image/png": "[encoded data removed]"
          },
          "metadata": {},
          "output_type": "display_data"
        }
      ]
    },
    {
      "cell_type": "markdown",
      "source": "<a style='text-decoration:none;line-height:16px;display:flex;color:#5B5B62;padding:10px;justify-content:end;' href='https://deepnote.com?utm_source=created-in-deepnote-cell&projectId=cf5d7c74-8209-4abb-b75d-35494431ca44' target=\"_blank\">\n<img alt='Created in deepnote.com' style='display:inline;max-height:16px;margin:0px;margin-right:7.5px;' src='data:image/svg+xml;base64,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' > </img>\nCreated in <span style='font-weight:600;margin-left:4px;'>Deepnote</span></a>",
      "metadata": {
        "tags": [],
        "created_in_deepnote_cell": true,
        "deepnote_cell_type": "markdown"
      }
    }
  ],
  "nbformat": 4,
  "nbformat_minor": 4,
  "metadata": {
    "kernelspec": {
      "display_name": "Python 3",
      "language": "python",
      "name": "python3"
    },
    "language_info": {
      "codemirror_mode": {
        "name": "ipython",
        "version": 3
      },
      "file_extension": ".py",
      "mimetype": "text/x-python",
      "name": "python",
      "nbconvert_exporter": "python",
      "pygments_lexer": "ipython3",
      "version": "3.8.6"
    },
    "deepnote_notebook_id": "d1762092-6b27-4ffb-b69d-1c923d8bb005",
    "deepnote": {},
    "deepnote_execution_queue": []
  }
}